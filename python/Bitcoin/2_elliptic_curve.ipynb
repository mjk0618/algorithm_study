{
 "cells": [
  {
   "cell_type": "code",
   "execution_count": 28,
   "metadata": {},
   "outputs": [],
   "source": [
    "#### 타원곡선(Elliptic Curve: EC)의 한 점에 관심을 가짐\n",
    "class Point:\n",
    "    def __init__(self, x, y, a, b):\n",
    "        self.a = a\n",
    "        self.b = b\n",
    "        self.x = x\n",
    "        self.y = y\n",
    "        if self.y ** 2 != self. x ** 3 + a * x + b:\n",
    "            raise ValueError(f'({x}, {y}) is not on the curve.')\n",
    "\n",
    "    def __eq__(self, other):\n",
    "        return self.x == other.x and self.y == other.y \\\n",
    "            and self.a == other.a and self.b == other.b # \\는 줄바꿈\n",
    "\n",
    "    def __ne__(self, other):\n",
    "        return not (self == other)\n",
    "\n",
    "    def __add__(self, other):\n",
    "        if self.a != other.a or self.b != other.b:\n",
    "            raise TypeError(f'Points {self}, {other} are not on the same curve.')\n",
    "        \n",
    "        # Case 0.0: self is the point at infinity, return other\n",
    "        if self.x is None:\n",
    "            return other\n",
    "        \n",
    "        # Case 0.1: other is the point at infinity, return self\n",
    "        if other.x is None:\n",
    "            return self\n",
    "        \n",
    "        # Case 1: Result is point at infinity\n",
    "        if self.x == other.x and self.y != other.y:\n",
    "            return self.__class__(None, None, self.a, self.b)\n",
    "        \n",
    "        # Case 2: x1 != x2\n",
    "        if self.x != other.x:\n",
    "            s = (other.y - self.y) / (other.x - self.x)\n",
    "            x = s ** 2 - self.x - other.x\n",
    "            y = s * (self.x - x) - self.y\n",
    "            return self.__class__(x, y, self.a, self.b)\n",
    "        \n",
    "        # Case 3: x1 == x2\n",
    "        if self.x == other.x and self.y == other.y:\n",
    "            s = (3 * self.x ** 2 + self.a) / 2 * self.y\n",
    "            x = s ** 2 - 2 * self.x\n",
    "            y = s * (self.x - x) - self.y\n",
    "            return self.__class__(x, y, self.a, self.b)\n",
    "\n",
    "        # Case 4: if we are tangent  to the vertical line\n",
    "        if self == other and self.y == 0 * self.x:\n",
    "            return self.__class__(None, None, self.a, self.b)"
   ]
  },
  {
   "cell_type": "code",
   "execution_count": 11,
   "metadata": {},
   "outputs": [],
   "source": [
    "p1 = Point(-1, -1, 5, 7)\n",
    "# p2 = Point(-1, -2, 5, 7) not on the curve!\n",
    "p3 = Point(-1, -1, 5, 7)"
   ]
  },
  {
   "cell_type": "code",
   "execution_count": 16,
   "metadata": {},
   "outputs": [
    {
     "name": "stdout",
     "output_type": "stream",
     "text": [
      "(3.0, -7.0)\n"
     ]
    }
   ],
   "source": [
    "x1, y1 = 2, 5\n",
    "x2, y2 = -1, -1\n",
    "s = y2 - y1 / x2 - x1\n",
    "x3 = s ** 2 - x1 - x2\n",
    "y3 = s * (x1- x3) - y1\n",
    "print(f'({x3}, {y3})')\n"
   ]
  },
  {
   "cell_type": "code",
   "execution_count": 26,
   "metadata": {},
   "outputs": [
    {
     "name": "stdout",
     "output_type": "stream",
     "text": [
      "(18.0, 77.0)\n"
     ]
    }
   ],
   "source": [
    "a, x1, y1 = 5, -1, -1\n",
    "s = (3 * x1 ** 2 + a) / 2 * y1\n",
    "x3 = s ** 2 - 2 * x1\n",
    "y3 = s * (x1 - x3) - y1\n",
    "print(f'({x3}, {y3})')"
   ]
  },
  {
   "cell_type": "code",
   "execution_count": null,
   "metadata": {},
   "outputs": [],
   "source": []
  }
 ],
 "metadata": {
  "kernelspec": {
   "display_name": "Python 3.10.2 64-bit",
   "language": "python",
   "name": "python3"
  },
  "language_info": {
   "codemirror_mode": {
    "name": "ipython",
    "version": 3
   },
   "file_extension": ".py",
   "mimetype": "text/x-python",
   "name": "python",
   "nbconvert_exporter": "python",
   "pygments_lexer": "ipython3",
   "version": "3.10.2"
  },
  "orig_nbformat": 4,
  "vscode": {
   "interpreter": {
    "hash": "bf74378b3249af5359f07a9caa84b7a763805fcaf59590a4dc4a6d39ea6824f2"
   }
  }
 },
 "nbformat": 4,
 "nbformat_minor": 2
}
