{
 "cells": [
  {
   "cell_type": "code",
   "execution_count": 8,
   "metadata": {},
   "outputs": [
    {
     "name": "stdout",
     "output_type": "stream",
     "text": [
      "98\n",
      "98\n",
      "14\n",
      "14\n",
      "112\n",
      "105\n",
      "8\n",
      "8\n",
      "212\n",
      "59\n"
     ]
    }
   ],
   "source": [
    "#### Elliptic Curve Cryptography\n",
    "p_list = [(192, 105), (17, 56), (200, 119), (1, 193), (42, 99)]\n",
    "for p in p_list:\n",
    "    print((p[1] ** 2) % 223)\n",
    "    print((p[0] ** 3 + 7) % 223)"
   ]
  },
  {
   "cell_type": "code",
   "execution_count": 11,
   "metadata": {},
   "outputs": [
    {
     "name": "stdout",
     "output_type": "stream",
     "text": [
      "<ecc.Point object at 0x000001C8084AE0B0>\n"
     ]
    }
   ],
   "source": [
    "from ecc import FieldElement, Point\n",
    "a = FieldElement(num = 0, prime = 223)\n",
    "b = FieldElement(7, 223)\n",
    "x = FieldElement(192, 223)\n",
    "y = FieldElement(105, 223)\n",
    "p1 = Point(x, y, a, b)\n",
    "print(p1)"
   ]
  },
  {
   "cell_type": "code",
   "execution_count": null,
   "metadata": {},
   "outputs": [],
   "source": []
  }
 ],
 "metadata": {
  "kernelspec": {
   "display_name": "Python 3.10.2 64-bit",
   "language": "python",
   "name": "python3"
  },
  "language_info": {
   "codemirror_mode": {
    "name": "ipython",
    "version": 3
   },
   "file_extension": ".py",
   "mimetype": "text/x-python",
   "name": "python",
   "nbconvert_exporter": "python",
   "pygments_lexer": "ipython3",
   "version": "3.10.2"
  },
  "orig_nbformat": 4,
  "vscode": {
   "interpreter": {
    "hash": "bf74378b3249af5359f07a9caa84b7a763805fcaf59590a4dc4a6d39ea6824f2"
   }
  }
 },
 "nbformat": 4,
 "nbformat_minor": 2
}
