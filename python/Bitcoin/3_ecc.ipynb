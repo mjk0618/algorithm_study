{
 "cells": [
  {
   "cell_type": "code",
   "execution_count": 8,
   "metadata": {},
   "outputs": [
    {
     "name": "stdout",
     "output_type": "stream",
     "text": [
      "98\n",
      "98\n",
      "14\n",
      "14\n",
      "112\n",
      "105\n",
      "8\n",
      "8\n",
      "212\n",
      "59\n"
     ]
    }
   ],
   "source": [
    "#### Elliptic Curve Cryptography\n",
    "p_list = [(192, 105), (17, 56), (200, 119), (1, 193), (42, 99)]\n",
    "for p in p_list:\n",
    "    print((p[1] ** 2) % 223)\n",
    "    print((p[0] ** 3 + 7) % 223)"
   ]
  },
  {
   "cell_type": "code",
   "execution_count": 1,
   "metadata": {},
   "outputs": [
    {
     "name": "stdout",
     "output_type": "stream",
     "text": [
      "Point(192,105)_0_7 FieldElement(223)\n"
     ]
    }
   ],
   "source": [
    "from ecc import FieldElement, Point\n",
    "a = FieldElement(num = 0, prime = 223)\n",
    "b = FieldElement(7, 223)\n",
    "x = FieldElement(192, 223)\n",
    "y = FieldElement(105, 223)\n",
    "p1 = Point(x, y, a, b)\n",
    "print(p1)"
   ]
  },
  {
   "cell_type": "code",
   "execution_count": 2,
   "metadata": {},
   "outputs": [],
   "source": [
    "from unittest import TestCase\n",
    "\n",
    "class ECCTest(TestCase):\n",
    "    def test_on_curve(self):\n",
    "        prime = 223\n",
    "        a = FieldElement(0, prime)\n",
    "        b = FieldElement(7, prime)\n",
    "        valid_points = ((192 ,105), (17, 56), (1, 193))\n",
    "        invalid_points = ((200, 119), (42, 99))\n",
    "        for x_raw, y_raw in valid_points:\n",
    "            x = FieldElement(x_raw, prime)\n",
    "            y = FieldElement(y_raw, prime)\n",
    "            Point(x, y, a, b)\n",
    "        for x_raw, y_raw in invalid_points:\n",
    "            x = FieldElement(x_raw, prime)\n",
    "            y = FieldElement(y_raw, prime)\n",
    "            with self.assertRaises(ValueError):\n",
    "                Point(x, y, a, b)"
   ]
  },
  {
   "cell_type": "code",
   "execution_count": 4,
   "metadata": {},
   "outputs": [
    {
     "name": "stderr",
     "output_type": "stream",
     "text": [
      ".\n",
      "----------------------------------------------------------------------\n",
      "Ran 1 test in 0.001s\n",
      "\n",
      "OK\n"
     ]
    }
   ],
   "source": [
    "from helper import run\n",
    "run(ECCTest('test_on_curve'))"
   ]
  },
  {
   "cell_type": "code",
   "execution_count": 4,
   "metadata": {},
   "outputs": [
    {
     "name": "stdout",
     "output_type": "stream",
     "text": [
      "Point(170,142)_0_7 FieldElement(223)\n"
     ]
    }
   ],
   "source": [
    "from ecc import FieldElement, Point\n",
    "prime = 223\n",
    "a = FieldElement(num = 0, prime = prime)\n",
    "b = FieldElement(7, prime)\n",
    "x1 = FieldElement(192, prime)\n",
    "y1 = FieldElement(105, prime)\n",
    "x2 = FieldElement(17, prime)\n",
    "y2 = FieldElement(56, prime)\n",
    "p1 = Point(x1, y1, a, b)\n",
    "p2 = Point(x2, y2, a, b)\n",
    "print(p1 + p2)"
   ]
  },
  {
   "cell_type": "code",
   "execution_count": 4,
   "metadata": {},
   "outputs": [
    {
     "name": "stdout",
     "output_type": "stream",
     "text": [
      "Point(220,181)_0_7 FieldElement(223)\n"
     ]
    }
   ],
   "source": [
    "x1 = FieldElement(170, prime)\n",
    "y1 = FieldElement(142, prime)\n",
    "x2 = FieldElement(60, prime)\n",
    "y2 = FieldElement(139, prime)\n",
    "p1 = Point(x1, y1, a, b)\n",
    "p2 = Point(x2, y2, a, b)\n",
    "print(p1 + p2)"
   ]
  },
  {
   "cell_type": "code",
   "execution_count": 1,
   "metadata": {},
   "outputs": [
    {
     "name": "stdout",
     "output_type": "stream",
     "text": [
      "1 * (47, 71) = (47, 71)\n",
      "2 * (47, 71) = (36, 111)\n",
      "3 * (47, 71) = (15, 137)\n",
      "4 * (47, 71) = (194, 51)\n",
      "5 * (47, 71) = (126, 96)\n",
      "6 * (47, 71) = (139, 137)\n",
      "7 * (47, 71) = (92, 47)\n",
      "8 * (47, 71) = (116, 55)\n",
      "9 * (47, 71) = (69, 86)\n",
      "10 * (47, 71) = (154, 150)\n",
      "11 * (47, 71) = (154, 73)\n",
      "12 * (47, 71) = (69, 137)\n",
      "13 * (47, 71) = (116, 168)\n",
      "14 * (47, 71) = (92, 176)\n",
      "15 * (47, 71) = (139, 86)\n",
      "16 * (47, 71) = (126, 127)\n",
      "17 * (47, 71) = (194, 172)\n",
      "18 * (47, 71) = (15, 86)\n",
      "19 * (47, 71) = (36, 112)\n",
      "20 * (47, 71) = (47, 152)\n"
     ]
    }
   ],
   "source": [
    "# 점 덧셈은 비선형이고 계산하기 쉽지 않음\n",
    "# 스칼라 곱셈은 어렵지 않지만 나눗셈은 그렇지 않다\n",
    "# 이를 이산로그문제(discrete log problem)이라 하고, 타원곡선 암호 방법의 원리임\n",
    "\n",
    "# 스칼라 곱셈의 다른 성질은 어떤 점에 스칼라 값을 계속 증가시키면서 곱하면 무한원점(point at infinity)에 도달한다는 것\n",
    "from ecc import FieldElement, Point\n",
    "prime = 223\n",
    "a = FieldElement(num = 0, prime = prime)\n",
    "b = FieldElement(7, prime)\n",
    "x = FieldElement(47, prime)\n",
    "y = FieldElement(71, prime)\n",
    "p = Point(x, y, a, b)\n",
    "for s in range(1, 21):\n",
    "    result = s * p\n",
    "    print(f'{s} * (47, 71) = ({result.x.num}, {result.y.num})')"
   ]
  },
  {
   "cell_type": "code",
   "execution_count": null,
   "metadata": {},
   "outputs": [],
   "source": []
  }
 ],
 "metadata": {
  "kernelspec": {
   "display_name": "Python 3.10.2 64-bit",
   "language": "python",
   "name": "python3"
  },
  "language_info": {
   "codemirror_mode": {
    "name": "ipython",
    "version": 3
   },
   "file_extension": ".py",
   "mimetype": "text/x-python",
   "name": "python",
   "nbconvert_exporter": "python",
   "pygments_lexer": "ipython3",
   "version": "3.10.2"
  },
  "orig_nbformat": 4,
  "vscode": {
   "interpreter": {
    "hash": "bf74378b3249af5359f07a9caa84b7a763805fcaf59590a4dc4a6d39ea6824f2"
   }
  }
 },
 "nbformat": 4,
 "nbformat_minor": 2
}
