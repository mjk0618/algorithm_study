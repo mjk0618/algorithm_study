{
 "cells": [
  {
   "cell_type": "code",
   "execution_count": 8,
   "metadata": {},
   "outputs": [
    {
     "name": "stdout",
     "output_type": "stream",
     "text": [
      "98\n",
      "98\n",
      "14\n",
      "14\n",
      "112\n",
      "105\n",
      "8\n",
      "8\n",
      "212\n",
      "59\n"
     ]
    }
   ],
   "source": [
    "#### Elliptic Curve Cryptography\n",
    "p_list = [(192, 105), (17, 56), (200, 119), (1, 193), (42, 99)]\n",
    "for p in p_list:\n",
    "    print((p[1] ** 2) % 223)\n",
    "    print((p[0] ** 3 + 7) % 223)"
   ]
  },
  {
   "cell_type": "code",
   "execution_count": 1,
   "metadata": {},
   "outputs": [
    {
     "name": "stdout",
     "output_type": "stream",
     "text": [
      "Point(192,105)_0_7 FieldElement(223)\n"
     ]
    }
   ],
   "source": [
    "from ecc import FieldElement, Point\n",
    "a = FieldElement(num = 0, prime = 223)\n",
    "b = FieldElement(7, 223)\n",
    "x = FieldElement(192, 223)\n",
    "y = FieldElement(105, 223)\n",
    "p1 = Point(x, y, a, b)\n",
    "print(p1)"
   ]
  },
  {
   "cell_type": "code",
   "execution_count": 2,
   "metadata": {},
   "outputs": [],
   "source": [
    "from unittest import TestCase\n",
    "\n",
    "class ECCTest(TestCase):\n",
    "    def test_on_curve(self):\n",
    "        prime = 223\n",
    "        a = FieldElement(0, prime)\n",
    "        b = FieldElement(7, prime)\n",
    "        valid_points = ((192 ,105), (17, 56), (1, 193))\n",
    "        invalid_points = ((200, 119), (42, 99))\n",
    "        for x_raw, y_raw in valid_points:\n",
    "            x = FieldElement(x_raw, prime)\n",
    "            y = FieldElement(y_raw, prime)\n",
    "            Point(x, y, a, b)\n",
    "        for x_raw, y_raw in invalid_points:\n",
    "            x = FieldElement(x_raw, prime)\n",
    "            y = FieldElement(y_raw, prime)\n",
    "            with self.assertRaises(ValueError):\n",
    "                Point(x, y, a, b)"
   ]
  },
  {
   "cell_type": "code",
   "execution_count": 4,
   "metadata": {},
   "outputs": [
    {
     "name": "stderr",
     "output_type": "stream",
     "text": [
      ".\n",
      "----------------------------------------------------------------------\n",
      "Ran 1 test in 0.001s\n",
      "\n",
      "OK\n"
     ]
    }
   ],
   "source": [
    "from helper import run\n",
    "run(ECCTest('test_on_curve'))"
   ]
  },
  {
   "cell_type": "code",
   "execution_count": 4,
   "metadata": {},
   "outputs": [
    {
     "name": "stdout",
     "output_type": "stream",
     "text": [
      "Point(170,142)_0_7 FieldElement(223)\n"
     ]
    }
   ],
   "source": [
    "from ecc import FieldElement, Point\n",
    "prime = 223\n",
    "a = FieldElement(num = 0, prime = prime)\n",
    "b = FieldElement(7, prime)\n",
    "x1 = FieldElement(192, prime)\n",
    "y1 = FieldElement(105, prime)\n",
    "x2 = FieldElement(17, prime)\n",
    "y2 = FieldElement(56, prime)\n",
    "p1 = Point(x1, y1, a, b)\n",
    "p2 = Point(x2, y2, a, b)\n",
    "print(p1 + p2)"
   ]
  },
  {
   "cell_type": "code",
   "execution_count": 4,
   "metadata": {},
   "outputs": [
    {
     "name": "stdout",
     "output_type": "stream",
     "text": [
      "Point(220,181)_0_7 FieldElement(223)\n"
     ]
    }
   ],
   "source": [
    "x1 = FieldElement(170, prime)\n",
    "y1 = FieldElement(142, prime)\n",
    "x2 = FieldElement(60, prime)\n",
    "y2 = FieldElement(139, prime)\n",
    "p1 = Point(x1, y1, a, b)\n",
    "p2 = Point(x2, y2, a, b)\n",
    "print(p1 + p2)"
   ]
  },
  {
   "cell_type": "code",
   "execution_count": 2,
   "metadata": {},
   "outputs": [
    {
     "name": "stdout",
     "output_type": "stream",
     "text": [
      "1 * (47, 71) = (47, 71)\n",
      "2 * (47, 71) = (36, 111)\n",
      "3 * (47, 71) = (15, 137)\n",
      "4 * (47, 71) = (194, 51)\n",
      "5 * (47, 71) = (126, 96)\n",
      "6 * (47, 71) = (139, 137)\n",
      "7 * (47, 71) = (92, 47)\n",
      "8 * (47, 71) = (116, 55)\n",
      "9 * (47, 71) = (69, 86)\n",
      "10 * (47, 71) = (154, 150)\n",
      "11 * (47, 71) = (154, 73)\n",
      "12 * (47, 71) = (69, 137)\n",
      "13 * (47, 71) = (116, 168)\n",
      "14 * (47, 71) = (92, 176)\n",
      "15 * (47, 71) = (139, 86)\n",
      "16 * (47, 71) = (126, 127)\n",
      "17 * (47, 71) = (194, 172)\n",
      "18 * (47, 71) = (15, 86)\n",
      "19 * (47, 71) = (36, 112)\n",
      "20 * (47, 71) = (47, 152)\n"
     ]
    }
   ],
   "source": [
    "# 점 덧셈은 비선형이고 계산하기 쉽지 않음\n",
    "# 스칼라 곱셈은 어렵지 않지만 나눗셈은 그렇지 않다\n",
    "# 이를 이산로그문제(discrete log problem)이라 하고, 타원곡선 암호 방법의 원리임\n",
    "\n",
    "# 스칼라 곱셈의 다른 성질은 어떤 점에 스칼라 값을 계속 증가시키면서 곱하면 무한원점(point at infinity)에 도달한다는 것\n",
    "from ecc import FieldElement, Point\n",
    "prime = 223\n",
    "a = FieldElement(num = 0, prime = prime)\n",
    "b = FieldElement(7, prime)\n",
    "x = FieldElement(47, prime)\n",
    "y = FieldElement(71, prime)\n",
    "p = Point(x, y, a, b)\n",
    "for s in range(1, 21):\n",
    "    result = s * p\n",
    "    print(f'{s} * (47, 71) = ({result.x.num}, {result.y.num})')"
   ]
  },
  {
   "cell_type": "code",
   "execution_count": 6,
   "metadata": {},
   "outputs": [
    {
     "name": "stdout",
     "output_type": "stream",
     "text": [
      "Point(139,86)_0_7 FieldElement(223) 2\n",
      "Point(69,137)_0_7 FieldElement(223) 3\n",
      "Point(69,86)_0_7 FieldElement(223) 4\n",
      "Point(139,137)_0_7 FieldElement(223) 5\n",
      "Point(15,137)_0_7 FieldElement(223) 6\n",
      "Point(infinity) 7\n"
     ]
    }
   ],
   "source": [
    "# 유한순환군 (finite cyclic group)\n",
    "# 유한체에서 정의된 타원곡선 위 한 점에 스칼라 값을 곱해서 생성, 이 한 점을 생성점(generator point)라고 함\n",
    "\n",
    "prime = 223\n",
    "a = FieldElement(0, prime)\n",
    "b = FieldElement(7, prime)\n",
    "x = FieldElement(15, prime)\n",
    "y = FieldElement(86 ,prime)\n",
    "p = Point(x, y, a, b)\n",
    "inf = Point(None, None, a, b)\n",
    "product = p\n",
    "count = 1\n",
    "while product != inf:\n",
    "    product += p\n",
    "    count += 1\n",
    "    print(product, count)"
   ]
  },
  {
   "cell_type": "code",
   "execution_count": 8,
   "metadata": {},
   "outputs": [
    {
     "name": "stdout",
     "output_type": "stream",
     "text": [
      "Point(infinity)\n"
     ]
    }
   ],
   "source": [
    "gx = 0x79be667ef9dcbbac55a06295ce870b07029bfcdb2dce28d959f2815b16f81798\n",
    "gy = 0x483ada7726a3c4655da4fbfc0e1108a8fd17b448a68554199c47d08ffb10d4b8\n",
    "# p는 유한체의 위수\n",
    "p = 2 ** 256 - 2 ** 32 - 977\n",
    "# n은 군의 위수\n",
    "n = 0xfffffffffffffffffffffffffffffffebaaedce6af48a03bbfd25e8cd0364141\n",
    "x = FieldElement(gx, p)\n",
    "y = FieldElement(gy, p)\n",
    "seven = FieldElement(7, p)\n",
    "zero = FieldElement(0, p)\n",
    "G = Point(x, y, zero, seven)\n",
    "print(n * G)"
   ]
  },
  {
   "cell_type": "code",
   "execution_count": 10,
   "metadata": {},
   "outputs": [],
   "source": [
    "P = 2 ** 256 - 2 ** 32 - 977\n",
    "\n",
    "class S256Field(FieldElement):\n",
    "\n",
    "    def __init__(self, num, prime=None):\n",
    "        super().__init__(num = num, prime = P)\n",
    "\n",
    "    def __repr__(self):\n",
    "        return f'{(self.num).zfill(64):x}'"
   ]
  },
  {
   "cell_type": "code",
   "execution_count": 11,
   "metadata": {},
   "outputs": [],
   "source": [
    "A = 0\n",
    "B = 7\n",
    "N = 0xfffffffffffffffffffffffffffffffebaaedce6af48a03bbfd25e8cd0364141\n",
    "\n",
    "\n",
    "class S256Point(Point):\n",
    "\n",
    "    def __init__(self, x, y, a=None, b=None):\n",
    "        a, b = S256Field(A), S256Field(B)\n",
    "        if type(x) == int:\n",
    "            super().__init__(x = S256Field(x), y = S256Field(y), a = a, b = b)\n",
    "        else:\n",
    "            super().__init__(x = x, y = y, a = a, b = b)\n",
    "\n",
    "    def __rmul__(self, coefficient):\n",
    "        coef = coefficient % N\n",
    "        return super().__rmul__(coef)\n",
    "\n",
    "G = S256Point(\n",
    "    0x79be667ef9dcbbac55a06295ce870b07029bfcdb2dce28d959f2815b16f81798,\n",
    "    0x483ada7726a3c4655da4fbfc0e1108a8fd17b448a68554199c47d08ffb10d4b8\n",
    ")"
   ]
  },
  {
   "cell_type": "code",
   "execution_count": 12,
   "metadata": {},
   "outputs": [
    {
     "name": "stdout",
     "output_type": "stream",
     "text": [
      "Point(infinity)\n"
     ]
    }
   ],
   "source": [
    "print(N*G)"
   ]
  },
  {
   "cell_type": "code",
   "execution_count": 6,
   "metadata": {},
   "outputs": [
    {
     "name": "stdout",
     "output_type": "stream",
     "text": [
      "True\n"
     ]
    }
   ],
   "source": [
    "# ECDSA(Elliptic Curve Digital Signature Algorithm): 타원곡선 디지털 서명 알고리즘\n",
    "from ecc import S256Point, G, N\n",
    "z = 0xbc62d4b80d9e36da29c16c5d4d9f11731f36052c72401a76c23c0fb5a9b74423\n",
    "r = 0x37206a0610995c58074999cb9767b87af4c4978db68c06e8e6e81d282047a7c6\n",
    "s = 0x8ca63759c1157ebeaec0d03cecca119fc9a75bf8e6d0fa65c841c8e2738cdaec\n",
    "px = 0x04519fac3d910ca7e7138f7013706f619fa8f033e6ec6e09370ea38cee6a7574\n",
    "py = 0x82b51eab8c27c66e26c858a079bcdf4f1ada34cec420cafc7eac1a42216fb6c4\n",
    "point = S256Point(px, py)\n",
    "s_inv = pow(s, N-2, N)\n",
    "u = z * s_inv % N\n",
    "v = r * s_inv % N\n",
    "print((u * G + v * point).x.num == r)\n",
    "\n",
    "# u = z / s, v = r / s\n",
    "# uG + vP = (r,y).x 즉 R의 x좌표와 동일한지 확인하여 서명 검증"
   ]
  },
  {
   "cell_type": "code",
   "execution_count": 12,
   "metadata": {},
   "outputs": [
    {
     "name": "stdout",
     "output_type": "stream",
     "text": [
      "True\n"
     ]
    }
   ],
   "source": [
    "from ecc import S256Point, G, N\n",
    "point = S256Point(\n",
    "    0x887387e452b8eacc4acfde10d9aaf7f6d9a0f975aabb10d006e4da568744d06c,\n",
    "    0x61de6d95231cd89026e286df3b6ae4a894a3378e393e93a0f45b666329a0ae34)\n",
    "z = 0xec208baa0fc1c19f708a9ca96fdeff3ac3f230bb4a7ba4aede4942ad003c0f60\n",
    "r = 0xac8d1c87e51d0d441be8b3dd5b05c8795b48875dffe00b7ffcfac23010d3a395\n",
    "s = 0x68342ceff8935ededd102dd876ffd6ba72d6a427a3edb13d26eb0781cb423c4\n",
    "u = z * pow(s, N - 2, N) % N\n",
    "v = r * pow(s, N - 2, N) % N\n",
    "print((u * G + v * point).x.num == r)"
   ]
  },
  {
   "cell_type": "code",
   "execution_count": 13,
   "metadata": {},
   "outputs": [],
   "source": [
    "class Signature:\n",
    "\n",
    "    def __init__(self, r, s):\n",
    "        self.r = r\n",
    "        self.s = s\n",
    "    \n",
    "    def __repr(self):\n",
    "        return f'Signature({self.r:x}, {self.s:x})'"
   ]
  },
  {
   "cell_type": "code",
   "execution_count": 1,
   "metadata": {},
   "outputs": [
    {
     "name": "stdout",
     "output_type": "stream",
     "text": [
      "S256Point(028d003eab2e428d11983f3e97c3fa0addf3b42740df0d211795ffb3be2f6c52, 0ae987b9ec6ea159c78cb2a937ed89096fb218d9e7594f02b547526d8cd309e2)\n",
      "0x231c6f3d980a6b0fb7152f85cee7eb52bf92433d9919b9c5218cb08e79cce78\n",
      "0x2b698a0f0a4041b77e63488ad48c23e8e8838dd1fb7520408b121697b782ef22\n",
      "0xbb14e602ef9e3f872e25fad328466b34e6734b7a0fcd58b1eb635447ffae8cb9\n"
     ]
    }
   ],
   "source": [
    "from helper import hash256\n",
    "from ecc import S256Point, G, N\n",
    "e = int.from_bytes(hash256(b'my secret'), 'big')\n",
    "z = int.from_bytes(hash256(b'my message'), 'big')\n",
    "k = 1234567890\n",
    "r = (k * G).x.num\n",
    "k_inv = pow(k, N-2, N)\n",
    "s = (z + r * e) * k_inv % N\n",
    "point = e * G\n",
    "print(point)\n",
    "print(hex(z))\n",
    "print(hex(r))\n",
    "print(hex(s))"
   ]
  },
  {
   "cell_type": "code",
   "execution_count": 4,
   "metadata": {},
   "outputs": [
    {
     "name": "stdout",
     "output_type": "stream",
     "text": [
      "S256Point(f01d6b9018ab421dd410404cb869072065522bf85734008f105cf385a023a80f, 0eba29d0f0c5408ed681984dc525982abefccd9f7ff01dd26da4999cf3f6a295)\n",
      "0x969f6056aa26f7d2795fd013fe88868d09c9f6aed96965016e1936ae47060d48\n",
      "0x2b698a0f0a4041b77e63488ad48c23e8e8838dd1fb7520408b121697b782ef22\n",
      "0x1dbc63bfef4416705e602a7b564161167076d8b20990a0f26f316cff2cb0bc1a\n"
     ]
    }
   ],
   "source": [
    "e = 12345\n",
    "z = int.from_bytes(hash256(b'Programming Bitcoin!'), 'big')\n",
    "k = 1234567890\n",
    "r = (k * G).x.num\n",
    "k_inv = pow(k, N - 2 , N)\n",
    "s = (z + r * e) * k_inv % N\n",
    "point = e * G\n",
    "print(point)\n",
    "print(hex(z))\n",
    "print(hex(r))\n",
    "print(hex(s))"
   ]
  },
  {
   "cell_type": "code",
   "execution_count": 5,
   "metadata": {},
   "outputs": [],
   "source": [
    "from random import randint\n",
    "class PrivateKey:\n",
    "\n",
    "    def __init__(self, secret):\n",
    "        self.secret = secret\n",
    "        self.point = secret * G\n",
    "\n",
    "    def hex(self):\n",
    "        return f'{self.secret:x}'.zfill(64)\n",
    "\n",
    "    def sign(self, z):\n",
    "        k = randint(0, N)\n",
    "        r = (k * G).x.num\n",
    "        k_inv = pow(k, N - 2, N)\n",
    "        s = (z + r * self.secret) * k_inv % N\n",
    "        if s > N/2:\n",
    "            s = N - s\n",
    "        return Signature(r, s)\n"
   ]
  },
  {
   "cell_type": "code",
   "execution_count": null,
   "metadata": {},
   "outputs": [],
   "source": []
  }
 ],
 "metadata": {
  "kernelspec": {
   "display_name": "Python 3.10.2 64-bit",
   "language": "python",
   "name": "python3"
  },
  "language_info": {
   "codemirror_mode": {
    "name": "ipython",
    "version": 3
   },
   "file_extension": ".py",
   "mimetype": "text/x-python",
   "name": "python",
   "nbconvert_exporter": "python",
   "pygments_lexer": "ipython3",
   "version": "3.10.2"
  },
  "orig_nbformat": 4,
  "vscode": {
   "interpreter": {
    "hash": "bf74378b3249af5359f07a9caa84b7a763805fcaf59590a4dc4a6d39ea6824f2"
   }
  }
 },
 "nbformat": 4,
 "nbformat_minor": 2
}
