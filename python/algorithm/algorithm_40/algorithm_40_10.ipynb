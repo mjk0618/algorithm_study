{
 "cells": [
  {
   "cell_type": "code",
   "execution_count": 2,
   "metadata": {},
   "outputs": [
    {
     "data": {
      "text/html": [
       "<style>#sk-container-id-1 {color: black;background-color: white;}#sk-container-id-1 pre{padding: 0;}#sk-container-id-1 div.sk-toggleable {background-color: white;}#sk-container-id-1 label.sk-toggleable__label {cursor: pointer;display: block;width: 100%;margin-bottom: 0;padding: 0.3em;box-sizing: border-box;text-align: center;}#sk-container-id-1 label.sk-toggleable__label-arrow:before {content: \"▸\";float: left;margin-right: 0.25em;color: #696969;}#sk-container-id-1 label.sk-toggleable__label-arrow:hover:before {color: black;}#sk-container-id-1 div.sk-estimator:hover label.sk-toggleable__label-arrow:before {color: black;}#sk-container-id-1 div.sk-toggleable__content {max-height: 0;max-width: 0;overflow: hidden;text-align: left;background-color: #f0f8ff;}#sk-container-id-1 div.sk-toggleable__content pre {margin: 0.2em;color: black;border-radius: 0.25em;background-color: #f0f8ff;}#sk-container-id-1 input.sk-toggleable__control:checked~div.sk-toggleable__content {max-height: 200px;max-width: 100%;overflow: auto;}#sk-container-id-1 input.sk-toggleable__control:checked~label.sk-toggleable__label-arrow:before {content: \"▾\";}#sk-container-id-1 div.sk-estimator input.sk-toggleable__control:checked~label.sk-toggleable__label {background-color: #d4ebff;}#sk-container-id-1 div.sk-label input.sk-toggleable__control:checked~label.sk-toggleable__label {background-color: #d4ebff;}#sk-container-id-1 input.sk-hidden--visually {border: 0;clip: rect(1px 1px 1px 1px);clip: rect(1px, 1px, 1px, 1px);height: 1px;margin: -1px;overflow: hidden;padding: 0;position: absolute;width: 1px;}#sk-container-id-1 div.sk-estimator {font-family: monospace;background-color: #f0f8ff;border: 1px dotted black;border-radius: 0.25em;box-sizing: border-box;margin-bottom: 0.5em;}#sk-container-id-1 div.sk-estimator:hover {background-color: #d4ebff;}#sk-container-id-1 div.sk-parallel-item::after {content: \"\";width: 100%;border-bottom: 1px solid gray;flex-grow: 1;}#sk-container-id-1 div.sk-label:hover label.sk-toggleable__label {background-color: #d4ebff;}#sk-container-id-1 div.sk-serial::before {content: \"\";position: absolute;border-left: 1px solid gray;box-sizing: border-box;top: 0;bottom: 0;left: 50%;z-index: 0;}#sk-container-id-1 div.sk-serial {display: flex;flex-direction: column;align-items: center;background-color: white;padding-right: 0.2em;padding-left: 0.2em;position: relative;}#sk-container-id-1 div.sk-item {position: relative;z-index: 1;}#sk-container-id-1 div.sk-parallel {display: flex;align-items: stretch;justify-content: center;background-color: white;position: relative;}#sk-container-id-1 div.sk-item::before, #sk-container-id-1 div.sk-parallel-item::before {content: \"\";position: absolute;border-left: 1px solid gray;box-sizing: border-box;top: 0;bottom: 0;left: 50%;z-index: -1;}#sk-container-id-1 div.sk-parallel-item {display: flex;flex-direction: column;z-index: 1;position: relative;background-color: white;}#sk-container-id-1 div.sk-parallel-item:first-child::after {align-self: flex-end;width: 50%;}#sk-container-id-1 div.sk-parallel-item:last-child::after {align-self: flex-start;width: 50%;}#sk-container-id-1 div.sk-parallel-item:only-child::after {width: 0;}#sk-container-id-1 div.sk-dashed-wrapped {border: 1px dashed gray;margin: 0 0.4em 0.5em 0.4em;box-sizing: border-box;padding-bottom: 0.4em;background-color: white;}#sk-container-id-1 div.sk-label label {font-family: monospace;font-weight: bold;display: inline-block;line-height: 1.2em;}#sk-container-id-1 div.sk-label-container {text-align: center;}#sk-container-id-1 div.sk-container {/* jupyter's `normalize.less` sets `[hidden] { display: none; }` but bootstrap.min.css set `[hidden] { display: none !important; }` so we also need the `!important` here to be able to override the default hidden behavior on the sphinx rendered scikit-learn.org. See: https://github.com/scikit-learn/scikit-learn/issues/21755 */display: inline-block !important;position: relative;}#sk-container-id-1 div.sk-text-repr-fallback {display: none;}</style><div id=\"sk-container-id-1\" class=\"sk-top-container\"><div class=\"sk-text-repr-fallback\"><pre>PCA(n_components=4)</pre><b>In a Jupyter environment, please rerun this cell to show the HTML representation or trust the notebook. <br />On GitHub, the HTML representation is unable to render, please try loading this page with nbviewer.org.</b></div><div class=\"sk-container\" hidden><div class=\"sk-item\"><div class=\"sk-estimator sk-toggleable\"><input class=\"sk-toggleable__control sk-hidden--visually\" id=\"sk-estimator-id-1\" type=\"checkbox\" checked><label for=\"sk-estimator-id-1\" class=\"sk-toggleable__label sk-toggleable__label-arrow\">PCA</label><div class=\"sk-toggleable__content\"><pre>PCA(n_components=4)</pre></div></div></div></div></div>"
      ],
      "text/plain": [
       "PCA(n_components=4)"
      ]
     },
     "execution_count": 2,
     "metadata": {},
     "output_type": "execute_result"
    }
   ],
   "source": [
    "from sklearn.decomposition import PCA\n",
    "import pandas as pd\n",
    "iris = pd.read_csv('iris.csv')\n",
    "X = iris.drop('Species', axis=1)\n",
    "pca = PCA(n_components=4)\n",
    "pca.fit(X)"
   ]
  },
  {
   "cell_type": "code",
   "execution_count": 3,
   "metadata": {},
   "outputs": [
    {
     "data": {
      "text/html": [
       "<div>\n",
       "<style scoped>\n",
       "    .dataframe tbody tr th:only-of-type {\n",
       "        vertical-align: middle;\n",
       "    }\n",
       "\n",
       "    .dataframe tbody tr th {\n",
       "        vertical-align: top;\n",
       "    }\n",
       "\n",
       "    .dataframe thead th {\n",
       "        text-align: right;\n",
       "    }\n",
       "</style>\n",
       "<table border=\"1\" class=\"dataframe\">\n",
       "  <thead>\n",
       "    <tr style=\"text-align: right;\">\n",
       "      <th></th>\n",
       "      <th>Sepal.Length</th>\n",
       "      <th>Sepal.Width</th>\n",
       "      <th>Petal.Length</th>\n",
       "      <th>Petal.Width</th>\n",
       "    </tr>\n",
       "  </thead>\n",
       "  <tbody>\n",
       "    <tr>\n",
       "      <th>0</th>\n",
       "      <td>0.361387</td>\n",
       "      <td>-0.084523</td>\n",
       "      <td>0.856671</td>\n",
       "      <td>0.358289</td>\n",
       "    </tr>\n",
       "    <tr>\n",
       "      <th>1</th>\n",
       "      <td>0.656589</td>\n",
       "      <td>0.730161</td>\n",
       "      <td>-0.173373</td>\n",
       "      <td>-0.075481</td>\n",
       "    </tr>\n",
       "    <tr>\n",
       "      <th>2</th>\n",
       "      <td>-0.582030</td>\n",
       "      <td>0.597911</td>\n",
       "      <td>0.076236</td>\n",
       "      <td>0.545831</td>\n",
       "    </tr>\n",
       "    <tr>\n",
       "      <th>3</th>\n",
       "      <td>-0.315487</td>\n",
       "      <td>0.319723</td>\n",
       "      <td>0.479839</td>\n",
       "      <td>-0.753657</td>\n",
       "    </tr>\n",
       "  </tbody>\n",
       "</table>\n",
       "</div>"
      ],
      "text/plain": [
       "   Sepal.Length  Sepal.Width  Petal.Length  Petal.Width\n",
       "0      0.361387    -0.084523      0.856671     0.358289\n",
       "1      0.656589     0.730161     -0.173373    -0.075481\n",
       "2     -0.582030     0.597911      0.076236     0.545831\n",
       "3     -0.315487     0.319723      0.479839    -0.753657"
      ]
     },
     "execution_count": 3,
     "metadata": {},
     "output_type": "execute_result"
    }
   ],
   "source": [
    "pca_df=(pd.DataFrame(pca.components_, columns=X.columns))\n",
    "pca_df"
   ]
  },
  {
   "cell_type": "code",
   "execution_count": 9,
   "metadata": {},
   "outputs": [],
   "source": [
    "X['PC1'] = X['Sepal.Length'] * pca_df['Sepal.Length'][0] + X['Sepal.Width'] * pca_df['Sepal.Width'][0] + X['Petal.Length'] * pca_df['Petal.Length'][0] + X['Petal.Width'] * pca_df['Petal.Width'][0]\n",
    "X['PC2'] = X['Sepal.Length'] * pca_df['Sepal.Length'][1] + X['Sepal.Width'] * pca_df['Sepal.Width'][1] + X['Petal.Length'] * pca_df['Petal.Length'][1] + X['Petal.Width'] * pca_df['Petal.Width'][1]\n",
    "X['PC3'] = X['Sepal.Length'] * pca_df['Sepal.Length'][2] + X['Sepal.Width'] * pca_df['Sepal.Width'][2] + X['Petal.Length'] * pca_df['Petal.Length'][2] + X['Petal.Width'] * pca_df['Petal.Width'][2]\n",
    "X['PC4'] = X['Sepal.Length'] * pca_df['Sepal.Length'][3] + X['Sepal.Width'] * pca_df['Sepal.Width'][3] + X['Petal.Length'] * pca_df['Petal.Length'][3] + X['Petal.Width'] * pca_df['Petal.Width'][3]"
   ]
  },
  {
   "cell_type": "code",
   "execution_count": 8,
   "metadata": {},
   "outputs": [
    {
     "name": "stdout",
     "output_type": "stream",
     "text": [
      "[0.92461872 0.05306648 0.01710261 0.00521218]\n"
     ]
    }
   ],
   "source": [
    "print(pca.explained_variance_ratio_)"
   ]
  },
  {
   "cell_type": "code",
   "execution_count": 10,
   "metadata": {},
   "outputs": [
    {
     "name": "stdout",
     "output_type": "stream",
     "text": [
      "Collecting pyfpgrowth\n",
      "  Downloading pyfpgrowth-1.0.tar.gz (1.6 MB)\n",
      "     ---------------------------------------- 1.6/1.6 MB 25.9 MB/s eta 0:00:00\n",
      "  Preparing metadata (setup.py): started\n",
      "  Preparing metadata (setup.py): finished with status 'done'\n",
      "Using legacy 'setup.py install' for pyfpgrowth, since package 'wheel' is not installed.\n",
      "Installing collected packages: pyfpgrowth\n",
      "  Running setup.py install for pyfpgrowth: started\n",
      "  Running setup.py install for pyfpgrowth: finished with status 'done'\n",
      "Successfully installed pyfpgrowth-1.0\n"
     ]
    }
   ],
   "source": [
    "!pip install pyfpgrowth"
   ]
  },
  {
   "cell_type": "code",
   "execution_count": 12,
   "metadata": {},
   "outputs": [],
   "source": [
    "import pandas as pd\n",
    "import numpy as np\n",
    "import pyfpgrowth as fp"
   ]
  },
  {
   "cell_type": "code",
   "execution_count": 18,
   "metadata": {},
   "outputs": [],
   "source": [
    "dict1 = {\n",
    "    'id': [0, 1, 2, 3],\n",
    "    'items': [['wickets', 'pads'], ['bat', 'wickets', 'pads', 'helmet'], ['helmet', 'pads'], ['bat', 'pads', 'helmet']]\n",
    "}\n",
    "transactionSet = pd.DataFrame(dict1)"
   ]
  },
  {
   "cell_type": "code",
   "execution_count": 19,
   "metadata": {},
   "outputs": [],
   "source": [
    "patterns = fp.find_frequent_patterns(transactionSet['items'], 1)"
   ]
  },
  {
   "cell_type": "code",
   "execution_count": 20,
   "metadata": {},
   "outputs": [
    {
     "data": {
      "text/plain": [
       "{('wickets',): 2,\n",
       " ('pads', 'wickets'): 2,\n",
       " ('bat', 'wickets'): 1,\n",
       " ('helmet', 'wickets'): 1,\n",
       " ('bat', 'pads', 'wickets'): 1,\n",
       " ('helmet', 'pads', 'wickets'): 1,\n",
       " ('bat', 'helmet', 'wickets'): 1,\n",
       " ('bat', 'helmet', 'pads', 'wickets'): 1,\n",
       " ('bat',): 2,\n",
       " ('bat', 'helmet'): 2,\n",
       " ('bat', 'pads'): 2,\n",
       " ('bat', 'helmet', 'pads'): 2,\n",
       " ('helmet',): 3,\n",
       " ('helmet', 'pads'): 3,\n",
       " ('pads',): 4}"
      ]
     },
     "execution_count": 20,
     "metadata": {},
     "output_type": "execute_result"
    }
   ],
   "source": [
    "patterns"
   ]
  },
  {
   "cell_type": "code",
   "execution_count": 21,
   "metadata": {},
   "outputs": [
    {
     "data": {
      "text/plain": [
       "{('pads',): (('helmet',), 0.75),\n",
       " ('wickets',): (('bat', 'helmet', 'pads'), 0.5),\n",
       " ('bat',): (('helmet', 'pads'), 1.0),\n",
       " ('helmet',): (('pads',), 1.0),\n",
       " ('bat', 'pads'): (('helmet',), 1.0),\n",
       " ('bat', 'wickets'): (('helmet', 'pads'), 1.0),\n",
       " ('pads', 'wickets'): (('bat', 'helmet'), 0.5),\n",
       " ('helmet', 'pads'): (('bat',), 0.6666666666666666),\n",
       " ('helmet', 'wickets'): (('bat', 'pads'), 1.0),\n",
       " ('bat', 'helmet'): (('pads',), 1.0),\n",
       " ('bat', 'helmet', 'pads'): (('wickets',), 0.5),\n",
       " ('bat', 'helmet', 'wickets'): (('pads',), 1.0),\n",
       " ('bat', 'pads', 'wickets'): (('helmet',), 1.0),\n",
       " ('helmet', 'pads', 'wickets'): (('bat',), 1.0)}"
      ]
     },
     "execution_count": 21,
     "metadata": {},
     "output_type": "execute_result"
    }
   ],
   "source": [
    "rules = fp.generate_association_rules(patterns, 0.3)\n",
    "rules"
   ]
  },
  {
   "cell_type": "code",
   "execution_count": null,
   "metadata": {},
   "outputs": [],
   "source": []
  }
 ],
 "metadata": {
  "kernelspec": {
   "display_name": "Python 3.10.2 64-bit",
   "language": "python",
   "name": "python3"
  },
  "language_info": {
   "codemirror_mode": {
    "name": "ipython",
    "version": 3
   },
   "file_extension": ".py",
   "mimetype": "text/x-python",
   "name": "python",
   "nbconvert_exporter": "python",
   "pygments_lexer": "ipython3",
   "version": "3.10.2"
  },
  "orig_nbformat": 4,
  "vscode": {
   "interpreter": {
    "hash": "bf74378b3249af5359f07a9caa84b7a763805fcaf59590a4dc4a6d39ea6824f2"
   }
  }
 },
 "nbformat": 4,
 "nbformat_minor": 2
}
