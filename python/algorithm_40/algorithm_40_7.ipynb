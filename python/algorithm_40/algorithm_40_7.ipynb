{
 "cells": [
  {
   "cell_type": "code",
   "execution_count": 2,
   "metadata": {},
   "outputs": [],
   "source": [
    "# vertex와 edge\n",
    "# network를 생성하여 분석\n",
    "import networkx as nx\n",
    "G = nx.Graph()"
   ]
  },
  {
   "cell_type": "code",
   "execution_count": 4,
   "metadata": {},
   "outputs": [],
   "source": [
    "# vertex 추가\n",
    "G.add_node('Mike')\n",
    "# 여러 개를 한 번에 추가도 가능\n",
    "G.add_nodes_from(['Amine', 'Wasim', 'Nick'])"
   ]
  },
  {
   "cell_type": "code",
   "execution_count": 5,
   "metadata": {},
   "outputs": [],
   "source": [
    "# 두 vertices를 edge로 연결\n",
    "G.add_edge('Mike', 'Amine')"
   ]
  },
  {
   "cell_type": "code",
   "execution_count": 6,
   "metadata": {},
   "outputs": [
    {
     "data": {
      "text/plain": [
       "['Mike', 'Amine', 'Wasim', 'Nick']"
      ]
     },
     "execution_count": 6,
     "metadata": {},
     "output_type": "execute_result"
    }
   ],
   "source": [
    "list(G.nodes)"
   ]
  },
  {
   "cell_type": "code",
   "execution_count": 7,
   "metadata": {},
   "outputs": [
    {
     "data": {
      "text/plain": [
       "[('Mike', 'Amine')]"
      ]
     },
     "execution_count": 7,
     "metadata": {},
     "output_type": "execute_result"
    }
   ],
   "source": [
    "list(G.edges)"
   ]
  },
  {
   "cell_type": "code",
   "execution_count": 8,
   "metadata": {},
   "outputs": [],
   "source": [
    "# vertex가 아직 network상에 존재하지 않아도 edge를 통해 등록할 수 있다\n",
    "G.add_edge('Amine', 'Imran')"
   ]
  },
  {
   "cell_type": "code",
   "execution_count": 10,
   "metadata": {},
   "outputs": [
    {
     "data": {
      "text/plain": [
       "['Mike', 'Amine', 'Wasim', 'Nick', 'Imran']"
      ]
     },
     "execution_count": 10,
     "metadata": {},
     "output_type": "execute_result"
    }
   ],
   "source": [
    "list(G.nodes)  "
   ]
  },
  {
   "cell_type": "code",
   "execution_count": 11,
   "metadata": {},
   "outputs": [
    {
     "data": {
      "text/plain": [
       "[('Mike', 'Amine'), ('Amine', 'Imran')]"
      ]
     },
     "execution_count": 11,
     "metadata": {},
     "output_type": "execute_result"
    }
   ],
   "source": [
    "list(G.edges)"
   ]
  },
  {
   "cell_type": "code",
   "execution_count": 14,
   "metadata": {},
   "outputs": [],
   "source": [
    "#### 그래프 유형\n",
    "## 무방향 그래프 (undirected graph)\n",
    "# 연결된 노드 사이에 상하 관계나 순서가 없음\n",
    "\n",
    "## 방향 그래프 (directed graph)\n",
    "# 연결된 노드 사이에 상하 관계나 순서가 있음\n",
    "\n",
    "## 무방향 멀티그래프 (undirected multigraph)\n",
    "# 두 노드 사이를 잇는 엣지가 두개 이상\n",
    "\n",
    "## 방향 멀티그래프 (directed multigraph)\n",
    "# 멀티그래프에 있는 노드 사이에 방향 관계가 존재\n",
    "\n",
    "# 셀프 엣지(self-edge): 자기 자신과 관계를 형성\n",
    "# 하이퍼 엣지(hyperdege): 셋 이상의 vertex에 연결\n",
    "# ego, alter, degree"
   ]
  },
  {
   "cell_type": "code",
   "execution_count": 25,
   "metadata": {},
   "outputs": [
    {
     "data": {
      "image/png": "[encoded data removed]",
      "text/plain": [
       "<Figure size 432x288 with 1 Axes>"
      ]
     },
     "metadata": {},
     "output_type": "display_data"
    }
   ],
   "source": [
    "import networkx as nx\n",
    "import matplotlib.pyplot as plt\n",
    "vertices = range(1, 10)\n",
    "edges = [(7, 2), (2, 3), (7, 4), (4, 5), (7 ,3), (7, 5), (1, 6), (1, 7), (2, 8), (2, 9)]\n",
    "G = nx.Graph()\n",
    "G.add_nodes_from(vertices)\n",
    "G.add_edges_from(edges)\n",
    "nx.draw(G, with_labels=True, node_color='y', node_size=800)"
   ]
  },
  {
   "cell_type": "code",
   "execution_count": 34,
   "metadata": {},
   "outputs": [
    {
     "data": {
      "text/plain": [
       "{1: 0.25,\n",
       " 2: 0.5,\n",
       " 3: 0.25,\n",
       " 4: 0.25,\n",
       " 5: 0.25,\n",
       " 6: 0.125,\n",
       " 7: 0.625,\n",
       " 8: 0.125,\n",
       " 9: 0.125}"
      ]
     },
     "execution_count": 34,
     "metadata": {},
     "output_type": "execute_result"
    }
   ],
   "source": [
    "# 도수 중심성 - 해당 버텍스가 다른 버텍스와 얼마나 잘 연결되어 있는지\n",
    "nx.degree_centrality(G)"
   ]
  },
  {
   "cell_type": "code",
   "execution_count": 35,
   "metadata": {},
   "outputs": [
    {
     "data": {
      "text/plain": [
       "{1: 0.25,\n",
       " 2: 0.46428571428571425,\n",
       " 3: 0.0,\n",
       " 4: 0.0,\n",
       " 5: 0.0,\n",
       " 6: 0.0,\n",
       " 7: 0.7142857142857142,\n",
       " 8: 0.0,\n",
       " 9: 0.0}"
      ]
     },
     "execution_count": 35,
     "metadata": {},
     "output_type": "execute_result"
    }
   ],
   "source": [
    "# 매개 중심성 - 다른 버텍스들 사이에 위치하는 정도\n",
    "nx.betweenness_centrality(G)"
   ]
  },
  {
   "cell_type": "code",
   "execution_count": 36,
   "metadata": {},
   "outputs": [
    {
     "data": {
      "text/plain": [
       "{1: 0.5,\n",
       " 2: 0.6153846153846154,\n",
       " 3: 0.5333333333333333,\n",
       " 4: 0.47058823529411764,\n",
       " 5: 0.47058823529411764,\n",
       " 6: 0.34782608695652173,\n",
       " 7: 0.7272727272727273,\n",
       " 8: 0.4,\n",
       " 9: 0.4}"
      ]
     },
     "execution_count": 36,
     "metadata": {},
     "output_type": "execute_result"
    }
   ],
   "source": [
    "# 공정성 - 자기 자신과 그래프 내 다른 버텍스와의 거리를 모두 더한 것\n",
    "# 근접 중심성 - 공정성의 역수\n",
    "nx.closeness_centrality(G)"
   ]
  },
  {
   "cell_type": "code",
   "execution_count": 37,
   "metadata": {},
   "outputs": [
    {
     "data": {
      "text/plain": [
       "[(1, '0.24'),\n",
       " (2, '0.45'),\n",
       " (3, '0.36'),\n",
       " (4, '0.32'),\n",
       " (5, '0.32'),\n",
       " (6, '0.08'),\n",
       " (7, '0.59'),\n",
       " (8, '0.16'),\n",
       " (9, '0.16')]"
      ]
     },
     "execution_count": 37,
     "metadata": {},
     "output_type": "execute_result"
    }
   ],
   "source": [
    "# 고유벡터 중심성 - 다른 버텍스의 중심성을 가중치로 반영\n",
    "# ex) 학급 내에서 인기가 많은 친구들과 지내는 친구는 고유벡터 중심성이 높다\n",
    "# 구글에서 개발한 웹 페이지에 점수를 매기는 페이지랭크 알고리즘은 이에서 파생\n",
    "centrality = nx.eigenvector_centrality(G)\n",
    "sorted((v, f'{c:0.2f}') for v, c in centrality.items())"
   ]
  }
 ],
 "metadata": {
  "kernelspec": {
   "display_name": "Python 3.10.2 64-bit",
   "language": "python",
   "name": "python3"
  },
  "language_info": {
   "codemirror_mode": {
    "name": "ipython",
    "version": 3
   },
   "file_extension": ".py",
   "mimetype": "text/x-python",
   "name": "python",
   "nbconvert_exporter": "python",
   "pygments_lexer": "ipython3",
   "version": "3.10.2"
  },
  "orig_nbformat": 4,
  "vscode": {
   "interpreter": {
    "hash": "bf74378b3249af5359f07a9caa84b7a763805fcaf59590a4dc4a6d39ea6824f2"
   }
  }
 },
 "nbformat": 4,
 "nbformat_minor": 2
}
