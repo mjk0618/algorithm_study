{
 "cells": [
  {
   "cell_type": "code",
   "execution_count": 2,
   "metadata": {},
   "outputs": [
    {
     "name": "stdout",
     "output_type": "stream",
     "text": [
      "Epoch 1/10\n"
     ]
    },
    {
     "name": "stderr",
     "output_type": "stream",
     "text": [
      "c:\\Users\\Kang MinJae\\AppData\\Local\\Programs\\Python\\Python310\\lib\\site-packages\\keras\\optimizers\\optimizer_v2\\gradient_descent.py:111: UserWarning: The `lr` argument is deprecated, use `learning_rate` instead.\n",
      "  super().__init__(name, **kwargs)\n"
     ]
    },
    {
     "name": "stdout",
     "output_type": "stream",
     "text": [
      "188/188 [==============================] - 2s 3ms/step - loss: 2.3017 - accuracy: 0.1683\n",
      "Epoch 2/10\n",
      "188/188 [==============================] - 1s 3ms/step - loss: 1.9282 - accuracy: 0.3537\n",
      "Epoch 3/10\n",
      "188/188 [==============================] - 1s 3ms/step - loss: 1.6419 - accuracy: 0.4873\n",
      "Epoch 4/10\n",
      "188/188 [==============================] - 1s 3ms/step - loss: 1.4203 - accuracy: 0.5850\n",
      "Epoch 5/10\n",
      "188/188 [==============================] - 1s 3ms/step - loss: 1.2364 - accuracy: 0.6485\n",
      "Epoch 6/10\n",
      "188/188 [==============================] - 1s 3ms/step - loss: 1.0871 - accuracy: 0.6945\n",
      "Epoch 7/10\n",
      "188/188 [==============================] - 1s 4ms/step - loss: 0.9872 - accuracy: 0.7280\n",
      "Epoch 8/10\n",
      "188/188 [==============================] - 1s 4ms/step - loss: 0.8856 - accuracy: 0.7567\n",
      "Epoch 9/10\n",
      "188/188 [==============================] - 1s 4ms/step - loss: 0.8220 - accuracy: 0.7768\n",
      "Epoch 10/10\n",
      "188/188 [==============================] - 1s 4ms/step - loss: 0.7515 - accuracy: 0.8062\n",
      "evaluate loss: 0.6752472519874573\n",
      "evaluate acc: 0.8510000109672546\n"
     ]
    }
   ],
   "source": [
    "import numpy as np\n",
    "import matplotlib.pyplot as plt\n",
    "from keras.datasets import mnist\n",
    "from keras.layers import Activation, Dense, Dropout\n",
    "from keras.models import Sequential, load_model\n",
    "from keras import optimizers\n",
    "from keras.utils.np_utils import to_categorical\n",
    "\n",
    "(X_train, y_train), (X_test, y_test) = mnist.load_data()\n",
    "\n",
    "X_train = X_train.reshape(X_train.shape[0], 784)[:6000]\n",
    "X_test = X_test.reshape(X_test.shape[0], 784)[:1000]\n",
    "y_train = to_categorical(y_train)[:6000]\n",
    "y_test = to_categorical(y_test)[:1000]\n",
    "\n",
    "model = Sequential()\n",
    "model.add(Dense(256, input_dim=784))\n",
    "model.add(Activation(\"sigmoid\"))     # 하이퍼파라미터: 활성화함수\n",
    "model.add(Dense(128))               # 하이퍼파라미터: 은닉층 수, 은닉층의 채널 수\n",
    "model.add(Activation(\"sigmoid\"))\n",
    "model.add(Dropout(rate=0.5))        # 하이퍼파라미터: 드롭아웃 비율\n",
    "model.add(Dense(10))\n",
    "model.add(Activation(\"softmax\"))\n",
    "\n",
    "sgd = optimizers.SGD(lr=0.01)       # 하이퍼파라미터: 학습률(lr)\n",
    "\n",
    "# 하이퍼파라미터: 최적화함수(optimizer), 오차 함수(loss)\n",
    "model.compile(optimizer=sgd, loss=\"categorical_crossentropy\", metrics=[\"accuracy\"])\n",
    "\n",
    "# 하이퍼파라미터: 배치 처리 크기(batch_size), epoch수\n",
    "model.fit(X_train, y_train, batch_size=32, epochs=10, verbose=1)\n",
    "\n",
    "score = model.evaluate(X_test, y_test, verbose=10)\n",
    "print(f\"evaluate loss: {score[0]}\\nevaluate acc: {score[1]}\")"
   ]
  },
  {
   "cell_type": "code",
   "execution_count": null,
   "metadata": {},
   "outputs": [],
   "source": []
  }
 ],
 "metadata": {
  "kernelspec": {
   "display_name": "Python 3",
   "language": "python",
   "name": "python3"
  },
  "language_info": {
   "codemirror_mode": {
    "name": "ipython",
    "version": 3
   },
   "file_extension": ".py",
   "mimetype": "text/x-python",
   "name": "python",
   "nbconvert_exporter": "python",
   "pygments_lexer": "ipython3",
   "version": "3.10.2"
  },
  "orig_nbformat": 4,
  "vscode": {
   "interpreter": {
    "hash": "bf74378b3249af5359f07a9caa84b7a763805fcaf59590a4dc4a6d39ea6824f2"
   }
  }
 },
 "nbformat": 4,
 "nbformat_minor": 2
}
