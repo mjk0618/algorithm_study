{
 "cells": [
  {
   "cell_type": "code",
   "execution_count": 7,
   "metadata": {},
   "outputs": [
    {
     "name": "stdout",
     "output_type": "stream",
     "text": [
      "Without seed\n",
      "X = array([0.14404357, 1.45427351, 0.76103773, 0.12167502, 0.44386323])\n",
      "Y = array([ 0.33367433,  1.49407907, -0.20515826,  0.3130677 , -0.85409574])\n",
      "With seed\n",
      "x = array([1.76405235, 0.40015721, 0.97873798, 2.2408932 , 1.86755799])\n",
      "y = array([1.76405235, 0.40015721, 0.97873798, 2.2408932 , 1.86755799])\n"
     ]
    }
   ],
   "source": [
    "import numpy as np\n",
    "\n",
    "X = np.random.randn(5)\n",
    "Y = np.random.randn(5)\n",
    "\n",
    "print(\"Without seed\")\n",
    "print(f\"{X = }\")\n",
    "print(f\"{Y = }\")\n",
    "\n",
    "np.random.seed(0)\n",
    "x = np.random.randn(5)\n",
    "np.random.seed(0)\n",
    "y = np.random.randn(5)\n",
    "\n",
    "print(\"With seed\")\n",
    "print(f\"{x = }\")\n",
    "print(f\"{y = }\")\n"
   ]
  },
  {
   "cell_type": "code",
   "execution_count": 18,
   "metadata": {},
   "outputs": [
    {
     "data": {
      "image/png": "[encoded data removed]",
      "text/plain": [
       "<Figure size 432x288 with 1 Axes>"
      ]
     },
     "metadata": {
      "needs_background": "light"
     },
     "output_type": "display_data"
    }
   ],
   "source": [
    "## 정규분포\n",
    "\n",
    "import matplotlib.pyplot as plt\n",
    "\n",
    "%matplotlib inline\n",
    "\n",
    "np.random.seed(0)\n",
    "x = np.random.randn(10000)\n",
    "\n",
    "plt.hist(x, bins='auto')\n",
    "plt.show()"
   ]
  },
  {
   "cell_type": "code",
   "execution_count": 19,
   "metadata": {},
   "outputs": [
    {
     "name": "stdout",
     "output_type": "stream",
     "text": [
      "0.49832\n"
     ]
    }
   ],
   "source": [
    "np.random.seed(0)\n",
    "\n",
    "## 이항분포 np.random.binomial(시행횟수, 성공확률, 실험횟수)\n",
    "nums = np.random.binomial(100, 0.5, size=10000)\n",
    "print(nums.mean()/100)"
   ]
  },
  {
   "cell_type": "code",
   "execution_count": 24,
   "metadata": {},
   "outputs": [
    {
     "name": "stdout",
     "output_type": "stream",
     "text": [
      "['kiwifruit' 'strawberry' 'apple' 'pineapple' 'pineapple']\n"
     ]
    }
   ],
   "source": [
    "x = [\"apple\", \"banana\", \"orange\", \"pineapple\", \"kiwifruit\", \"strawberry\"]\n",
    "np.random.seed(0)\n",
    "\n",
    "## (리스트에서, n개 임의추출)\n",
    "y = np.random.choice(x, 5)\n",
    "print(y)"
   ]
  },
  {
   "cell_type": "code",
   "execution_count": 2,
   "metadata": {},
   "outputs": [
    {
     "name": "stdout",
     "output_type": "stream",
     "text": [
      "2023-01-28 20:10:01.552138\n",
      "2023-01-28\n"
     ]
    }
   ],
   "source": [
    "import datetime as dt\n",
    "\n",
    "x = dt.datetime.now()\n",
    "print(x)\n",
    "print(f\"{x:%Y-%m-%d}\")"
   ]
  },
  {
   "cell_type": "code",
   "execution_count": 3,
   "metadata": {},
   "outputs": [
    {
     "name": "stdout",
     "output_type": "stream",
     "text": [
      "1:30:00\n"
     ]
    }
   ],
   "source": [
    "x = dt.timedelta(hours=1, minutes=30)\n",
    "print(x)"
   ]
  },
  {
   "cell_type": "code",
   "execution_count": 4,
   "metadata": {},
   "outputs": [
    {
     "name": "stdout",
     "output_type": "stream",
     "text": [
      "1992-10-23 00:00:00\n"
     ]
    }
   ],
   "source": [
    "x = dt.datetime(1992, 10, 22)\n",
    "y = x + dt.timedelta(1)\n",
    "print(y)"
   ]
  },
  {
   "cell_type": "code",
   "execution_count": 7,
   "metadata": {},
   "outputs": [
    {
     "data": {
      "text/plain": [
       "datetime.datetime(1992, 10, 22, 0, 0)"
      ]
     },
     "execution_count": 7,
     "metadata": {},
     "output_type": "execute_result"
    }
   ],
   "source": [
    "s = \"1992-10-22\"\n",
    "x = dt.datetime.strptime(s, \"%Y-%m-%d\")\n",
    "x"
   ]
  },
  {
   "cell_type": "code",
   "execution_count": 9,
   "metadata": {},
   "outputs": [
    {
     "data": {
      "text/plain": [
       "array([ 1.  ,  3.25,  5.5 ,  7.75, 10.  ])"
      ]
     },
     "execution_count": 9,
     "metadata": {},
     "output_type": "execute_result"
    }
   ],
   "source": [
    "## 숫자 분할하기\n",
    "# 구간을 지정한 개수만큼의 인덱스로 분할하기\n",
    "\n",
    "import numpy as np\n",
    "\n",
    "x = np.linspace(1, 10, 5)\n",
    "x\n"
   ]
  }
 ],
 "metadata": {
  "kernelspec": {
   "display_name": "Python 3",
   "language": "python",
   "name": "python3"
  },
  "language_info": {
   "codemirror_mode": {
    "name": "ipython",
    "version": 3
   },
   "file_extension": ".py",
   "mimetype": "text/x-python",
   "name": "python",
   "nbconvert_exporter": "python",
   "pygments_lexer": "ipython3",
   "version": "3.10.2"
  },
  "orig_nbformat": 4,
  "vscode": {
   "interpreter": {
    "hash": "bf74378b3249af5359f07a9caa84b7a763805fcaf59590a4dc4a6d39ea6824f2"
   }
  }
 },
 "nbformat": 4,
 "nbformat_minor": 2
}
