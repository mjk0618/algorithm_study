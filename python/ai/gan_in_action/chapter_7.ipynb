{
 "cells": [
  {
   "cell_type": "markdown",
   "metadata": {},
   "source": [
    "#### SGAN (Semi-supervised generative adversarial network)"
   ]
  },
  {
   "cell_type": "code",
   "execution_count": 3,
   "metadata": {},
   "outputs": [],
   "source": [
    "%matplotlib inline\n",
    "\n",
    "import matplotlib.pyplot as plt\n",
    "import numpy as np\n",
    "\n",
    "from tensorflow.keras import backend as K\n",
    "\n",
    "from tensorflow.keras.datasets import mnist\n",
    "from tensorflow.keras.layers import (Activation, BatchNormalization, Concatenate,\n",
    "                                    Dense, Dropout, Flatten, Input, Lambda, Reshape)\n",
    "from tensorflow.keras.layers import LeakyReLU\n",
    "from tensorflow.keras.layers import Conv2D, Conv2DTranspose\n",
    "from tensorflow.keras.models import Model, Sequential\n",
    "from tensorflow.keras.optimizers import Adam\n",
    "from tensorflow.keras.utils import to_categorical"
   ]
  },
  {
   "cell_type": "code",
   "execution_count": 4,
   "metadata": {},
   "outputs": [],
   "source": [
    "# 모델 입력 차원\n",
    "\n",
    "img_rows = 28\n",
    "img_cols = 28\n",
    "channels = 1\n",
    "\n",
    "img_shape = (img_rows, img_cols, channels)  # 입력 이미지 차원\n",
    "\n",
    "z_dim = 100  # 생성자의 입력으로 사용할 잡음 벡터의 크기\n",
    "\n",
    "num_classes = 10  # 데이터셋에 있는 클래스 개수"
   ]
  },
  {
   "cell_type": "code",
   "execution_count": 14,
   "metadata": {},
   "outputs": [],
   "source": [
    "# 훈련 데이터셋과 테스트 데이터셋\n",
    "class Dataset:\n",
    "    def __init__(self, num_labeled):\n",
    "        self.num_labeled = num_labeled  # 훈련에 사용할 레이블된 샘플 개수\n",
    "        # MNIST 데이터셋 적재\n",
    "        (self.x_train, self.y_train), (self.x_test, self.y_test) = mnist.load_data()\n",
    "\n",
    "        def preprocess_imgs(x):\n",
    "            x = (x.astype(np.float32) - 127.5) / 127.5  # (0, 255) 사이 흑백 픽셀 값을 [-1, 1] 사이로 변환\n",
    "            x = np.expand_dims(x, axis=3)  # 너비 * 높이 * 채널로 이미지 차원을 확장\n",
    "            return x\n",
    "\n",
    "        def preprocess_labels(y):\n",
    "            return y.reshape(-1, 1)\n",
    "        \n",
    "        # 훈련 데이터\n",
    "        self.x_train = preprocess_imgs(self.x_train)\n",
    "        self.y_train = preprocess_labels(self.y_train)\n",
    "\n",
    "        # 테스트 데이터\n",
    "        self.x_test = preprocess_imgs(self.x_test)\n",
    "        self.y_test = preprocess_labels(self.y_test)\n",
    "\n",
    "    def batch_labeled(self, batch_size):\n",
    "        # 레이블된 이미지와 레이블의 랜덤 배치 만들기\n",
    "        idx = np.random.randint(0, self.num_labeled, batch_size)\n",
    "        imgs = self.x_train[idx]\n",
    "        labels = self.y_train[idx]\n",
    "        return imgs, labels\n",
    "\n",
    "    def batch_unlabeled(self, batch_size):\n",
    "        # 레이블이 없는 이미지의 랜덤 배치 만들기\n",
    "        idx = np.random.randint(self.num_labeled, self.x_train.shape[0],\n",
    "                                batch_size)\n",
    "        imgs = self.x_train[idx]\n",
    "        return imgs\n",
    "\n",
    "    def training_set(self):\n",
    "        x_train = self.x_train[range(self.num_labeled)]\n",
    "        y_train = self.y_train[range(self.num_labeled)]\n",
    "        return x_train, y_train\n",
    "    \n",
    "    def test_set(self):\n",
    "        return self.x_test, self.y_test\n"
   ]
  },
  {
   "cell_type": "code",
   "execution_count": 15,
   "metadata": {},
   "outputs": [],
   "source": [
    "num_labeled = 100  # 사용할 레이블된 샘플 개수(나머지는 레이블 없이 사용)\n",
    "\n",
    "dataset = Dataset(num_labeled)"
   ]
  },
  {
   "cell_type": "code",
   "execution_count": 16,
   "metadata": {},
   "outputs": [],
   "source": [
    "# 생성자\n",
    "def build_generator(z_dim):\n",
    "\n",
    "    model = Sequential()\n",
    "\n",
    "    model.add(Dense(256 * 7 * 7, input_dim=z_dim))\n",
    "    model.add(Reshape((7, 7, 256)))  # 완전 연결 층을 사용해 입력을 7 * 7 * 256 크기 텐서로 변경\n",
    "    model.add(Conv2DTranspose(128, kernel_size=3, strides=2, padding='same'))  # 7 * 7 * 256에서 14 * 14 * 128 텐서로 바꾸는 전치 합성곱 층\n",
    "    model.add(BatchNormalization())  # 배치 정규화\n",
    "    \n",
    "    model.add(LeakyReLU(alpha=0.01))  # LeakyReLU 활성화 함수\n",
    "\n",
    "    model.add(Conv2DTranspose(64, kernel_size=3, strides=1, padding='same'))  # 14 * 14 * 128에서 14 * 14 * 64 텐서로 바꾸는 전치 합성곱 층\n",
    "    model.add(BatchNormalization())  # 배치 정규화\n",
    "\n",
    "    model.add(LeakyReLU(alpha=0.01))  # LeakyReLU 활성화 함수\n",
    "\n",
    "    model.add(Conv2DTranspose(1, kernel_size=3, strides=2, padding='same'))  # 14 * 14 * 64에서 28 * 28 * 1 텐서로 바꾸는 전치 합성곱 층\n",
    "    model.add(Activation('tanh'))  # tanh 활성화 함수\n",
    "\n",
    "    return model"
   ]
  },
  {
   "cell_type": "code",
   "execution_count": 17,
   "metadata": {},
   "outputs": [],
   "source": [
    "# 판별자\n",
    "def build_discriminator_net(img_shape):\n",
    "\n",
    "    model = Sequential()\n",
    "\n",
    "    # 28 * 28 * 1에서 14 * 14 * 32 텐서로 바꾸는 합성곱 층\n",
    "    model.add(\n",
    "        Conv2D(32,\n",
    "               kernel_size=3,\n",
    "               strides=2,\n",
    "               input_shape=img_shape,\n",
    "               padding='same'))\n",
    "\n",
    "    model.add(LeakyReLU(alpha=0.01))  # LeakyReLU 활성화 함수\n",
    "\n",
    "    # 14 * 14 * 32에서 7 * 7 * 64 텐서로 바꾸는 합성곱 층\n",
    "    model.add(\n",
    "        Conv2D(64,\n",
    "               kernel_size=3,\n",
    "               strides=2,\n",
    "               input_shape=img_shape,\n",
    "               padding='same'))\n",
    "    \n",
    "    model.add(LeakyReLU(alpha=0.01))  # LeakyReLU 활성화 함수\n",
    "\n",
    "    # 7 * 7 * 64에서 3 * 3 * 128 텐서로 바꾸는 합성곱 층\n",
    "    model.add(\n",
    "        Conv2D(128,\n",
    "               kernel_size=3,\n",
    "               strides=2,\n",
    "               input_shape=img_shape,\n",
    "               padding='same') )\n",
    "\n",
    "    model.add(LeakyReLU(alpha=0.01))  # LeakyReLU 활성화 함수\n",
    "\n",
    "    model.add(Dropout(0.5))  # 드롭아웃\n",
    "    model.add(Flatten())  # 텐서 펼치기\n",
    "    model.add(Dense(num_classes))  # num_classes개의 뉴런을 가진 완전 연결 층\n",
    "\n",
    "    return model"
   ]
  },
  {
   "cell_type": "code",
   "execution_count": 18,
   "metadata": {},
   "outputs": [],
   "source": [
    "# SGAN 판별자: 지도 학습 모델\n",
    "def build_discriminator_supervised(discriminator_net):\n",
    "\n",
    "    model = Sequential()\n",
    "\n",
    "    model.add(discriminator_net)\n",
    "\n",
    "    model.add(Activation('softmax'))  # 진짜 클래스에 대한 예측 확률을 출력하는 소프트맥스 활성화 함수\n",
    "\n",
    "    return model"
   ]
  },
  {
   "cell_type": "code",
   "execution_count": 19,
   "metadata": {},
   "outputs": [],
   "source": [
    "# SGAN 판별자: 비지도 학습 모델\n",
    "def build_discriminator_unsupervised(discriminator_net):\n",
    "\n",
    "    model = Sequential()\n",
    "\n",
    "    model.add(discriminator_net)\n",
    "\n",
    "    def predict(x):\n",
    "        prediction = 1.0 - (1.0 /   # 진짜 클래스에 대한 확률 분포를 진짜 대 가짜의 이진 확률 분포로 변환\n",
    "                            (K.sum(K.exp(x), axis=-1, keepdims=True) + 1.0))\n",
    "        return prediction\n",
    "\n",
    "    model.add(Lambda(predict))\n",
    "\n",
    "    return model"
   ]
  },
  {
   "cell_type": "code",
   "execution_count": 20,
   "metadata": {},
   "outputs": [],
   "source": [
    "# GAN 모델 구성\n",
    "def build_gan(generator, discriminator):\n",
    "\n",
    "    model = Sequential()\n",
    "\n",
    "    # 생성자와 판별자 모델을 연결하기\n",
    "    model.add(generator)\n",
    "    model.add(discriminator)\n",
    "\n",
    "    return model\n",
    "\n",
    "# 판별자 기반 모델: 이 층들은 지도 학습 훈련과 비지도 학습 훈련에 공유됩니다\n",
    "discriminator_net = build_discriminator_net(img_shape)\n",
    "\n",
    "# 비지도 학습 훈련을 위해 판별자를 만들고 컴파일합니다\n",
    "discriminator_supervised = build_discriminator_supervised(discriminator_net)\n",
    "discriminator_supervised.compile(loss='categorical_crossentropy', metrics=['accuracy'],\n",
    "                            optimizer=Adam(learning_rate=0.0003))\n",
    "discriminator_unsupervised = build_discriminator_unsupervised(discriminator_net)\n",
    "discriminator_unsupervised.compile(loss='binary_crossentropy', optimizer=Adam())\n",
    "\n",
    "# 생성자를 만듭니다\n",
    "generator = build_generator(z_dim)  # 생성자들 만듭니다\n",
    "\n",
    "# 생성자 훈련을 위해 판별자의 모델 파라미터를 동결합니다\n",
    "discriminator_unsupervised.trainable = False\n",
    "\n",
    "# 생성자를 훈련하기 위해 고정된 판별자를 GAN 모델로 만들고 컴파일합니다.\n",
    "gan = build_gan(generator, discriminator_unsupervised)\n",
    "gan.compile(loss='binary_crossentropy', optimizer=Adam())\n"
   ]
  },
  {
   "cell_type": "code",
   "execution_count": 27,
   "metadata": {},
   "outputs": [],
   "source": [
    "# 훈련\n",
    "supervised_losses = []\n",
    "iteration_checkpoints = []\n",
    "\n",
    "def train(iterations, batch_size, sample_interval):\n",
    "\n",
    "    real = np.ones((batch_size, 1))  # 진짜 이미지의 레이블: 모두 1\n",
    "\n",
    "    fake = np.zeros((batch_size, 1))  # 가짜 이미지의 레이블: 모두 0\n",
    "\n",
    "    for iteration in range(iterations):\n",
    "        imgs, labels = dataset.batch_labeled(batch_size)  # 레이블된 샘플을 가져옵니다.\n",
    "\n",
    "        labels = to_categorical(labels, num_classes=num_classes)  # 레이블을 원-핫 인코딩합니다\n",
    "        imgs_unlabeled = dataset.batch_unlabeled(batch_size) # 레이블이 없는 샘플을 가져옵니다\n",
    "\n",
    "        z = np.random.normal(0, 1, (batch_size, z_dim))  # 가짜 이미지의 배치를 생성합니다\n",
    "        gen_imgs = generator.predict(z, verbose=0)\n",
    "\n",
    "        # 레이블된 진짜 샘플에서 훈련합니다\n",
    "        d_loss_supervised, accuracy = discriminator_supervised.train_on_batch(imgs, labels)\n",
    "\n",
    "        # 레이블이 없는 진짜 샘플에서 훈련합니다\n",
    "        d_loss_real = discriminator_unsupervised.train_on_batch(imgs_unlabeled, real)\n",
    "\n",
    "        # 가짜 샘플에서 훈련합니다\n",
    "        d_loss_fake = discriminator_unsupervised.train_on_batch(gen_imgs, fake)\n",
    "        d_loss_unsupervised = 0.5 * np.add(d_loss_real, d_loss_fake)\n",
    "\n",
    "        z = np.random.normal(0, 1, (batch_size, z_dim))  # 가짜 이미지의 배치를 생성합니다\n",
    "        gen_imgs = generator.predict(z, verbose=0)\n",
    "\n",
    "        # 생성자를 훈련합니다\n",
    "        g_loss = gan.train_on_batch(z, np.ones((batch_size, 1)))\n",
    "\n",
    "        if (iteration + 1) % sample_interval == 0:\n",
    "            supervised_losses.append(d_loss_supervised)\n",
    "            iteration_checkpoints.append(iteration + 1)\n",
    "\n",
    "            print(\n",
    "                f'{iteration+1} [D 손실: {d_loss_supervised}%, 정확도: [{100 * accuracy}% [D 손실: {d_loss_unsupervised}%] [ G 손실: {g_loss}]'\n",
    "            )\n"
   ]
  },
  {
   "cell_type": "code",
   "execution_count": 28,
   "metadata": {},
   "outputs": [
    {
     "ename": "KeyboardInterrupt",
     "evalue": "",
     "output_type": "error",
     "traceback": [
      "\u001b[1;31m---------------------------------------------------------------------------\u001b[0m",
      "\u001b[1;31mKeyboardInterrupt\u001b[0m                         Traceback (most recent call last)",
      "Cell \u001b[1;32mIn [28], line 6\u001b[0m\n\u001b[0;32m      3\u001b[0m batch_size \u001b[39m=\u001b[39m \u001b[39m32\u001b[39m\n\u001b[0;32m      4\u001b[0m sample_interval \u001b[39m=\u001b[39m \u001b[39m800\u001b[39m\n\u001b[1;32m----> 6\u001b[0m train(iterations, batch_size, sample_interval)\n",
      "Cell \u001b[1;32mIn [27], line 31\u001b[0m, in \u001b[0;36mtrain\u001b[1;34m(iterations, batch_size, sample_interval)\u001b[0m\n\u001b[0;32m     28\u001b[0m d_loss_unsupervised \u001b[39m=\u001b[39m \u001b[39m0.5\u001b[39m \u001b[39m*\u001b[39m np\u001b[39m.\u001b[39madd(d_loss_real, d_loss_fake)\n\u001b[0;32m     30\u001b[0m z \u001b[39m=\u001b[39m np\u001b[39m.\u001b[39mrandom\u001b[39m.\u001b[39mnormal(\u001b[39m0\u001b[39m, \u001b[39m1\u001b[39m, (batch_size, z_dim))  \u001b[39m# 가짜 이미지의 배치를 생성합니다\u001b[39;00m\n\u001b[1;32m---> 31\u001b[0m gen_imgs \u001b[39m=\u001b[39m generator\u001b[39m.\u001b[39;49mpredict(z, verbose\u001b[39m=\u001b[39;49m\u001b[39m0\u001b[39;49m)\n\u001b[0;32m     33\u001b[0m \u001b[39m# 생성자를 훈련합니다\u001b[39;00m\n\u001b[0;32m     34\u001b[0m g_loss \u001b[39m=\u001b[39m gan\u001b[39m.\u001b[39mtrain_on_batch(z, np\u001b[39m.\u001b[39mones((batch_size, \u001b[39m1\u001b[39m)))\n",
      "File \u001b[1;32mc:\\Users\\Kang MinJae\\AppData\\Local\\Programs\\Python\\Python310\\lib\\site-packages\\keras\\utils\\traceback_utils.py:65\u001b[0m, in \u001b[0;36mfilter_traceback.<locals>.error_handler\u001b[1;34m(*args, **kwargs)\u001b[0m\n\u001b[0;32m     63\u001b[0m filtered_tb \u001b[39m=\u001b[39m \u001b[39mNone\u001b[39;00m\n\u001b[0;32m     64\u001b[0m \u001b[39mtry\u001b[39;00m:\n\u001b[1;32m---> 65\u001b[0m     \u001b[39mreturn\u001b[39;00m fn(\u001b[39m*\u001b[39margs, \u001b[39m*\u001b[39m\u001b[39m*\u001b[39mkwargs)\n\u001b[0;32m     66\u001b[0m \u001b[39mexcept\u001b[39;00m \u001b[39mException\u001b[39;00m \u001b[39mas\u001b[39;00m e:\n\u001b[0;32m     67\u001b[0m     filtered_tb \u001b[39m=\u001b[39m _process_traceback_frames(e\u001b[39m.\u001b[39m__traceback__)\n",
      "File \u001b[1;32mc:\\Users\\Kang MinJae\\AppData\\Local\\Programs\\Python\\Python310\\lib\\site-packages\\keras\\engine\\training.py:2253\u001b[0m, in \u001b[0;36mModel.predict\u001b[1;34m(self, x, batch_size, verbose, steps, callbacks, max_queue_size, workers, use_multiprocessing)\u001b[0m\n\u001b[0;32m   2251\u001b[0m \u001b[39mfor\u001b[39;00m step \u001b[39min\u001b[39;00m data_handler\u001b[39m.\u001b[39msteps():\n\u001b[0;32m   2252\u001b[0m     callbacks\u001b[39m.\u001b[39mon_predict_batch_begin(step)\n\u001b[1;32m-> 2253\u001b[0m     tmp_batch_outputs \u001b[39m=\u001b[39m \u001b[39mself\u001b[39;49m\u001b[39m.\u001b[39;49mpredict_function(iterator)\n\u001b[0;32m   2254\u001b[0m     \u001b[39mif\u001b[39;00m data_handler\u001b[39m.\u001b[39mshould_sync:\n\u001b[0;32m   2255\u001b[0m         context\u001b[39m.\u001b[39masync_wait()\n",
      "File \u001b[1;32mc:\\Users\\Kang MinJae\\AppData\\Local\\Programs\\Python\\Python310\\lib\\site-packages\\tensorflow\\python\\util\\traceback_utils.py:150\u001b[0m, in \u001b[0;36mfilter_traceback.<locals>.error_handler\u001b[1;34m(*args, **kwargs)\u001b[0m\n\u001b[0;32m    148\u001b[0m filtered_tb \u001b[39m=\u001b[39m \u001b[39mNone\u001b[39;00m\n\u001b[0;32m    149\u001b[0m \u001b[39mtry\u001b[39;00m:\n\u001b[1;32m--> 150\u001b[0m   \u001b[39mreturn\u001b[39;00m fn(\u001b[39m*\u001b[39margs, \u001b[39m*\u001b[39m\u001b[39m*\u001b[39mkwargs)\n\u001b[0;32m    151\u001b[0m \u001b[39mexcept\u001b[39;00m \u001b[39mException\u001b[39;00m \u001b[39mas\u001b[39;00m e:\n\u001b[0;32m    152\u001b[0m   filtered_tb \u001b[39m=\u001b[39m _process_traceback_frames(e\u001b[39m.\u001b[39m__traceback__)\n",
      "File \u001b[1;32mc:\\Users\\Kang MinJae\\AppData\\Local\\Programs\\Python\\Python310\\lib\\site-packages\\tensorflow\\python\\eager\\def_function.py:915\u001b[0m, in \u001b[0;36mFunction.__call__\u001b[1;34m(self, *args, **kwds)\u001b[0m\n\u001b[0;32m    912\u001b[0m compiler \u001b[39m=\u001b[39m \u001b[39m\"\u001b[39m\u001b[39mxla\u001b[39m\u001b[39m\"\u001b[39m \u001b[39mif\u001b[39;00m \u001b[39mself\u001b[39m\u001b[39m.\u001b[39m_jit_compile \u001b[39melse\u001b[39;00m \u001b[39m\"\u001b[39m\u001b[39mnonXla\u001b[39m\u001b[39m\"\u001b[39m\n\u001b[0;32m    914\u001b[0m \u001b[39mwith\u001b[39;00m OptionalXlaContext(\u001b[39mself\u001b[39m\u001b[39m.\u001b[39m_jit_compile):\n\u001b[1;32m--> 915\u001b[0m   result \u001b[39m=\u001b[39m \u001b[39mself\u001b[39m\u001b[39m.\u001b[39m_call(\u001b[39m*\u001b[39margs, \u001b[39m*\u001b[39m\u001b[39m*\u001b[39mkwds)\n\u001b[0;32m    917\u001b[0m new_tracing_count \u001b[39m=\u001b[39m \u001b[39mself\u001b[39m\u001b[39m.\u001b[39mexperimental_get_tracing_count()\n\u001b[0;32m    918\u001b[0m without_tracing \u001b[39m=\u001b[39m (tracing_count \u001b[39m==\u001b[39m new_tracing_count)\n",
      "File \u001b[1;32mc:\\Users\\Kang MinJae\\AppData\\Local\\Programs\\Python\\Python310\\lib\\site-packages\\tensorflow\\python\\eager\\def_function.py:954\u001b[0m, in \u001b[0;36mFunction._call\u001b[1;34m(self, *args, **kwds)\u001b[0m\n\u001b[0;32m    951\u001b[0m \u001b[39mself\u001b[39m\u001b[39m.\u001b[39m_lock\u001b[39m.\u001b[39mrelease()\n\u001b[0;32m    952\u001b[0m \u001b[39m# In this case we have not created variables on the first call. So we can\u001b[39;00m\n\u001b[0;32m    953\u001b[0m \u001b[39m# run the first trace but we should fail if variables are created.\u001b[39;00m\n\u001b[1;32m--> 954\u001b[0m results \u001b[39m=\u001b[39m \u001b[39mself\u001b[39m\u001b[39m.\u001b[39m_stateful_fn(\u001b[39m*\u001b[39margs, \u001b[39m*\u001b[39m\u001b[39m*\u001b[39mkwds)\n\u001b[0;32m    955\u001b[0m \u001b[39mif\u001b[39;00m \u001b[39mself\u001b[39m\u001b[39m.\u001b[39m_created_variables \u001b[39mand\u001b[39;00m \u001b[39mnot\u001b[39;00m ALLOW_DYNAMIC_VARIABLE_CREATION:\n\u001b[0;32m    956\u001b[0m   \u001b[39mraise\u001b[39;00m \u001b[39mValueError\u001b[39;00m(\u001b[39m\"\u001b[39m\u001b[39mCreating variables on a non-first call to a function\u001b[39m\u001b[39m\"\u001b[39m\n\u001b[0;32m    957\u001b[0m                    \u001b[39m\"\u001b[39m\u001b[39m decorated with tf.function.\u001b[39m\u001b[39m\"\u001b[39m)\n",
      "File \u001b[1;32mc:\\Users\\Kang MinJae\\AppData\\Local\\Programs\\Python\\Python310\\lib\\site-packages\\tensorflow\\python\\eager\\function.py:2496\u001b[0m, in \u001b[0;36mFunction.__call__\u001b[1;34m(self, *args, **kwargs)\u001b[0m\n\u001b[0;32m   2493\u001b[0m \u001b[39mwith\u001b[39;00m \u001b[39mself\u001b[39m\u001b[39m.\u001b[39m_lock:\n\u001b[0;32m   2494\u001b[0m   (graph_function,\n\u001b[0;32m   2495\u001b[0m    filtered_flat_args) \u001b[39m=\u001b[39m \u001b[39mself\u001b[39m\u001b[39m.\u001b[39m_maybe_define_function(args, kwargs)\n\u001b[1;32m-> 2496\u001b[0m \u001b[39mreturn\u001b[39;00m graph_function\u001b[39m.\u001b[39;49m_call_flat(\n\u001b[0;32m   2497\u001b[0m     filtered_flat_args, captured_inputs\u001b[39m=\u001b[39;49mgraph_function\u001b[39m.\u001b[39;49mcaptured_inputs)\n",
      "File \u001b[1;32mc:\\Users\\Kang MinJae\\AppData\\Local\\Programs\\Python\\Python310\\lib\\site-packages\\tensorflow\\python\\eager\\function.py:1862\u001b[0m, in \u001b[0;36mConcreteFunction._call_flat\u001b[1;34m(self, args, captured_inputs, cancellation_manager)\u001b[0m\n\u001b[0;32m   1858\u001b[0m possible_gradient_type \u001b[39m=\u001b[39m gradients_util\u001b[39m.\u001b[39mPossibleTapeGradientTypes(args)\n\u001b[0;32m   1859\u001b[0m \u001b[39mif\u001b[39;00m (possible_gradient_type \u001b[39m==\u001b[39m gradients_util\u001b[39m.\u001b[39mPOSSIBLE_GRADIENT_TYPES_NONE\n\u001b[0;32m   1860\u001b[0m     \u001b[39mand\u001b[39;00m executing_eagerly):\n\u001b[0;32m   1861\u001b[0m   \u001b[39m# No tape is watching; skip to running the function.\u001b[39;00m\n\u001b[1;32m-> 1862\u001b[0m   \u001b[39mreturn\u001b[39;00m \u001b[39mself\u001b[39m\u001b[39m.\u001b[39m_build_call_outputs(\u001b[39mself\u001b[39;49m\u001b[39m.\u001b[39;49m_inference_function\u001b[39m.\u001b[39;49mcall(\n\u001b[0;32m   1863\u001b[0m       ctx, args, cancellation_manager\u001b[39m=\u001b[39;49mcancellation_manager))\n\u001b[0;32m   1864\u001b[0m forward_backward \u001b[39m=\u001b[39m \u001b[39mself\u001b[39m\u001b[39m.\u001b[39m_select_forward_and_backward_functions(\n\u001b[0;32m   1865\u001b[0m     args,\n\u001b[0;32m   1866\u001b[0m     possible_gradient_type,\n\u001b[0;32m   1867\u001b[0m     executing_eagerly)\n\u001b[0;32m   1868\u001b[0m forward_function, args_with_tangents \u001b[39m=\u001b[39m forward_backward\u001b[39m.\u001b[39mforward()\n",
      "File \u001b[1;32mc:\\Users\\Kang MinJae\\AppData\\Local\\Programs\\Python\\Python310\\lib\\site-packages\\tensorflow\\python\\eager\\function.py:499\u001b[0m, in \u001b[0;36m_EagerDefinedFunction.call\u001b[1;34m(self, ctx, args, cancellation_manager)\u001b[0m\n\u001b[0;32m    497\u001b[0m \u001b[39mwith\u001b[39;00m _InterpolateFunctionError(\u001b[39mself\u001b[39m):\n\u001b[0;32m    498\u001b[0m   \u001b[39mif\u001b[39;00m cancellation_manager \u001b[39mis\u001b[39;00m \u001b[39mNone\u001b[39;00m:\n\u001b[1;32m--> 499\u001b[0m     outputs \u001b[39m=\u001b[39m execute\u001b[39m.\u001b[39;49mexecute(\n\u001b[0;32m    500\u001b[0m         \u001b[39mstr\u001b[39;49m(\u001b[39mself\u001b[39;49m\u001b[39m.\u001b[39;49msignature\u001b[39m.\u001b[39;49mname),\n\u001b[0;32m    501\u001b[0m         num_outputs\u001b[39m=\u001b[39;49m\u001b[39mself\u001b[39;49m\u001b[39m.\u001b[39;49m_num_outputs,\n\u001b[0;32m    502\u001b[0m         inputs\u001b[39m=\u001b[39;49margs,\n\u001b[0;32m    503\u001b[0m         attrs\u001b[39m=\u001b[39;49mattrs,\n\u001b[0;32m    504\u001b[0m         ctx\u001b[39m=\u001b[39;49mctx)\n\u001b[0;32m    505\u001b[0m   \u001b[39melse\u001b[39;00m:\n\u001b[0;32m    506\u001b[0m     outputs \u001b[39m=\u001b[39m execute\u001b[39m.\u001b[39mexecute_with_cancellation(\n\u001b[0;32m    507\u001b[0m         \u001b[39mstr\u001b[39m(\u001b[39mself\u001b[39m\u001b[39m.\u001b[39msignature\u001b[39m.\u001b[39mname),\n\u001b[0;32m    508\u001b[0m         num_outputs\u001b[39m=\u001b[39m\u001b[39mself\u001b[39m\u001b[39m.\u001b[39m_num_outputs,\n\u001b[1;32m   (...)\u001b[0m\n\u001b[0;32m    511\u001b[0m         ctx\u001b[39m=\u001b[39mctx,\n\u001b[0;32m    512\u001b[0m         cancellation_manager\u001b[39m=\u001b[39mcancellation_manager)\n",
      "File \u001b[1;32mc:\\Users\\Kang MinJae\\AppData\\Local\\Programs\\Python\\Python310\\lib\\site-packages\\tensorflow\\python\\eager\\execute.py:54\u001b[0m, in \u001b[0;36mquick_execute\u001b[1;34m(op_name, num_outputs, inputs, attrs, ctx, name)\u001b[0m\n\u001b[0;32m     52\u001b[0m \u001b[39mtry\u001b[39;00m:\n\u001b[0;32m     53\u001b[0m   ctx\u001b[39m.\u001b[39mensure_initialized()\n\u001b[1;32m---> 54\u001b[0m   tensors \u001b[39m=\u001b[39m pywrap_tfe\u001b[39m.\u001b[39;49mTFE_Py_Execute(ctx\u001b[39m.\u001b[39;49m_handle, device_name, op_name,\n\u001b[0;32m     55\u001b[0m                                       inputs, attrs, num_outputs)\n\u001b[0;32m     56\u001b[0m \u001b[39mexcept\u001b[39;00m core\u001b[39m.\u001b[39m_NotOkStatusException \u001b[39mas\u001b[39;00m e:\n\u001b[0;32m     57\u001b[0m   \u001b[39mif\u001b[39;00m name \u001b[39mis\u001b[39;00m \u001b[39mnot\u001b[39;00m \u001b[39mNone\u001b[39;00m:\n",
      "\u001b[1;31mKeyboardInterrupt\u001b[0m: "
     ]
    }
   ],
   "source": [
    "# 모델 훈련\n",
    "iterations = 8000\n",
    "batch_size = 32\n",
    "sample_interval = 800\n",
    "\n",
    "train(iterations, batch_size, sample_interval)"
   ]
  },
  {
   "cell_type": "code",
   "execution_count": 29,
   "metadata": {},
   "outputs": [
    {
     "name": "stdout",
     "output_type": "stream",
     "text": [
      "313/313 [==============================] - 1s 2ms/step - loss: 1.7379 - accuracy: 0.5506\n",
      "테스트 정확도: 55.06%\n"
     ]
    }
   ],
   "source": [
    "# 정확도 체크\n",
    "x, y = dataset.test_set()\n",
    "y = to_categorical(y, num_classes=num_classes)\n",
    "\n",
    "_, accuracy = discriminator_supervised.evaluate(x, y)  # 테스트 세트에서 분류 정확도 계산\n",
    "print('테스트 정확도: %.2f%%' %(100 * accuracy))"
   ]
  },
  {
   "cell_type": "code",
   "execution_count": 31,
   "metadata": {},
   "outputs": [],
   "source": [
    "mnist_classifier = build_discriminator_supervised(\n",
    "                            build_discriminator_net(img_shape))\n",
    "mnist_classifier.compile(loss='categorical_crossentropy', metrics=['accuracy'], optimizer=Adam())"
   ]
  },
  {
   "cell_type": "code",
   "execution_count": null,
   "metadata": {},
   "outputs": [],
   "source": []
  }
 ],
 "metadata": {
  "kernelspec": {
   "display_name": "Python 3.10.2 64-bit",
   "language": "python",
   "name": "python3"
  },
  "language_info": {
   "codemirror_mode": {
    "name": "ipython",
    "version": 3
   },
   "file_extension": ".py",
   "mimetype": "text/x-python",
   "name": "python",
   "nbconvert_exporter": "python",
   "pygments_lexer": "ipython3",
   "version": "3.10.2 (tags/v3.10.2:a58ebcc, Jan 17 2022, 14:12:15) [MSC v.1929 64 bit (AMD64)]"
  },
  "orig_nbformat": 4,
  "vscode": {
   "interpreter": {
    "hash": "bf74378b3249af5359f07a9caa84b7a763805fcaf59590a4dc4a6d39ea6824f2"
   }
  }
 },
 "nbformat": 4,
 "nbformat_minor": 2
}
