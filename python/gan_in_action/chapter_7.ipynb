{
 "cells": [
  {
   "cell_type": "markdown",
   "metadata": {},
   "source": [
    "#### SGAN (Semi-supervised generative adversarial network)"
   ]
  },
  {
   "cell_type": "code",
   "execution_count": 10,
   "metadata": {},
   "outputs": [],
   "source": [
    "%matplotlib inline\n",
    "\n",
    "import matplotlib.pyplot as plt\n",
    "import numpy as np\n",
    "\n",
    "from tensorflow.keras import backend as K\n",
    "\n",
    "from tensorflow.keras.datasets import mnist\n",
    "from tensorflow.keras.layers import (Activation, BatchNormalization, Concatenate,\n",
    "                                    Dense, Dropout, Flatten, Input, Lambda, Reshape)\n",
    "from tensorflow.keras.layers import LeakyReLU\n",
    "from tensorflow.keras.layers import Conv2D, Conv2DTranspose\n",
    "from tensorflow.keras.models import Model, Sequential\n",
    "from tensorflow.keras.optimizers import Adam\n",
    "from tensorflow.keras.utils import to_categorical"
   ]
  },
  {
   "cell_type": "code",
   "execution_count": 11,
   "metadata": {},
   "outputs": [],
   "source": [
    "# 모델 입력 차원\n",
    "\n",
    "img_rows = 28\n",
    "img_cols = 28\n",
    "channels = 1\n",
    "\n",
    "img_shape = (img_rows, img_cols, channels)  # 입력 이미지 차원\n",
    "\n",
    "z_dim = 100  # 생성자의 입력으로 사용할 잡음 벡터의 크기\n",
    "\n",
    "num_classes = 10  # 데이터셋에 있는 클래스 개수"
   ]
  },
  {
   "cell_type": "code",
   "execution_count": 12,
   "metadata": {},
   "outputs": [],
   "source": [
    "# 훈련 데이터셋과 테스트 데이터셋\n",
    "class Dataset:\n",
    "    def __init__(self, num_labeled):\n",
    "        self.num_labeled = num_labeled  # 훈련에 사용할 레이블된 샘플 개수\n",
    "        # MNIST 데이터셋 적재\n",
    "        (self.x_train, self.y_train), (self.x_test, self.y_test) = mnist.load_data()\n",
    "\n",
    "        def preprocess_imgs(x):\n",
    "            x = (x.astype(np.float32) - 127.5) / 127.5  # (0, 255) 사이 흑백 픽셀 값을 [-1, 1] 사이로 변환\n",
    "            x = np.expand_dims(x, axis=3)  # 너비 * 높이 * 채널로 이미지 차원을 확장\n",
    "            return x\n",
    "\n",
    "        def preprocess_labels(y):\n",
    "            return y.reshape(-1, 1)\n",
    "        \n",
    "        # 훈련 데이터\n",
    "        self.x_train = preprocess_imgs(self.x_train)\n",
    "        self.y_train = preprocess_labels(self.y_train)\n",
    "\n",
    "        # 테스트 데이터\n",
    "        self.x_test = preprocess_imgs(self.x_test)\n",
    "        self.y_test = preprocess_labels(self.y_test)\n",
    "\n",
    "    def batch_labeled(self, batch_size):\n",
    "        # 레이블이 없는 이미지의 랜덤 배치 만들기\n",
    "        idx = np.random.randint(self.num_labeled, self.x_train.shape[0], batch_size)\n",
    "        imgs = self.x_train[idx]\n",
    "        return imgs\n",
    "    \n",
    "    def training_set(self):\n",
    "        x_train = self.x_train[range(self.num_labeled)]\n",
    "        y_train = self.y_train[range(self.num_labeled)]\n",
    "        return x_train, y_train\n",
    "    \n",
    "    def test_set(self):\n",
    "        return self.x_test, self.y_test\n"
   ]
  },
  {
   "cell_type": "code",
   "execution_count": 13,
   "metadata": {},
   "outputs": [],
   "source": [
    "num_labeled = 100  # 사용할 레이블된 샘플 개수(나머지는 레이블 없이 사용)\n",
    "\n",
    "dataset = Dataset(num_labeled)"
   ]
  },
  {
   "cell_type": "code",
   "execution_count": 14,
   "metadata": {},
   "outputs": [],
   "source": [
    "# 생성자\n",
    "def build_generator(z_dim):\n",
    "\n",
    "    model = Sequential()\n",
    "\n",
    "    model.add(Dense(256 * 7 * 7, input_dim=z_dim))\n",
    "    model.add(Reshape((7, 7, 256)))  # 완전 연결 층을 사용해 입력을 7 * 7 * 256 크기 텐서로 변경\n",
    "    model.add(Conv2DTranspose(128, kernel_size=3, strides=2, padding='same'))  # 7 * 7 * 256에서 14 * 14 * 128 텐서로 바꾸는 전치 합성곱 층\n",
    "    model.add(BatchNormalization())  # 배치 정규화\n",
    "    \n",
    "    model.add(LeakyReLU(alpha=0.01))  # LeakyReLU 활성화 함수\n",
    "\n",
    "    model.add(Conv2DTranspose(64, kernel_size=3, strides=1, padding='same'))  # 14 * 14 * 128에서 14 * 14 * 64 텐서로 바꾸는 전치 합성곱 층\n",
    "    model.add(BatchNormalization())  # 배치 정규화\n",
    "\n",
    "    model.add(LeakyReLU(alpha=0.01))  # LeakyReLU 활성화 함수\n",
    "\n",
    "    model.add(Conv2DTranspose(1, kernel_size=3, strides=2, padding='same'))  # 14 * 14 * 64에서 28 * 28 * 1 텐서로 바꾸는 전치 합성곱 층\n",
    "    model.add(Activation('tanh'))  # tanh 활성화 함수\n",
    "\n",
    "    return model"
   ]
  },
  {
   "cell_type": "code",
   "execution_count": null,
   "metadata": {},
   "outputs": [],
   "source": [
    "# 판별자\n",
    "def build_discriminator(img_shape):\n",
    "\n",
    "    model = Sequential()\n",
    "\n",
    "    # 28 * 28 * 1에서 14 * 14 * 32 텐서로 바꾸는 합성곱 층\n",
    "    model.add(\n",
    "        Conv2D(32,\n",
    "               kernel_size=3,\n",
    "               strides=2,\n",
    "               input_shape=img_shape,\n",
    "               padding='same'))\n",
    "\n",
    "    model.add(LeakyReLU(alpha=0.01))  # LeakyReLU 활성화 함수\n",
    "\n",
    "    # 14 * 14 * 32에서 7 * 7 * 64 텐서로 바꾸는 합성곱 층\n",
    "    model.add(\n",
    "        Conv2D(64,\n",
    "               kernel_size=3,)\n",
    "    )\n"
   ]
  }
 ],
 "metadata": {
  "kernelspec": {
   "display_name": "Python 3.10.2 64-bit",
   "language": "python",
   "name": "python3"
  },
  "language_info": {
   "codemirror_mode": {
    "name": "ipython",
    "version": 3
   },
   "file_extension": ".py",
   "mimetype": "text/x-python",
   "name": "python",
   "nbconvert_exporter": "python",
   "pygments_lexer": "ipython3",
   "version": "3.10.2"
  },
  "orig_nbformat": 4,
  "vscode": {
   "interpreter": {
    "hash": "bf74378b3249af5359f07a9caa84b7a763805fcaf59590a4dc4a6d39ea6824f2"
   }
  }
 },
 "nbformat": 4,
 "nbformat_minor": 2
}
