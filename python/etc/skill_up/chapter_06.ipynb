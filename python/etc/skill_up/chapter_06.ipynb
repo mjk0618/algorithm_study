{
 "cells": [
  {
   "cell_type": "markdown",
   "metadata": {},
   "source": [
    "#### __06. 정규표현식 part1__"
   ]
  },
  {
   "cell_type": "code",
   "execution_count": 2,
   "metadata": {},
   "outputs": [
    {
     "name": "stdout",
     "output_type": "stream",
     "text": [
      "Number accepted.\n"
     ]
    }
   ],
   "source": [
    "import re\n",
    "pattern = r\"\\d\\d\\d-\\d\\d\\d-\\d\\d\\d\\d\"\n",
    "\n",
    "s = input(\"Entel tel. number: \")\n",
    "if re.match(pattern, s):\n",
    "    print(\"Number accepted.\")\n",
    "else:\n",
    "    print(\"Incorrect format\")"
   ]
  },
  {
   "cell_type": "code",
   "execution_count": 5,
   "metadata": {},
   "outputs": [],
   "source": [
    "pattern = r\"\\d\\d\\d-\\d\\d\\d-\\d\\d\\d\\d$\"  # $는 문자열의 종료를 의미"
   ]
  },
  {
   "cell_type": "code",
   "execution_count": 6,
   "metadata": {},
   "outputs": [],
   "source": [
    "pattern = r\"\\d\\d\\d[ -]\\d\\d\\d[ -]\\d\\d\\d\\d$\"  # [ -]는 해당 위치에 빈칸과 빼기 기호를 허용"
   ]
  },
  {
   "cell_type": "code",
   "execution_count": 8,
   "metadata": {},
   "outputs": [
    {
     "name": "stdout",
     "output_type": "stream",
     "text": [
      "Incorrect format\n"
     ]
    }
   ],
   "source": [
    "import re\n",
    "pattern = r\"\\d\\d\\d-\\d\\d\\d-\\d\\d\\d\\d\"\n",
    "\n",
    "s = input(\"Entel tel. number: \")  # input: 010-000-00001234\n",
    "if re.fullmatch(pattern, s):  # fullmatch를 사용하면 $로 종료를 지정하지 않아도 된다\n",
    "    print(\"Number accepted.\")\n",
    "else:\n",
    "    print(\"Incorrect format\")"
   ]
  },
  {
   "cell_type": "code",
   "execution_count": 9,
   "metadata": {},
   "outputs": [],
   "source": [
    "# 정규 표현식 객체 컴파일\n",
    "'''\n",
    "위의 작업은 정규표현식 객체로 컴파일하지 않고도 수행할 수 있었다. \n",
    "하지만 컴파일을 미리 수행하면 똑같은 패턴을 여러 번 사용할 때, 코드 실행 시간을 줄일 수 있다.\n",
    "그렇지 않으면 파이썬은 한 번만 만들어도 되는 상태 기계를 여러 번 다시 만들게 된다.\n",
    "'''\n",
    "regex_object_name = re.compile(pattern)"
   ]
  },
  {
   "cell_type": "code",
   "execution_count": 26,
   "metadata": {},
   "outputs": [
    {
     "name": "stdout",
     "output_type": "stream",
     "text": [
      "ax None\n"
     ]
    }
   ],
   "source": [
    "test_str = \"axyz\"\n",
    "pattern = re.compile(r\"(ax)|(yz)\")  # (소괄호)를 사용하면 match된 문자열의 그룹에 접근할 수 있다\n",
    "match = re.search(pattern, test_str)  \n",
    "print(match.group(1), match.group(2))"
   ]
  },
  {
   "cell_type": "code",
   "execution_count": null,
   "metadata": {},
   "outputs": [],
   "source": []
  }
 ],
 "metadata": {
  "kernelspec": {
   "display_name": "Python 3",
   "language": "python",
   "name": "python3"
  },
  "language_info": {
   "codemirror_mode": {
    "name": "ipython",
    "version": 3
   },
   "file_extension": ".py",
   "mimetype": "text/x-python",
   "name": "python",
   "nbconvert_exporter": "python",
   "pygments_lexer": "ipython3",
   "version": "3.10.2"
  },
  "orig_nbformat": 4,
  "vscode": {
   "interpreter": {
    "hash": "bf74378b3249af5359f07a9caa84b7a763805fcaf59590a4dc4a6d39ea6824f2"
   }
  }
 },
 "nbformat": 4,
 "nbformat_minor": 2
}
