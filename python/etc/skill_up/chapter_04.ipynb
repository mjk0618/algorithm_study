{
 "cells": [
  {
   "cell_type": "markdown",
   "metadata": {},
   "source": [
    "#### __03. 지름킬, 커맨드 라인, 그리고 패키지__"
   ]
  },
  {
   "cell_type": "code",
   "execution_count": 6,
   "metadata": {},
   "outputs": [
    {
     "data": {
      "text/plain": [
       "list"
      ]
     },
     "execution_count": 6,
     "metadata": {},
     "output_type": "execute_result"
    }
   ],
   "source": [
    "a, *b = 1, 2, 3, 4\n",
    "type(b)"
   ]
  },
  {
   "cell_type": "code",
   "execution_count": 8,
   "metadata": {},
   "outputs": [
    {
     "name": "stdout",
     "output_type": "stream",
     "text": [
      "no divisor found\n"
     ]
    }
   ],
   "source": [
    "# 루프문의 else는 break문을 만나서 일찍 빠져나오지 않는 한 루프 종료 시 실행된다\n",
    "def find_divisor(n, max):\n",
    "    for i in range(2, max + 1):\n",
    "        if n % i == 0:\n",
    "            print(i, \"divides evenly into\", n)\n",
    "            break\n",
    "    else:\n",
    "        print(\"no divisor found\")\n",
    "\n",
    "find_divisor(49, 6)"
   ]
  },
  {
   "cell_type": "code",
   "execution_count": 10,
   "metadata": {},
   "outputs": [
    {
     "name": "stdout",
     "output_type": "stream",
     "text": [
      "7 divides evenly into 49\n"
     ]
    }
   ],
   "source": [
    "find_divisor(49, 7)"
   ]
  },
  {
   "cell_type": "code",
   "execution_count": 11,
   "metadata": {},
   "outputs": [
    {
     "name": "stdout",
     "output_type": "stream",
     "text": [
      "True\n"
     ]
    }
   ],
   "source": [
    "# 회문 체크\n",
    "test_str = input(\"Enter Test string: \")\n",
    "# test_str = A man, a plan, a canal, Panama!\n",
    "a_list = [c.upper() for c in test_str if c.isalnum()]\n",
    "print(a_list == a_list[::-1])"
   ]
  },
  {
   "cell_type": "code",
   "execution_count": 23,
   "metadata": {},
   "outputs": [
    {
     "name": "stdout",
     "output_type": "stream",
     "text": [
      "hello, mj\n"
     ]
    }
   ],
   "source": [
    "# 함수 테이블(리스트, 딕셔너리)로 switch문 모방\n",
    "n = 1\n",
    "\n",
    "def test(name='init'):\n",
    "    print('hello,', name)\n",
    "\n",
    "do_plot = do_highlow_plot = do_volume_subplot = do_movingavg_plot = test\n",
    "stockdf = 'mj'\n",
    "\n",
    "if n == 1:\n",
    "    do_plot(stockdf)\n",
    "elif n == 2:\n",
    "    do_highlow_plot(stockdf)\n",
    "elif n == 3:\n",
    "    do_volume_subplot(stockdf)\n",
    "elif n == 4:\n",
    "    do_movingavg_plot(stockdf)"
   ]
  },
  {
   "cell_type": "code",
   "execution_count": 26,
   "metadata": {},
   "outputs": [
    {
     "name": "stdout",
     "output_type": "stream",
     "text": [
      "<class 'function'>\n",
      "hello, mj\n"
     ]
    }
   ],
   "source": [
    "fn = [do_plot, do_highlow_plot, do_volume_subplot, do_movingavg_plot][n-1]\n",
    "print(type(fn))\n",
    "fn(stockdf)"
   ]
  },
  {
   "cell_type": "code",
   "execution_count": 28,
   "metadata": {},
   "outputs": [
    {
     "data": {
      "text/plain": [
       "1"
      ]
     },
     "execution_count": 28,
     "metadata": {},
     "output_type": "execute_result"
    }
   ],
   "source": [
    "# range와 enum\n",
    "red, blue, green, black, white = range(1, 6)\n",
    "red"
   ]
  },
  {
   "cell_type": "code",
   "execution_count": 29,
   "metadata": {},
   "outputs": [
    {
     "name": "stdout",
     "output_type": "stream",
     "text": [
      "Help on module enum:\n",
      "\n",
      "NAME\n",
      "    enum\n",
      "\n",
      "MODULE REFERENCE\n",
      "    https://docs.python.org/3.10/library/enum.html\n",
      "    \n",
      "    The following documentation is automatically generated from the Python\n",
      "    source files.  It may be incomplete, incorrect or include features that\n",
      "    are considered implementation detail and may vary between Python\n",
      "    implementations.  When in doubt, consult the module reference at the\n",
      "    location listed above.\n",
      "\n",
      "CLASSES\n",
      "    builtins.int(builtins.object)\n",
      "        IntEnum(builtins.int, Enum)\n",
      "        IntFlag(builtins.int, Flag)\n",
      "    builtins.object\n",
      "        Enum\n",
      "            Flag\n",
      "                IntFlag(builtins.int, Flag)\n",
      "            IntEnum(builtins.int, Enum)\n",
      "        auto\n",
      "    builtins.type(builtins.object)\n",
      "        EnumMeta\n",
      "    \n",
      "    class Enum(builtins.object)\n",
      "     |  Enum(value, names=None, *, module=None, qualname=None, type=None, start=1)\n",
      "     |  \n",
      "     |  Generic enumeration.\n",
      "     |  \n",
      "     |  Derive from this class to define new enumerations.\n",
      "     |  \n",
      "     |  Data descriptors defined here:\n",
      "     |  \n",
      "     |  name\n",
      "     |      The name of the Enum member.\n",
      "     |  \n",
      "     |  value\n",
      "     |      The value of the Enum member.\n",
      "     |  \n",
      "     |  ----------------------------------------------------------------------\n",
      "     |  Readonly properties inherited from EnumMeta:\n",
      "     |  \n",
      "     |  __members__\n",
      "     |      Returns a mapping of member name->value.\n",
      "     |      \n",
      "     |      This mapping lists all enum members, including aliases. Note that this\n",
      "     |      is a read-only view of the internal mapping.\n",
      "    \n",
      "    class EnumMeta(builtins.type)\n",
      "     |  EnumMeta(cls, bases, classdict, **kwds)\n",
      "     |  \n",
      "     |  Metaclass for Enum\n",
      "     |  \n",
      "     |  Method resolution order:\n",
      "     |      EnumMeta\n",
      "     |      builtins.type\n",
      "     |      builtins.object\n",
      "     |  \n",
      "     |  Methods defined here:\n",
      "     |  \n",
      "     |  __bool__(self)\n",
      "     |      classes/types should always be True.\n",
      "     |  \n",
      "     |  __call__(cls, value, names=None, *, module=None, qualname=None, type=None, start=1)\n",
      "     |      Either returns an existing member, or creates a new enum class.\n",
      "     |      \n",
      "     |      This method is used both when an enum class is given a value to match\n",
      "     |      to an enumeration member (i.e. Color(3)) and for the functional API\n",
      "     |      (i.e. Color = Enum('Color', names='RED GREEN BLUE')).\n",
      "     |      \n",
      "     |      When used for the functional API:\n",
      "     |      \n",
      "     |      `value` will be the name of the new class.\n",
      "     |      \n",
      "     |      `names` should be either a string of white-space/comma delimited names\n",
      "     |      (values will start at `start`), or an iterator/mapping of name, value pairs.\n",
      "     |      \n",
      "     |      `module` should be set to the module this class is being created in;\n",
      "     |      if it is not set, an attempt to find that module will be made, but if\n",
      "     |      it fails the class will not be picklable.\n",
      "     |      \n",
      "     |      `qualname` should be set to the actual location this class can be found\n",
      "     |      at in its module; by default it is set to the global scope.  If this is\n",
      "     |      not correct, unpickling will fail in some circumstances.\n",
      "     |      \n",
      "     |      `type`, if set, will be mixed in as the first base class.\n",
      "     |  \n",
      "     |  __contains__(cls, obj)\n",
      "     |  \n",
      "     |  __delattr__(cls, attr)\n",
      "     |      Implement delattr(self, name).\n",
      "     |  \n",
      "     |  __dir__(self)\n",
      "     |      Specialized __dir__ implementation for types.\n",
      "     |  \n",
      "     |  __getattr__(cls, name)\n",
      "     |      Return the enum member matching `name`\n",
      "     |      \n",
      "     |      We use __getattr__ instead of descriptors or inserting into the enum\n",
      "     |      class' __dict__ in order to support `name` and `value` being both\n",
      "     |      properties for enum members (which live in the class' __dict__) and\n",
      "     |      enum members themselves.\n",
      "     |  \n",
      "     |  __getitem__(cls, name)\n",
      "     |  \n",
      "     |  __iter__(cls)\n",
      "     |      Returns members in definition order.\n",
      "     |  \n",
      "     |  __len__(cls)\n",
      "     |  \n",
      "     |  __repr__(cls)\n",
      "     |      Return repr(self).\n",
      "     |  \n",
      "     |  __reversed__(cls)\n",
      "     |      Returns members in reverse definition order.\n",
      "     |  \n",
      "     |  __setattr__(cls, name, value)\n",
      "     |      Block attempts to reassign Enum members.\n",
      "     |      \n",
      "     |      A simple assignment to the class namespace only changes one of the\n",
      "     |      several possible ways to get an Enum member from the Enum class,\n",
      "     |      resulting in an inconsistent Enumeration.\n",
      "     |  \n",
      "     |  ----------------------------------------------------------------------\n",
      "     |  Class methods defined here:\n",
      "     |  \n",
      "     |  __prepare__(cls, bases, **kwds) from builtins.type\n",
      "     |      __prepare__() -> dict\n",
      "     |      used to create the namespace for the class statement\n",
      "     |  \n",
      "     |  ----------------------------------------------------------------------\n",
      "     |  Static methods defined here:\n",
      "     |  \n",
      "     |  __new__(metacls, cls, bases, classdict, **kwds)\n",
      "     |      Create and return a new object.  See help(type) for accurate signature.\n",
      "     |  \n",
      "     |  ----------------------------------------------------------------------\n",
      "     |  Readonly properties defined here:\n",
      "     |  \n",
      "     |  __members__\n",
      "     |      Returns a mapping of member name->value.\n",
      "     |      \n",
      "     |      This mapping lists all enum members, including aliases. Note that this\n",
      "     |      is a read-only view of the internal mapping.\n",
      "     |  \n",
      "     |  ----------------------------------------------------------------------\n",
      "     |  Data and other attributes defined here:\n",
      "     |  \n",
      "     |  __annotations__ = {}\n",
      "     |  \n",
      "     |  ----------------------------------------------------------------------\n",
      "     |  Methods inherited from builtins.type:\n",
      "     |  \n",
      "     |  __getattribute__(self, name, /)\n",
      "     |      Return getattr(self, name).\n",
      "     |  \n",
      "     |  __init__(self, /, *args, **kwargs)\n",
      "     |      Initialize self.  See help(type(self)) for accurate signature.\n",
      "     |  \n",
      "     |  __instancecheck__(self, instance, /)\n",
      "     |      Check if an object is an instance.\n",
      "     |  \n",
      "     |  __or__(self, value, /)\n",
      "     |      Return self|value.\n",
      "     |  \n",
      "     |  __ror__(self, value, /)\n",
      "     |      Return value|self.\n",
      "     |  \n",
      "     |  __sizeof__(self, /)\n",
      "     |      Return memory consumption of the type object.\n",
      "     |  \n",
      "     |  __subclasscheck__(self, subclass, /)\n",
      "     |      Check if a class is a subclass.\n",
      "     |  \n",
      "     |  __subclasses__(self, /)\n",
      "     |      Return a list of immediate subclasses.\n",
      "     |  \n",
      "     |  mro(self, /)\n",
      "     |      Return a type's method resolution order.\n",
      "     |  \n",
      "     |  ----------------------------------------------------------------------\n",
      "     |  Data descriptors inherited from builtins.type:\n",
      "     |  \n",
      "     |  __abstractmethods__\n",
      "     |  \n",
      "     |  __dict__\n",
      "     |  \n",
      "     |  __text_signature__\n",
      "     |  \n",
      "     |  ----------------------------------------------------------------------\n",
      "     |  Data and other attributes inherited from builtins.type:\n",
      "     |  \n",
      "     |  __base__ = <class 'type'>\n",
      "     |      type(object) -> the object's type\n",
      "     |      type(name, bases, dict, **kwds) -> a new type\n",
      "     |  \n",
      "     |  \n",
      "     |  __bases__ = (<class 'type'>,)\n",
      "     |  \n",
      "     |  __basicsize__ = 888\n",
      "     |  \n",
      "     |  __dictoffset__ = 264\n",
      "     |  \n",
      "     |  __flags__ = 2148029952\n",
      "     |  \n",
      "     |  __itemsize__ = 40\n",
      "     |  \n",
      "     |  __mro__ = (<class 'enum.EnumMeta'>, <class 'type'>, <class 'object'>)\n",
      "     |  \n",
      "     |  __weakrefoffset__ = 368\n",
      "    \n",
      "    class Flag(Enum)\n",
      "     |  Flag(value, names=None, *, module=None, qualname=None, type=None, start=1)\n",
      "     |  \n",
      "     |  Support for flags\n",
      "     |  \n",
      "     |  Method resolution order:\n",
      "     |      Flag\n",
      "     |      Enum\n",
      "     |      builtins.object\n",
      "     |  \n",
      "     |  Data descriptors inherited from Enum:\n",
      "     |  \n",
      "     |  name\n",
      "     |      The name of the Enum member.\n",
      "     |  \n",
      "     |  value\n",
      "     |      The value of the Enum member.\n",
      "     |  \n",
      "     |  ----------------------------------------------------------------------\n",
      "     |  Readonly properties inherited from EnumMeta:\n",
      "     |  \n",
      "     |  __members__\n",
      "     |      Returns a mapping of member name->value.\n",
      "     |      \n",
      "     |      This mapping lists all enum members, including aliases. Note that this\n",
      "     |      is a read-only view of the internal mapping.\n",
      "    \n",
      "    class IntEnum(builtins.int, Enum)\n",
      "     |  IntEnum(value, names=None, *, module=None, qualname=None, type=None, start=1)\n",
      "     |  \n",
      "     |  Enum where members are also (and must be) ints\n",
      "     |  \n",
      "     |  Method resolution order:\n",
      "     |      IntEnum\n",
      "     |      builtins.int\n",
      "     |      Enum\n",
      "     |      builtins.object\n",
      "     |  \n",
      "     |  Data descriptors inherited from Enum:\n",
      "     |  \n",
      "     |  name\n",
      "     |      The name of the Enum member.\n",
      "     |  \n",
      "     |  value\n",
      "     |      The value of the Enum member.\n",
      "     |  \n",
      "     |  ----------------------------------------------------------------------\n",
      "     |  Readonly properties inherited from EnumMeta:\n",
      "     |  \n",
      "     |  __members__\n",
      "     |      Returns a mapping of member name->value.\n",
      "     |      \n",
      "     |      This mapping lists all enum members, including aliases. Note that this\n",
      "     |      is a read-only view of the internal mapping.\n",
      "    \n",
      "    class IntFlag(builtins.int, Flag)\n",
      "     |  IntFlag(value, names=None, *, module=None, qualname=None, type=None, start=1)\n",
      "     |  \n",
      "     |  Support for integer-based Flags\n",
      "     |  \n",
      "     |  Method resolution order:\n",
      "     |      IntFlag\n",
      "     |      builtins.int\n",
      "     |      Flag\n",
      "     |      Enum\n",
      "     |      builtins.object\n",
      "     |  \n",
      "     |  Data descriptors inherited from Enum:\n",
      "     |  \n",
      "     |  name\n",
      "     |      The name of the Enum member.\n",
      "     |  \n",
      "     |  value\n",
      "     |      The value of the Enum member.\n",
      "     |  \n",
      "     |  ----------------------------------------------------------------------\n",
      "     |  Readonly properties inherited from EnumMeta:\n",
      "     |  \n",
      "     |  __members__\n",
      "     |      Returns a mapping of member name->value.\n",
      "     |      \n",
      "     |      This mapping lists all enum members, including aliases. Note that this\n",
      "     |      is a read-only view of the internal mapping.\n",
      "    \n",
      "    class auto(builtins.object)\n",
      "     |  Instances are replaced with an appropriate value in Enum class suites.\n",
      "     |  \n",
      "     |  Data descriptors defined here:\n",
      "     |  \n",
      "     |  __dict__\n",
      "     |      dictionary for instance variables (if defined)\n",
      "     |  \n",
      "     |  __weakref__\n",
      "     |      list of weak references to the object (if defined)\n",
      "     |  \n",
      "     |  ----------------------------------------------------------------------\n",
      "     |  Data and other attributes defined here:\n",
      "     |  \n",
      "     |  value = <object object>\n",
      "\n",
      "FUNCTIONS\n",
      "    unique(enumeration)\n",
      "        Class decorator for enumerations ensuring unique member values.\n",
      "\n",
      "DATA\n",
      "    __all__ = ['EnumMeta', 'Enum', 'IntEnum', 'Flag', 'IntFlag', 'auto', '...\n",
      "\n",
      "FILE\n",
      "    c:\\users\\kang minjae\\appdata\\local\\programs\\python\\python310\\lib\\enum.py\n",
      "\n",
      "\n"
     ]
    }
   ],
   "source": [
    "import enum\n",
    "help(enum)"
   ]
  },
  {
   "cell_type": "code",
   "execution_count": 39,
   "metadata": {},
   "outputs": [],
   "source": [
    "# doc string 작성하고 사용하기\n",
    "def quad(a, b, c):\n",
    "    '''Quadratic Formula function.\n",
    "    \n",
    "    This function applies the Quadratic Formula\n",
    "    to determine the roots of x in a quadratic\n",
    "    equation of the form ax^2 + bx + c = 0.\n",
    "    '''\n",
    "    determin = (b * b - 4 * a * c) ** .5\n",
    "    x1 = (-b + determin) / (2 * a)\n",
    "    x2 = (-b - determin) / (2 * a)\n",
    "    return x1, x2"
   ]
  },
  {
   "cell_type": "code",
   "execution_count": 40,
   "metadata": {},
   "outputs": [
    {
     "name": "stdout",
     "output_type": "stream",
     "text": [
      "Help on function quad in module __main__:\n",
      "\n",
      "quad(a, b, c)\n",
      "    Quadratic Formula function.\n",
      "    \n",
      "    This function applies the Quadratic Formula\n",
      "    to determine the roots of x in a quadratic\n",
      "    equation of the form ax^2 + bx + c = 0.\n",
      "\n"
     ]
    }
   ],
   "source": [
    "help(quad)"
   ]
  },
  {
   "cell_type": "code",
   "execution_count": 7,
   "metadata": {},
   "outputs": [
    {
     "data": {
      "text/plain": [
       "function"
      ]
     },
     "execution_count": 7,
     "metadata": {},
     "output_type": "execute_result"
    }
   ],
   "source": [
    "# 일급 객체인 함수\n",
    "def avg(a_list):\n",
    "    '''리스트 항목들의 평균값을 반환'''\n",
    "    x = (sum(a_list) / len(a_list))\n",
    "    print(\"the average is:\", x)\n",
    "    return x\n",
    "\n",
    "type(avg)"
   ]
  },
  {
   "cell_type": "code",
   "execution_count": 9,
   "metadata": {},
   "outputs": [
    {
     "name": "stdout",
     "output_type": "stream",
     "text": [
      "the average is: 5.0\n"
     ]
    },
    {
     "data": {
      "text/plain": [
       "5.0"
      ]
     },
     "execution_count": 9,
     "metadata": {},
     "output_type": "execute_result"
    }
   ],
   "source": [
    "def new_func(a_list):\n",
    "    return (sum(a_list) / len(a_list))\n",
    "\n",
    "old_avg = avg\n",
    "avg = new_func\n",
    "\n",
    "old_avg([4, 6])"
   ]
  },
  {
   "cell_type": "code",
   "execution_count": 11,
   "metadata": {},
   "outputs": [
    {
     "name": "stdout",
     "output_type": "stream",
     "text": [
      "Function Name: avg\n",
      "Function documentation:\n",
      "Help on function avg in module __main__:\n",
      "\n",
      "avg(a_list)\n",
      "    리스트 항목들의 평균값을 반환\n",
      "\n"
     ]
    }
   ],
   "source": [
    "def func_info(func):\n",
    "    print(\"Function Name:\", func.__name__)\n",
    "    print(\"Function documentation:\")\n",
    "    help(func)\n",
    "\n",
    "func_info(old_avg)"
   ]
  },
  {
   "cell_type": "code",
   "execution_count": 15,
   "metadata": {},
   "outputs": [
    {
     "name": "stdout",
     "output_type": "stream",
     "text": [
      "The number of args is: 1\n",
      "[1, 2, 3]\n",
      "<class 'list'> <class 'tuple'>\n",
      "[1, 2, 3] ([1, 2, 3],)\n",
      "1\n"
     ]
    }
   ],
   "source": [
    "# *args 리스트\n",
    "def my_var_func(*args):\n",
    "    print(\"The number of args is:\", len(args))\n",
    "    for item in args:\n",
    "        print(item)\n",
    "    print(type(*args), type(args))\n",
    "    print(*args, args)\n",
    "    print(len(args))\n",
    "\n",
    "my_var_func([1, 2, 3])"
   ]
  },
  {
   "cell_type": "code",
   "execution_count": 21,
   "metadata": {},
   "outputs": [
    {
     "data": {
      "text/plain": [
       "2"
      ]
     },
     "execution_count": 21,
     "metadata": {},
     "output_type": "execute_result"
    }
   ],
   "source": [
    "[*args] = 1, 2, 3, 4\n",
    "[*args][1]"
   ]
  },
  {
   "cell_type": "code",
   "execution_count": 26,
   "metadata": {},
   "outputs": [
    {
     "name": "stdout",
     "output_type": "stream",
     "text": [
      "{'a': 1, 'b': 2} <class 'dict'>\n"
     ]
    }
   ],
   "source": [
    "# named arguments, keyword arguments\n",
    "def pr_named_vals(**kwargs):\n",
    "    print(kwargs, type(kwargs))\n",
    "\n",
    "pr_named_vals(a=1, b=2)"
   ]
  },
  {
   "cell_type": "code",
   "execution_count": 29,
   "metadata": {},
   "outputs": [
    {
     "name": "stdout",
     "output_type": "stream",
     "text": [
      "소요 시간: 0.0009999275207519531\n"
     ]
    }
   ],
   "source": [
    "# 데코레이터\n",
    "import time\n",
    "\n",
    "def make_timer(func):\n",
    "    def wrapper(*args, **kwargs):\n",
    "        t1 = time.time()\n",
    "        ret_val = func(*args, **kwargs)\n",
    "        t2 = time.time()\n",
    "        print(\"소요 시간:\", t2 - t1)\n",
    "        return ret_val\n",
    "    return wrapper\n",
    "\n",
    "def count_nums(n):\n",
    "    for i in range(n):\n",
    "        for j in range(1000):\n",
    "            pass\n",
    "    \n",
    "count_nums = make_timer(count_nums)\n",
    "count_nums(100)"
   ]
  },
  {
   "cell_type": "code",
   "execution_count": 33,
   "metadata": {},
   "outputs": [
    {
     "name": "stdout",
     "output_type": "stream",
     "text": [
      "소요 시간: 0.0009970664978027344\n"
     ]
    }
   ],
   "source": [
    "# 데코레이터\n",
    "@make_timer\n",
    "def count_nums(n):\n",
    "    for i in range(n):\n",
    "        for j in range(1000):\n",
    "            pass\n",
    "\n",
    "count_nums(100)"
   ]
  },
  {
   "cell_type": "code",
   "execution_count": 34,
   "metadata": {},
   "outputs": [
    {
     "name": "stdout",
     "output_type": "stream",
     "text": [
      "<list_reverseiterator object at 0x0000023066B4F190>\n"
     ]
    }
   ],
   "source": [
    "# 이터레이터: 한 번에 하나씩 값을 생산하여 결국 나열된 값의 묶음을 제공하는 객체\n",
    "# 모든 리스트는 이터레이터지만, 모든 이터레이터가 리스트인 것은 아니다.\n",
    "# 이터레이터는 바로 접근하거나 출력할 수 없다.\n",
    "\n",
    "iter1 = reversed([1, 2, 3, 4])\n",
    "print(iter1)"
   ]
  },
  {
   "cell_type": "code",
   "execution_count": 35,
   "metadata": {},
   "outputs": [
    {
     "name": "stdout",
     "output_type": "stream",
     "text": [
      "[4, 3, 2, 1]\n"
     ]
    }
   ],
   "source": [
    "print(list(iter1))"
   ]
  },
  {
   "cell_type": "code",
   "execution_count": 37,
   "metadata": {},
   "outputs": [
    {
     "name": "stdout",
     "output_type": "stream",
     "text": [
      "4 3 2 1 "
     ]
    }
   ],
   "source": [
    "# 이터레이터는 상태정보를 가지고 있다. 시퀀스의 끝에 도달하면 종료된다.\n",
    "iter1 = reversed([1, 2, 3, 4])\n",
    "for i in iter1:\n",
    "    print(i, end=\" \")"
   ]
  },
  {
   "cell_type": "code",
   "execution_count": 41,
   "metadata": {},
   "outputs": [
    {
     "name": "stdout",
     "output_type": "stream",
     "text": [
      "2\n",
      "4\n",
      "6\n",
      "8\n",
      "10\n"
     ]
    }
   ],
   "source": [
    "# 제너레이터\n",
    "# 이터레이터를 만드는 쉬운 방법, 제너레이터 함수 그 자체가 이터레이터는 아니다.\n",
    "def print_evens():\n",
    "    for n in range(2, 11, 2):\n",
    "        print(n)\n",
    "\n",
    "print_evens()"
   ]
  },
  {
   "cell_type": "code",
   "execution_count": 42,
   "metadata": {},
   "outputs": [],
   "source": [
    "def make_even_gens():\n",
    "    for n in range(2, 11, 2):\n",
    "        yield n"
   ]
  },
  {
   "cell_type": "code",
   "execution_count": 43,
   "metadata": {},
   "outputs": [
    {
     "data": {
      "text/plain": [
       "<generator object make_even_gens at 0x000002306879E180>"
      ]
     },
     "execution_count": 43,
     "metadata": {},
     "output_type": "execute_result"
    }
   ],
   "source": [
    "make_even_gens()"
   ]
  },
  {
   "cell_type": "code",
   "execution_count": 44,
   "metadata": {},
   "outputs": [
    {
     "data": {
      "text/plain": [
       "2"
      ]
     },
     "execution_count": 44,
     "metadata": {},
     "output_type": "execute_result"
    }
   ],
   "source": [
    "my_gen = make_even_gens()\n",
    "next(my_gen)"
   ]
  },
  {
   "cell_type": "code",
   "execution_count": 45,
   "metadata": {},
   "outputs": [
    {
     "data": {
      "text/plain": [
       "4"
      ]
     },
     "execution_count": 45,
     "metadata": {},
     "output_type": "execute_result"
    }
   ],
   "source": [
    "next(my_gen)"
   ]
  },
  {
   "cell_type": "code",
   "execution_count": 46,
   "metadata": {},
   "outputs": [
    {
     "data": {
      "text/plain": [
       "6"
      ]
     },
     "execution_count": 46,
     "metadata": {},
     "output_type": "execute_result"
    }
   ],
   "source": [
    "next(my_gen)"
   ]
  },
  {
   "cell_type": "code",
   "execution_count": 47,
   "metadata": {},
   "outputs": [
    {
     "data": {
      "text/plain": [
       "2"
      ]
     },
     "execution_count": 47,
     "metadata": {},
     "output_type": "execute_result"
    }
   ],
   "source": [
    "my_gen = make_even_gens()  # 다시 시작\n",
    "next(my_gen)"
   ]
  },
  {
   "cell_type": "code",
   "execution_count": 51,
   "metadata": {},
   "outputs": [
    {
     "data": {
      "text/plain": [
       "generator"
      ]
     },
     "execution_count": 51,
     "metadata": {},
     "output_type": "execute_result"
    }
   ],
   "source": [
    "type(my_gen)"
   ]
  },
  {
   "cell_type": "code",
   "execution_count": 54,
   "metadata": {},
   "outputs": [
    {
     "ename": "StopIteration",
     "evalue": "",
     "output_type": "error",
     "traceback": [
      "\u001b[1;31m---------------------------------------------------------------------------\u001b[0m",
      "\u001b[1;31mStopIteration\u001b[0m                             Traceback (most recent call last)",
      "Cell \u001b[1;32mIn [54], line 2\u001b[0m\n\u001b[0;32m      1\u001b[0m \u001b[39m#  끝에 도달하면 예외 발생\u001b[39;00m\n\u001b[1;32m----> 2\u001b[0m \u001b[39mnext\u001b[39;49m(my_gen)\n",
      "\u001b[1;31mStopIteration\u001b[0m: "
     ]
    }
   ],
   "source": [
    "#  끝에 도달하면 예외 발생\n",
    "next(my_gen)"
   ]
  },
  {
   "cell_type": "code",
   "execution_count": 66,
   "metadata": {},
   "outputs": [
    {
     "data": {
      "text/plain": [
       "(function, generator, generator)"
      ]
     },
     "execution_count": 66,
     "metadata": {},
     "output_type": "execute_result"
    }
   ],
   "source": [
    "type(make_even_gens), type(make_even_gens()), type(my_gen)"
   ]
  },
  {
   "cell_type": "code",
   "execution_count": 65,
   "metadata": {},
   "outputs": [
    {
     "data": {
      "text/plain": [
       "(False, False, True, True, True, True)"
      ]
     },
     "execution_count": 65,
     "metadata": {},
     "output_type": "execute_result"
    }
   ],
   "source": [
    "from collections.abc import Iterable, Iterator\n",
    "\n",
    "isinstance(make_even_gens, Iterator), \\\n",
    "isinstance(make_even_gens, Iterable), \\\n",
    "isinstance(make_even_gens(), Iterator), \\\n",
    "isinstance(make_even_gens(), Iterable), \\\n",
    "isinstance(my_gen, Iterator), \\\n",
    "isinstance(my_gen, Iterable)"
   ]
  },
  {
   "cell_type": "code",
   "execution_count": 73,
   "metadata": {},
   "outputs": [
    {
     "data": {
      "text/plain": [
       "(<list_iterator at 0x23066c6b880>,\n",
       " <method-wrapper '__iter__' of tuple object at 0x00000230687FB5B0>,\n",
       " <generator object make_even_gens at 0x00000230687AE730>)"
      ]
     },
     "execution_count": 73,
     "metadata": {},
     "output_type": "execute_result"
    }
   ],
   "source": [
    "a = [1, 2, 3, 4]\n",
    "b = (1, 2, 3, 4)\n",
    "a.__iter__(), b.__iter__, make_even_gens().__iter__()"
   ]
  },
  {
   "cell_type": "code",
   "execution_count": 75,
   "metadata": {},
   "outputs": [],
   "source": [
    "# Define an iterable class\n",
    "class MyIterable:\n",
    "    def __init__(self, max_val):\n",
    "        self.max_val = max_val\n",
    "\n",
    "    def __iter__(self):\n",
    "        return MyIterator(self.max_val)\n",
    "\n",
    "\n",
    "# Define an iterator class\n",
    "class MyIterator:\n",
    "    def __init__(self, max_val):\n",
    "        self.max_val = max_val\n",
    "        self.current_val = 0\n",
    "\n",
    "    def __next__(self):\n",
    "        if self.current_val >= self.max_val:\n",
    "            raise StopIteration\n",
    "        self.current_val += 1\n",
    "        return self.current_val - 1\n",
    "\n",
    "\n",
    "# Create an iterable object\n",
    "my_iterable = MyIterable(5)\n",
    "\n",
    "# Create an iterator object\n",
    "my_iterator = MyIterator(5)\n"
   ]
  },
  {
   "cell_type": "code",
   "execution_count": 78,
   "metadata": {},
   "outputs": [
    {
     "data": {
      "text/plain": [
       "0"
      ]
     },
     "execution_count": 78,
     "metadata": {},
     "output_type": "execute_result"
    }
   ],
   "source": [
    "# my_iterable.__iter__() 메서드를 이용하여 이터레이터를 만들고 next함수로 조회 접근 가능\n",
    "next(my_iterable.__iter__())"
   ]
  },
  {
   "cell_type": "code",
   "execution_count": 85,
   "metadata": {},
   "outputs": [
    {
     "data": {
      "text/plain": [
       "(<dict_keyiterator at 0x2306881ef70>, <set_iterator at 0x23068815600>)"
      ]
     },
     "execution_count": 85,
     "metadata": {},
     "output_type": "execute_result"
    }
   ],
   "source": [
    "my_dict = {\"a\": 1, \"b\":2, \"c\":3}\n",
    "my_set = {1, 2, 3}\n",
    "iter(my_dict), iter(my_set)"
   ]
  },
  {
   "cell_type": "code",
   "execution_count": null,
   "metadata": {},
   "outputs": [],
   "source": []
  }
 ],
 "metadata": {
  "kernelspec": {
   "display_name": "Python 3",
   "language": "python",
   "name": "python3"
  },
  "language_info": {
   "codemirror_mode": {
    "name": "ipython",
    "version": 3
   },
   "file_extension": ".py",
   "mimetype": "text/x-python",
   "name": "python",
   "nbconvert_exporter": "python",
   "pygments_lexer": "ipython3",
   "version": "3.10.2"
  },
  "orig_nbformat": 4,
  "vscode": {
   "interpreter": {
    "hash": "bf74378b3249af5359f07a9caa84b7a763805fcaf59590a4dc4a6d39ea6824f2"
   }
  }
 },
 "nbformat": 4,
 "nbformat_minor": 2
}
