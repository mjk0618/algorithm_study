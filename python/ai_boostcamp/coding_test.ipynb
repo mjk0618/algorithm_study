{
 "cells": [
  {
   "cell_type": "code",
   "execution_count": 71,
   "metadata": {},
   "outputs": [],
   "source": [
    "def solution(arr1, arr2):\n",
    "    answer = [[0 for x in range(len(arr1))] for y in range(len(arr1[0]))] \n",
    "    for i in range(len(arr1)):\n",
    "        for j in range(len(arr1[0])):\n",
    "            answer[i][j] = arr1[i][j] + arr2[i][j]\n",
    "    return answer"
   ]
  },
  {
   "cell_type": "code",
   "execution_count": 72,
   "metadata": {},
   "outputs": [],
   "source": [
    "arr1 = [[1,2],[2,3]]\n",
    "arr2 = [[3,4],[5,6]]"
   ]
  },
  {
   "cell_type": "code",
   "execution_count": 73,
   "metadata": {},
   "outputs": [
    {
     "data": {
      "text/plain": [
       "[[4, 6], [7, 9]]"
      ]
     },
     "execution_count": 73,
     "metadata": {},
     "output_type": "execute_result"
    }
   ],
   "source": [
    "solution(arr1, arr2)"
   ]
  },
  {
   "cell_type": "code",
   "execution_count": 87,
   "metadata": {},
   "outputs": [
    {
     "name": "stdout",
     "output_type": "stream",
     "text": [
      "2 1\n"
     ]
    },
    {
     "data": {
      "text/plain": [
       "[[4], [6]]"
      ]
     },
     "execution_count": 87,
     "metadata": {},
     "output_type": "execute_result"
    }
   ],
   "source": [
    "arr1 = [[1],[2]]\n",
    "arr2 = [[3],[4]]\n",
    "print(len(arr1), len(arr1[0]))\n",
    "\n",
    "answer = [[0 for x in range(len(arr1[0]))] for y in range(len(arr1))]\n",
    "for i in range(len(arr1)):\n",
    "    for j in range(len(arr1[0])):\n",
    "        answer[i][j] = arr1[i][j] + arr2[i][j]\n",
    "\n",
    "answer\n"
   ]
  },
  {
   "cell_type": "code",
   "execution_count": 90,
   "metadata": {},
   "outputs": [],
   "source": [
    "def solution(brown, yellow):\n",
    "    w = yellow + 2\n",
    "    h = (brown + yellow) // w\n",
    "    answer = [w, h]\n",
    "    return answer"
   ]
  },
  {
   "cell_type": "code",
   "execution_count": 92,
   "metadata": {},
   "outputs": [
    {
     "data": {
      "text/plain": [
       "[26, 1]"
      ]
     },
     "execution_count": 92,
     "metadata": {},
     "output_type": "execute_result"
    }
   ],
   "source": [
    "solution(24, 24)"
   ]
  },
  {
   "cell_type": "code",
   "execution_count": 40,
   "metadata": {},
   "outputs": [],
   "source": [
    "def solution(s):\n",
    "    answer = 0\n",
    "    split(s)\n",
    "    return answer\n",
    "\n",
    "def split(s):\n",
    "    cnt = 0\n",
    "    if len(s) == 0: return\n",
    "    a, b = 1, 0\n",
    "    for i in range(1, len(s)):\n",
    "        if s[i] == s[0]: a += 1\n",
    "        else: b += 1\n",
    "        if a == b:\n",
    "            print(cnt, s[i + 1:])\n",
    "            split(s[i + 1:])\n",
    "            cnt += 1\n",
    "            print(cnt)\n",
    "        else: \n",
    "            return cnt\n",
    "    return cnt"
   ]
  },
  {
   "cell_type": "code",
   "execution_count": 88,
   "metadata": {},
   "outputs": [
    {
     "name": "stdout",
     "output_type": "stream",
     "text": [
      "2 ccabba\n",
      "3 ba\n",
      "answer : 3\n"
     ]
    }
   ],
   "source": [
    "s = \"aaabbaccccabba\"\n",
    "cnt = 1\n",
    "while len(s) > 2:\n",
    "    a, b = 1, 0\n",
    "    for i in range(1, len(s)):\n",
    "        if s[i] == s[0]:\n",
    "            a += 1\n",
    "        else:\n",
    "            b += 1\n",
    "        if a == b:\n",
    "            s = s[i + 1:]\n",
    "            cnt += 1\n",
    "            print(cnt, s)\n",
    "            break\n",
    "\n",
    "print('answer :', cnt)"
   ]
  },
  {
   "cell_type": "code",
   "execution_count": 111,
   "metadata": {},
   "outputs": [
    {
     "ename": "IndexError",
     "evalue": "string index out of range",
     "output_type": "error",
     "traceback": [
      "\u001b[1;31m---------------------------------------------------------------------------\u001b[0m",
      "\u001b[1;31mIndexError\u001b[0m                                Traceback (most recent call last)",
      "Cell \u001b[1;32mIn [111], line 15\u001b[0m\n\u001b[0;32m     12\u001b[0m                 answer \u001b[39m+\u001b[39m\u001b[39m=\u001b[39m \u001b[39m1\u001b[39m\n\u001b[0;32m     13\u001b[0m     \u001b[39mreturn\u001b[39;00m answer\n\u001b[1;32m---> 15\u001b[0m solution(\u001b[39m\"\u001b[39;49m\u001b[39maaabbaccccabba\u001b[39;49m\u001b[39m\"\u001b[39;49m)\n",
      "Cell \u001b[1;32mIn [111], line 6\u001b[0m, in \u001b[0;36msolution\u001b[1;34m(s)\u001b[0m\n\u001b[0;32m      4\u001b[0m a, b \u001b[39m=\u001b[39m \u001b[39m1\u001b[39m, \u001b[39m0\u001b[39m\n\u001b[0;32m      5\u001b[0m \u001b[39mfor\u001b[39;00m i \u001b[39min\u001b[39;00m \u001b[39mrange\u001b[39m(\u001b[39m1\u001b[39m, \u001b[39mlen\u001b[39m(s)):\n\u001b[1;32m----> 6\u001b[0m     \u001b[39mif\u001b[39;00m s[i] \u001b[39m==\u001b[39m s[\u001b[39m0\u001b[39m]:\n\u001b[0;32m      7\u001b[0m         a \u001b[39m+\u001b[39m\u001b[39m=\u001b[39m \u001b[39m1\u001b[39m\n\u001b[0;32m      8\u001b[0m     \u001b[39melse\u001b[39;00m:\n",
      "\u001b[1;31mIndexError\u001b[0m: string index out of range"
     ]
    }
   ],
   "source": [
    "def solution(s):\n",
    "    answer = 0\n",
    "    while s != '':\n",
    "        a, b = 1, 0\n",
    "        for i in range(1, len(s)):\n",
    "            if s[i] == s[0]:\n",
    "                a += 1\n",
    "            else:\n",
    "                b += 1\n",
    "            if a == b:\n",
    "                s = s[i + 1:]\n",
    "                answer += 1\n",
    "    return answer\n",
    "\n",
    "solution(\"aaabbaccccabba\")"
   ]
  }
 ],
 "metadata": {
  "kernelspec": {
   "display_name": "Python 3",
   "language": "python",
   "name": "python3"
  },
  "language_info": {
   "codemirror_mode": {
    "name": "ipython",
    "version": 3
   },
   "file_extension": ".py",
   "mimetype": "text/x-python",
   "name": "python",
   "nbconvert_exporter": "python",
   "pygments_lexer": "ipython3",
   "version": "3.10.2"
  },
  "orig_nbformat": 4,
  "vscode": {
   "interpreter": {
    "hash": "bf74378b3249af5359f07a9caa84b7a763805fcaf59590a4dc4a6d39ea6824f2"
   }
  }
 },
 "nbformat": 4,
 "nbformat_minor": 2
}
