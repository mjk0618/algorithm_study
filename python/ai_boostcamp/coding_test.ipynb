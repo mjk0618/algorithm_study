{
 "cells": [
  {
   "cell_type": "code",
   "execution_count": 71,
   "metadata": {},
   "outputs": [],
   "source": [
    "def solution(arr1, arr2):\n",
    "    answer = [[0 for x in range(len(arr1))] for y in range(len(arr1[0]))] \n",
    "    for i in range(len(arr1)):\n",
    "        for j in range(len(arr1[0])):\n",
    "            answer[i][j] = arr1[i][j] + arr2[i][j]\n",
    "    return answer"
   ]
  },
  {
   "cell_type": "code",
   "execution_count": 72,
   "metadata": {},
   "outputs": [],
   "source": [
    "arr1 = [[1,2],[2,3]]\n",
    "arr2 = [[3,4],[5,6]]"
   ]
  },
  {
   "cell_type": "code",
   "execution_count": 73,
   "metadata": {},
   "outputs": [
    {
     "data": {
      "text/plain": [
       "[[4, 6], [7, 9]]"
      ]
     },
     "execution_count": 73,
     "metadata": {},
     "output_type": "execute_result"
    }
   ],
   "source": [
    "solution(arr1, arr2)"
   ]
  },
  {
   "cell_type": "code",
   "execution_count": 87,
   "metadata": {},
   "outputs": [
    {
     "name": "stdout",
     "output_type": "stream",
     "text": [
      "2 1\n"
     ]
    },
    {
     "data": {
      "text/plain": [
       "[[4], [6]]"
      ]
     },
     "execution_count": 87,
     "metadata": {},
     "output_type": "execute_result"
    }
   ],
   "source": [
    "arr1 = [[1],[2]]\n",
    "arr2 = [[3],[4]]\n",
    "print(len(arr1), len(arr1[0]))\n",
    "\n",
    "answer = [[0 for x in range(len(arr1[0]))] for y in range(len(arr1))]\n",
    "for i in range(len(arr1)):\n",
    "    for j in range(len(arr1[0])):\n",
    "        answer[i][j] = arr1[i][j] + arr2[i][j]\n",
    "\n",
    "answer\n"
   ]
  },
  {
   "cell_type": "code",
   "execution_count": 90,
   "metadata": {},
   "outputs": [],
   "source": [
    "def solution(brown, yellow):\n",
    "    w = yellow + 2\n",
    "    h = (brown + yellow) // w\n",
    "    answer = [w, h]\n",
    "    return answer"
   ]
  },
  {
   "cell_type": "code",
   "execution_count": 92,
   "metadata": {},
   "outputs": [
    {
     "data": {
      "text/plain": [
       "[26, 1]"
      ]
     },
     "execution_count": 92,
     "metadata": {},
     "output_type": "execute_result"
    }
   ],
   "source": [
    "solution(24, 24)"
   ]
  },
  {
   "cell_type": "code",
   "execution_count": 40,
   "metadata": {},
   "outputs": [],
   "source": [
    "def solution(s):\n",
    "    answer = 0\n",
    "    split(s)\n",
    "    return answer\n",
    "\n",
    "def split(s):\n",
    "    cnt = 0\n",
    "    if len(s) == 0: return\n",
    "    a, b = 1, 0\n",
    "    for i in range(1, len(s)):\n",
    "        if s[i] == s[0]: a += 1\n",
    "        else: b += 1\n",
    "        if a == b:\n",
    "            print(cnt, s[i + 1:])\n",
    "            split(s[i + 1:])\n",
    "            cnt += 1\n",
    "            print(cnt)\n",
    "        else: \n",
    "            return cnt\n",
    "    return cnt"
   ]
  },
  {
   "cell_type": "code",
   "execution_count": 88,
   "metadata": {},
   "outputs": [
    {
     "name": "stdout",
     "output_type": "stream",
     "text": [
      "2 ccabba\n",
      "3 ba\n",
      "answer : 3\n"
     ]
    }
   ],
   "source": [
    "s = \"aaabbaccccabba\"\n",
    "cnt = 1\n",
    "while len(s) > 2:\n",
    "    a, b = 1, 0\n",
    "    for i in range(1, len(s)):\n",
    "        if s[i] == s[0]:\n",
    "            a += 1\n",
    "        else:\n",
    "            b += 1\n",
    "        if a == b:\n",
    "            s = s[i + 1:]\n",
    "            cnt += 1\n",
    "            print(cnt, s)\n",
    "            break\n",
    "\n",
    "print('answer :', cnt)"
   ]
  },
  {
   "cell_type": "code",
   "execution_count": 3,
   "metadata": {},
   "outputs": [
    {
     "ename": "IndexError",
     "evalue": "string index out of range",
     "output_type": "error",
     "traceback": [
      "\u001b[1;31m---------------------------------------------------------------------------\u001b[0m",
      "\u001b[1;31mIndexError\u001b[0m                                Traceback (most recent call last)",
      "Cell \u001b[1;32mIn [3], line 15\u001b[0m\n\u001b[0;32m     12\u001b[0m                 answer \u001b[39m+\u001b[39m\u001b[39m=\u001b[39m \u001b[39m1\u001b[39m\n\u001b[0;32m     13\u001b[0m     \u001b[39mreturn\u001b[39;00m answer\n\u001b[1;32m---> 15\u001b[0m solution(\u001b[39m\"\u001b[39;49m\u001b[39maaabbaccccabba\u001b[39;49m\u001b[39m\"\u001b[39;49m)\n",
      "Cell \u001b[1;32mIn [3], line 6\u001b[0m, in \u001b[0;36msolution\u001b[1;34m(s)\u001b[0m\n\u001b[0;32m      4\u001b[0m a, b \u001b[39m=\u001b[39m \u001b[39m1\u001b[39m, \u001b[39m0\u001b[39m\n\u001b[0;32m      5\u001b[0m \u001b[39mfor\u001b[39;00m i \u001b[39min\u001b[39;00m \u001b[39mrange\u001b[39m(\u001b[39m1\u001b[39m, \u001b[39mlen\u001b[39m(s)):\n\u001b[1;32m----> 6\u001b[0m     \u001b[39mif\u001b[39;00m s[i] \u001b[39m==\u001b[39m s[\u001b[39m0\u001b[39m]:\n\u001b[0;32m      7\u001b[0m         a \u001b[39m+\u001b[39m\u001b[39m=\u001b[39m \u001b[39m1\u001b[39m\n\u001b[0;32m      8\u001b[0m     \u001b[39melse\u001b[39;00m:\n",
      "\u001b[1;31mIndexError\u001b[0m: string index out of range"
     ]
    }
   ],
   "source": [
    "def solution(s):\n",
    "    answer = 0\n",
    "    while s != '':\n",
    "        a, b = 1, 0\n",
    "        for i in range(1, len(s)):\n",
    "            if s[i] == s[0]:\n",
    "                a += 1\n",
    "            else:\n",
    "                b += 1\n",
    "            if a == b:\n",
    "                s = s[i + 1:]\n",
    "                answer += 1\n",
    "    return answer\n",
    "\n",
    "solution(\"aaabbaccccabba\")"
   ]
  },
  {
   "cell_type": "code",
   "execution_count": 14,
   "metadata": {},
   "outputs": [
    {
     "data": {
      "text/plain": [
       "10"
      ]
     },
     "execution_count": 14,
     "metadata": {},
     "output_type": "execute_result"
    }
   ],
   "source": [
    "def solution(price, money, count):\n",
    "    total = sum(range(1, count + 1))\n",
    "    money -= total * price\n",
    "    answer = abs(money) if (money < 0) else 0\n",
    "    return answer\n",
    "\n",
    "solution(3, 20, 4)"
   ]
  },
  {
   "cell_type": "code",
   "execution_count": 17,
   "metadata": {},
   "outputs": [],
   "source": [
    "def solution(strings, n):\n",
    "    strings = [i[n] + i for i in strings]\n",
    "    strings.sort()\n",
    "    answer = [i[1:] for i in strings]\n",
    "    return answer"
   ]
  },
  {
   "cell_type": "code",
   "execution_count": 22,
   "metadata": {},
   "outputs": [
    {
     "name": "stdout",
     "output_type": "stream",
     "text": [
      "['usun', 'ebed', 'acar']\n",
      "['acar', 'ebed', 'usun']\n"
     ]
    },
    {
     "data": {
      "text/plain": [
       "['car', 'bed', 'sun']"
      ]
     },
     "execution_count": 22,
     "metadata": {},
     "output_type": "execute_result"
    }
   ],
   "source": [
    "strings = [\"sun\", \"bed\", \"car\"]\t\n",
    "n = 1\n",
    "strings = [i[n] + i for i in strings]\n",
    "print(strings)\n",
    "strings.sort()\n",
    "print(strings)\n",
    "answer = [i[1:] for i in strings]\n",
    "answer"
   ]
  },
  {
   "cell_type": "code",
   "execution_count": 23,
   "metadata": {},
   "outputs": [],
   "source": [
    "def solution(n, k):\n",
    "    answer = []\n",
    "    return answer"
   ]
  },
  {
   "cell_type": "code",
   "execution_count": 32,
   "metadata": {},
   "outputs": [
    {
     "data": {
      "text/plain": [
       "[(3, 1, 2)]"
      ]
     },
     "execution_count": 32,
     "metadata": {},
     "output_type": "execute_result"
    }
   ],
   "source": [
    "n, k = 3, 5\n",
    "from itertools import permutations\n",
    "answer = [list(permutations(range(1, n + 1)))[k - 1]]\n",
    "answer"
   ]
  },
  {
   "cell_type": "code",
   "execution_count": 65,
   "metadata": {},
   "outputs": [
    {
     "data": {
      "text/plain": [
       "[('classic', 500),\n",
       " ('pop', 600),\n",
       " ('classic', 150),\n",
       " ('classic', 800),\n",
       " ('pop', 2500)]"
      ]
     },
     "execution_count": 65,
     "metadata": {},
     "output_type": "execute_result"
    }
   ],
   "source": [
    "answer = []\n",
    "genres= [\"classic\", \"pop\", \"classic\", \"classic\", \"pop\"]\t\n",
    "plays = [500, 600, 150, 800, 2500]\t\n",
    "\n",
    "g_dict = {genre: 0 for genre in genres}\n",
    "for i, v in enumerate(genres):\n",
    "    g_dict[v] += plays[i]\n",
    "\n",
    "g_dict = sorted(g_dict.items(), key = lambda item:item[1])\n",
    "first = g_dict[-1][0]\n",
    "second = g_dict[-2][0]\n",
    "third = g_dict[-3][0] if len(g_dict) > 2 else ''\n",
    "musics = list(zip(genres, plays))\n",
    "for i, v in enumerate(musics):\n",
    "    if v[0] == first and answer == False:\n",
    "        answer.append(i)\n",
    "    elif v[0] == first and "
   ]
  },
  {
   "cell_type": "code",
   "execution_count": 1,
   "metadata": {},
   "outputs": [],
   "source": [
    "def solution(n, money):\n",
    "    answer = 0\n",
    "    return answer"
   ]
  },
  {
   "cell_type": "code",
   "execution_count": 21,
   "metadata": {},
   "outputs": [
    {
     "data": {
      "text/plain": [
       "deque([1])"
      ]
     },
     "execution_count": 21,
     "metadata": {},
     "output_type": "execute_result"
    }
   ],
   "source": [
    "from collections import deque\n",
    "\n",
    "graph_list = {1: set([3, 4]),\n",
    "              2: set([3, 4, 5]),\n",
    "              3: set([1, 5]),\n",
    "              4: set([1]),\n",
    "              5: set([2, 6]),\n",
    "              6: set([3, 5])}\n",
    "root_node = 1\n",
    "\n",
    "visited = []\n",
    "queue = deque([root_node])\n",
    "\n",
    "queue"
   ]
  },
  {
   "cell_type": "code",
   "execution_count": 7,
   "metadata": {},
   "outputs": [],
   "source": [
    "while queue:\n",
    "        n = queue.popleft()\n",
    "        if n not in visited:\n",
    "            visited.append(n)\n",
    "            queue += graph_list[n] - set(visited)"
   ]
  },
  {
   "cell_type": "code",
   "execution_count": 22,
   "metadata": {},
   "outputs": [],
   "source": [
    "n = queue.popleft()\n",
    "visited.append(n)"
   ]
  },
  {
   "cell_type": "code",
   "execution_count": 29,
   "metadata": {},
   "outputs": [],
   "source": [
    "queue += graph_list[1] - set(visited)"
   ]
  },
  {
   "cell_type": "code",
   "execution_count": 30,
   "metadata": {},
   "outputs": [
    {
     "data": {
      "text/plain": [
       "deque([3, 4])"
      ]
     },
     "execution_count": 30,
     "metadata": {},
     "output_type": "execute_result"
    }
   ],
   "source": [
    "queue"
   ]
  },
  {
   "cell_type": "code",
   "execution_count": 32,
   "metadata": {},
   "outputs": [
    {
     "data": {
      "text/plain": [
       "[3, 4]"
      ]
     },
     "execution_count": 32,
     "metadata": {},
     "output_type": "execute_result"
    }
   ],
   "source": [
    "a = {3, 4}\n",
    "b = []\n",
    "b += a\n",
    "b"
   ]
  },
  {
   "cell_type": "code",
   "execution_count": 33,
   "metadata": {},
   "outputs": [],
   "source": [
    "graph_list = {1: set([3, 4]),\n",
    "              2: set([3, 4, 5]),\n",
    "              3: set([1, 5]),\n",
    "              4: set([1]),\n",
    "              5: set([2, 6]),\n",
    "              6: set([3, 5])}\n",
    "root_node = 1\n",
    "\n",
    "visited = []\n",
    "stack = [root_node]\n",
    "\n",
    "n = stack.pop()"
   ]
  },
  {
   "cell_type": "code",
   "execution_count": 37,
   "metadata": {},
   "outputs": [
    {
     "name": "stdout",
     "output_type": "stream",
     "text": [
      "[1, 3, 4, 5, 2, 6]\n"
     ]
    }
   ],
   "source": [
    "from collections import deque\n",
    "\n",
    "graph_list = {1: set([3, 4]),\n",
    "              2: set([3, 4, 5]),\n",
    "              3: set([1, 5]),\n",
    "              4: set([1]),\n",
    "              5: set([2, 6]),\n",
    "              6: set([3, 5])}\n",
    "root_node = 1\n",
    "\n",
    "visited = []\n",
    "queue = deque([root_node])\n",
    "\n",
    "from collections import deque\n",
    "\n",
    "def BFS_with_adj_list(graph, root):\n",
    "    visited = []\n",
    "    queue = deque([root])\n",
    "\n",
    "    while queue:\n",
    "        n = queue.popleft()\n",
    "        if n not in visited:\n",
    "            visited.append(n)\n",
    "            queue += graph[n] - set(visited)\n",
    "    return visited\n",
    "  \n",
    "print(BFS_with_adj_list(graph_list, root_node))"
   ]
  },
  {
   "cell_type": "code",
   "execution_count": 36,
   "metadata": {},
   "outputs": [
    {
     "name": "stdout",
     "output_type": "stream",
     "text": [
      "[1, 4, 3, 5, 6, 2]\n"
     ]
    }
   ],
   "source": [
    "def DFS_with_adj_list(graph, root):\n",
    "    visited = []\n",
    "    stack = [root]\n",
    "\n",
    "    while stack:\n",
    "        n = stack.pop()\n",
    "        if n not in visited:\n",
    "            visited.append(n)\n",
    "            stack += graph[n] - set(visited)\n",
    "    return visited\n",
    "\n",
    "print(DFS_with_adj_list(graph_list, root_node))"
   ]
  },
  {
   "cell_type": "code",
   "execution_count": 38,
   "metadata": {},
   "outputs": [],
   "source": [
    "from collections import deque\n",
    "\n",
    "def bfs(node, tree, visited, wire, cnt):\n",
    "    queue = deque()\n",
    "    queue.append([node, tree, visited, wire])\n",
    "    visited[node] = True\n",
    "\n",
    "    while queue:\n",
    "        node, tree, visited, wire = queue.popleft()\n",
    "        cnt += 1\n",
    "\n",
    "        for i in tree[node]:\n",
    "            if not ((node == wire[0] and i == wire[1]) or (node == wire[1] and i == wire[0])):\n",
    "                if not visited[i]:\n",
    "                    visited[i] = True\n",
    "                    queue.append([i, tree, visited, wire])\n",
    "\n",
    "    return cnt\n",
    "\n",
    "\n",
    "def solution(n, wires):\n",
    "    answer = 1e9\n",
    "    tree = [[] for _ in range(n + 1)]\n",
    "\n",
    "    for wire in wires:\n",
    "        a, b = wire\n",
    "        tree[a].append(b)\n",
    "        tree[b].append(a)\n",
    "\n",
    "    for wire in wires:\n",
    "        visited = [False] * (n + 1)\n",
    "        temp = []\n",
    "        for i in range(1, n + 1):\n",
    "            if not visited[i]:\n",
    "                cnt = bfs(i, tree, visited, wire, 0)\n",
    "                temp.append(cnt)\n",
    "\n",
    "        answer = min(answer, abs(temp[0] - temp[1]))\n",
    "\n",
    "    return answer"
   ]
  },
  {
   "cell_type": "code",
   "execution_count": 78,
   "metadata": {},
   "outputs": [
    {
     "data": {
      "text/plain": [
       "[3, 1, 2]"
      ]
     },
     "execution_count": 78,
     "metadata": {},
     "output_type": "execute_result"
    }
   ],
   "source": [
    "from math import factorial\n",
    "def solution(n, k):\n",
    "    lst = list(range(1, n + 1))\n",
    "    answer = []\n",
    "    k -= 1\n",
    "\n",
    "    for i in range(n, 0, -1):\n",
    "        max_num = factorial(n)\n",
    "        split_num = max_num // n\n",
    "        answer.append(lst[k // split_num])\n",
    "        lst.pop(k // split_num)\n",
    "        k %= split_num\n",
    "        n -= 1\n",
    "    return answer\n",
    "\n",
    "solution(3, 5)"
   ]
  },
  {
   "cell_type": "code",
   "execution_count": 79,
   "metadata": {},
   "outputs": [
    {
     "data": {
      "text/plain": [
       "2"
      ]
     },
     "execution_count": 79,
     "metadata": {},
     "output_type": "execute_result"
    }
   ],
   "source": [
    "def solution(n, money):\n",
    "    while True:\n",
    "        \n",
    "    answer = 0\n",
    "    return answer"
   ]
  },
  {
   "cell_type": "code",
   "execution_count": 3,
   "metadata": {},
   "outputs": [
    {
     "data": {
      "text/plain": [
       "[2, 4, 6, 8, 10]"
      ]
     },
     "execution_count": 3,
     "metadata": {},
     "output_type": "execute_result"
    }
   ],
   "source": [
    "n = 10\n",
    "answer = [i for i in range(1, n + 1) if i % 2 == 0]\n",
    "answer\n"
   ]
  },
  {
   "cell_type": "code",
   "execution_count": 10,
   "metadata": {},
   "outputs": [
    {
     "data": {
      "text/plain": [
       "[4, 3, 2, 1]"
      ]
     },
     "execution_count": 10,
     "metadata": {},
     "output_type": "execute_result"
    }
   ],
   "source": [
    "a = [1, 2, 3, 4]\n",
    "b = list(reversed(a))\n",
    "b"
   ]
  },
  {
   "cell_type": "code",
   "execution_count": 5,
   "metadata": {},
   "outputs": [
    {
     "data": {
      "text/plain": [
       "[4, 3, 2, 1]"
      ]
     },
     "execution_count": 5,
     "metadata": {},
     "output_type": "execute_result"
    }
   ],
   "source": [
    "a"
   ]
  },
  {
   "cell_type": "code",
   "execution_count": 12,
   "metadata": {},
   "outputs": [
    {
     "data": {
      "text/plain": [
       "[2, 3]"
      ]
     },
     "execution_count": 12,
     "metadata": {},
     "output_type": "execute_result"
    }
   ],
   "source": [
    "num_list = [1, 2, 3, 4, 5]\t\n",
    "odd, even = 0, 0\n",
    "for i in num_list:\n",
    "    if i % 2 != 0:\n",
    "        odd += 1\n",
    "    else:\n",
    "        even += 1\n",
    "answer = [even, odd]\n",
    "answer"
   ]
  },
  {
   "cell_type": "code",
   "execution_count": null,
   "metadata": {},
   "outputs": [],
   "source": []
  }
 ],
 "metadata": {
  "kernelspec": {
   "display_name": "Python 3",
   "language": "python",
   "name": "python3"
  },
  "language_info": {
   "codemirror_mode": {
    "name": "ipython",
    "version": 3
   },
   "file_extension": ".py",
   "mimetype": "text/x-python",
   "name": "python",
   "nbconvert_exporter": "python",
   "pygments_lexer": "ipython3",
   "version": "3.10.2 (tags/v3.10.2:a58ebcc, Jan 17 2022, 14:12:15) [MSC v.1929 64 bit (AMD64)]"
  },
  "orig_nbformat": 4,
  "vscode": {
   "interpreter": {
    "hash": "bf74378b3249af5359f07a9caa84b7a763805fcaf59590a4dc4a6d39ea6824f2"
   }
  }
 },
 "nbformat": 4,
 "nbformat_minor": 2
}
