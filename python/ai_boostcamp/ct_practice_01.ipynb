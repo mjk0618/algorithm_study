{
 "cells": [
  {
   "cell_type": "code",
   "execution_count": 5,
   "metadata": {},
   "outputs": [],
   "source": [
    "a = 1\n",
    "b = 2\n",
    "c = 3"
   ]
  },
  {
   "cell_type": "code",
   "execution_count": 13,
   "metadata": {},
   "outputs": [
    {
     "name": "stdout",
     "output_type": "stream",
     "text": [
      "치킨당첨자 1번\n"
     ]
    }
   ],
   "source": [
    "chicken = '1번'\n",
    "print('치킨당첨자 {0}와 {1},' .format(chicken))"
   ]
  },
  {
   "cell_type": "code",
   "execution_count": 15,
   "metadata": {},
   "outputs": [
    {
     "name": "stdout",
     "output_type": "stream",
     "text": [
      "치킨당첨자 1번\n"
     ]
    }
   ],
   "source": [
    "print(f'치킨당첨자 {chicken}')"
   ]
  },
  {
   "cell_type": "code",
   "execution_count": 17,
   "metadata": {},
   "outputs": [
    {
     "name": "stdout",
     "output_type": "stream",
     "text": [
      "http://\n"
     ]
    }
   ],
   "source": [
    "print(r'http://')"
   ]
  },
  {
   "cell_type": "code",
   "execution_count": 18,
   "metadata": {},
   "outputs": [],
   "source": [
    "PI = 3.14"
   ]
  },
  {
   "cell_type": "code",
   "execution_count": 19,
   "metadata": {},
   "outputs": [],
   "source": [
    "def func(a, b):\n",
    "    c = a + b\n",
    "    d = a - b\n",
    "    return (c, d)\n",
    "\n"
   ]
  },
  {
   "cell_type": "code",
   "execution_count": 21,
   "metadata": {},
   "outputs": [],
   "source": [
    "from collections import deque\n",
    "\n",
    "a = deque()"
   ]
  },
  {
   "cell_type": "code",
   "execution_count": 23,
   "metadata": {},
   "outputs": [],
   "source": [
    "import numpy as np\n",
    "import tensorflow as tf\n",
    "import pandas as pd\n",
    "\n",
    "np.tolist()"
   ]
  },
  {
   "cell_type": "code",
   "execution_count": 4,
   "metadata": {},
   "outputs": [
    {
     "data": {
      "text/plain": [
       "True"
      ]
     },
     "execution_count": 4,
     "metadata": {},
     "output_type": "execute_result"
    }
   ],
   "source": [
    "a = 2\n",
    "1 < a < 5"
   ]
  },
  {
   "cell_type": "code",
   "execution_count": 4,
   "metadata": {},
   "outputs": [
    {
     "data": {
      "text/plain": [
       "False"
      ]
     },
     "execution_count": 4,
     "metadata": {},
     "output_type": "execute_result"
    }
   ],
   "source": [
    "(1, 10) < (0, 20)"
   ]
  },
  {
   "cell_type": "code",
   "execution_count": 83,
   "metadata": {},
   "outputs": [
    {
     "name": "stdout",
     "output_type": "stream",
     "text": [
      "num  p  t_date  p_date\n",
      "1 2020.06.25 A (2017, 11, 21) (2021, 6, 24)\n",
      "2 2022.04.20 A (2007, 8, 21) (2023, 4, 19)\n",
      "3 2018.03.14 C (2001, 8, 13) (2019, 11, 13)\n",
      "4 2017.02.15 B (2016, 2, 1) (2017, 5, 14)\n",
      "5 2007.04.22 C (2018, 6, 28) (2008, 12, 21)\n",
      "6 2000.04.24 B (2022, 5, 17) (2000, 7, 23)\n",
      "7 2016.10.11 A (2005, 7, 20) (2017, 10, 10)\n",
      "8 2015.06.12 B (2019, 1, 21) (2015, 9, 11)\n",
      "9 2013.10.24 A (2008, 3, 7) (2014, 10, 23)\n",
      "10 2018.06.11 C (2001, 6, 28) (2020, 2, 10)\n",
      "11 2004.11.15 A (2007, 12, 10) (2005, 11, 14)\n",
      "12 2013.08.21 A (2005, 1, 3) (2014, 8, 20)\n",
      "13 2008.11.16 C (2007, 10, 21) (2010, 7, 15)\n",
      "14 2022.01.12 B (2016, 9, 22) (2022, 4, 11)\n",
      "15 2000.12.01 C (2005, 4, 14) (2002, 7, 28)\n",
      "16 2001.01.12 A (2007, 6, 9) (2002, 1, 11)\n",
      "17 2002.03.02 C (2018, 6, 26) (2003, 11, 1)\n",
      "18 2005.08.25 C (2017, 2, 26) (2007, 4, 24)\n",
      "19 2006.06.26 C (2014, 1, 7) (2008, 2, 25)\n",
      "20 2003.07.22 B (2020, 9, 16) (2003, 10, 21)\n",
      "21 2021.12.14 B (2018, 6, 3) (2022, 3, 13)\n",
      "22 2007.11.26 C (2011, 8, 17) (2009, 7, 25)\n",
      "23 2005.04.09 B (2008, 12, 12) (2005, 7, 8)\n",
      "24 2014.04.19 B (2001, 2, 27) (2014, 7, 18)\n",
      "25 2018.10.12 A (2010, 2, 26) (2019, 10, 11)\n",
      "26 2012.07.02 C (2002, 11, 10) (2014, 3, 1)\n",
      "27 2015.01.04 B (2008, 12, 15) (2015, 4, 3)\n",
      "28 2022.05.09 A (2019, 12, 27) (2023, 5, 8)\n",
      "29 2008.08.01 C (2007, 11, 6) (2010, 3, 28)\n",
      "30 2012.07.23 B (2004, 4, 1) (2012, 10, 22)\n",
      "31 2001.09.14 C (2021, 8, 19) (2003, 5, 13)\n",
      "32 2021.09.10 B (2015, 3, 7) (2021, 12, 9)\n",
      "33 2001.10.08 C (2012, 3, 14) (2003, 6, 7)\n",
      "34 2002.12.27 C (2014, 8, 2) (2004, 8, 26)\n",
      "35 2020.09.20 C (2003, 4, 7) (2022, 5, 19)\n",
      "36 2004.10.27 A (2021, 7, 2) (2005, 10, 26)\n",
      "37 2000.08.21 C (2021, 5, 26) (2002, 4, 20)\n",
      "38 2020.06.04 B (2016, 7, 20) (2020, 9, 3)\n",
      "39 2013.01.21 C (2010, 1, 11) (2014, 9, 20)\n",
      "40 2021.03.04 C (2005, 8, 9) (2022, 11, 3)\n",
      "41 2006.07.23 A (2022, 7, 5) (2007, 7, 22)\n",
      "42 2017.05.15 B (2015, 1, 5) (2017, 8, 14)\n",
      "43 2019.08.08 C (2014, 12, 25) (2021, 4, 7)\n",
      "44 2010.01.03 A (2003, 1, 17) (2011, 1, 2)\n",
      "45 2017.02.10 C (2003, 6, 5) (2018, 10, 9)\n",
      "46 2020.09.04 C (2005, 10, 18) (2022, 5, 3)\n",
      "47 2016.12.06 B (2011, 11, 8) (2017, 3, 5)\n",
      "48 2018.06.21 A (2010, 3, 15) (2019, 6, 20)\n",
      "49 2012.04.16 B (2022, 1, 24) (2012, 7, 15)\n",
      "50 2000.03.28 C (2015, 8, 7) (2001, 11, 27)\n",
      "51 2006.07.25 A (2021, 7, 16) (2007, 7, 24)\n",
      "52 2003.11.14 C (2019, 9, 1) (2005, 7, 13)\n",
      "53 2016.12.13 A (2022, 2, 7) (2017, 12, 12)\n",
      "54 2018.04.04 B (2014, 2, 22) (2018, 7, 3)\n",
      "55 2016.01.09 A (2010, 1, 19) (2017, 1, 8)\n",
      "56 2004.06.02 B (2020, 12, 6) (2004, 9, 1)\n",
      "57 2009.10.28 A (2006, 4, 15) (2010, 10, 27)\n",
      "58 2015.08.18 C (2013, 11, 15) (2017, 4, 17)\n",
      "59 2017.04.17 B (2001, 6, 17) (2017, 7, 16)\n",
      "60 2002.08.16 C (2005, 9, 25) (2004, 4, 15)\n",
      "61 2014.10.04 B (2014, 4, 11) (2015, 1, 3)\n",
      "62 2015.04.19 B (2010, 6, 8) (2015, 7, 18)\n",
      "63 2010.06.22 A (2014, 1, 6) (2011, 6, 21)\n",
      "64 2000.08.09 B (2017, 9, 11) (2000, 11, 8)\n",
      "65 2017.06.21 A (2001, 1, 18) (2018, 6, 20)\n",
      "66 2016.11.21 B (2004, 10, 13) (2017, 2, 20)\n",
      "67 2004.06.12 A (2011, 12, 17) (2005, 6, 11)\n",
      "68 2000.05.13 C (2020, 1, 28) (2002, 1, 12)\n",
      "69 2009.04.19 B (2021, 5, 4) (2009, 7, 18)\n",
      "70 2021.09.23 B (2015, 5, 19) (2021, 12, 22)\n",
      "71 2009.04.23 C (2004, 3, 17) (2010, 12, 22)\n",
      "72 2018.02.27 C (2021, 6, 17) (2019, 10, 26)\n",
      "73 2013.11.06 C (2004, 7, 17) (2015, 7, 5)\n",
      "74 2004.08.22 B (2010, 10, 18) (2004, 11, 21)\n",
      "75 2014.04.20 A (2005, 2, 16) (2015, 4, 19)\n",
      "76 2000.08.12 B (2012, 8, 26) (2000, 11, 11)\n",
      "77 2008.05.09 A (2004, 4, 7) (2009, 5, 8)\n",
      "78 2004.10.06 B (2015, 8, 9) (2005, 1, 5)\n",
      "79 2009.11.07 A (2004, 3, 22) (2010, 11, 6)\n",
      "80 2010.12.26 B (2000, 4, 20) (2011, 3, 25)\n",
      "81 2019.08.06 C (2021, 2, 12) (2021, 4, 5)\n",
      "82 2014.09.23 C (2001, 1, 16) (2016, 5, 22)\n",
      "83 2020.09.24 B (2022, 1, 12) (2020, 12, 23)\n",
      "84 2013.11.20 A (2020, 9, 11) (2014, 11, 19)\n",
      "85 2003.05.18 A (2020, 12, 21) (2004, 5, 17)\n",
      "86 2016.11.24 A (2011, 12, 10) (2017, 11, 23)\n",
      "87 2014.07.10 A (2018, 9, 15) (2015, 7, 9)\n",
      "88 2009.03.04 A (2016, 7, 4) (2010, 3, 3)\n",
      "89 2021.11.10 A (2014, 2, 18) (2022, 11, 9)\n",
      "90 2004.12.07 B (2002, 4, 27) (2005, 3, 6)\n",
      "91 2022.11.16 C (2017, 8, 8) (2024, 7, 15)\n",
      "92 2005.08.24 C (2005, 5, 10) (2007, 4, 23)\n",
      "93 2005.11.23 C (2007, 4, 1) (2007, 7, 22)\n",
      "94 2001.10.11 A (2016, 8, 18) (2002, 10, 10)\n",
      "95 2014.11.12 C (2003, 12, 21) (2016, 7, 11)\n",
      "96 2010.08.13 B (2010, 1, 2) (2010, 11, 12)\n",
      "97 2009.08.23 B (2012, 6, 23) (2009, 11, 22)\n",
      "98 2002.04.21 B (2019, 7, 23) (2002, 7, 20)\n",
      "99 2008.03.02 B (2014, 12, 4) (2008, 6, 1)\n",
      "100 2000.04.19 B (2013, 12, 3) (2000, 7, 18)\n"
     ]
    }
   ],
   "source": [
    "from random import *\n",
    "#today = \"2022.05.19\"\n",
    "terms = [\"A 12\", \"B 3\", \"C 20\"]\t\n",
    "privacies = []\t\n",
    "\n",
    "for i in range(100):\n",
    "    type = terms[randrange(0, len(terms))][0]\n",
    "    year = randint(2000, 2022)\n",
    "    month = randint(1, 12)\n",
    "    day = randint(1, 28)\n",
    "    #day = 28\n",
    "    p = f'{str(year)}.{str(month).zfill(2)}.{str(day).zfill(2)} {type}'\n",
    "    privacies.append(p)\n",
    "\n",
    "\n",
    "answer = []\n",
    "\n",
    "terms_dict = {i.split(' ')[0]: i.split(' ')[1]  for i in terms}\n",
    "num = 1\n",
    "\n",
    "print('num  p  t_date  p_date')\n",
    "\n",
    "for p in privacies:\n",
    "    t_year = randint(2000, 2022)\n",
    "    t_month = randint(1, 12)\n",
    "    t_day = randint(1, 28)\n",
    "    t_date = (t_year, t_month, t_day)\n",
    "    type = int(terms_dict[p[-1]])\n",
    "    year = int(p[:4])\n",
    "    month = int(p[5:7]) + type\n",
    "    day = int(p[8:10]) - 1\n",
    "    if month > 12:\n",
    "        plus = month // 12\n",
    "        year += plus\n",
    "        month -= 12 * plus\n",
    "    if day < 1:\n",
    "        month -= 1\n",
    "        day = 28\n",
    "    if month < 1:\n",
    "        year -= 1\n",
    "        month = 12\n",
    "    p_date = (year, month, day)\n",
    "    if p_date < t_date:\n",
    "        answer.append(privacies.index(p) + 1)\n",
    "    print(num, p, t_date, p_date)\n",
    "    #print(num, p_date)\n",
    "    num += 1"
   ]
  },
  {
   "cell_type": "code",
   "execution_count": 67,
   "metadata": {},
   "outputs": [],
   "source": [
    "from random import *\n",
    "#today = \"2022.05.19\"\n",
    "terms = [\"A 12\", \"B 20\", \"C 20\"]\t\n",
    "privacies = []\t\n",
    "\n",
    "for i in range(100):\n",
    "    type = terms[randrange(0, len(terms))][0]\n",
    "    year = randint(2000, 2022)\n",
    "    month = randint(1, 12)\n",
    "    day = randint(1, 28)\n",
    "    p = f'{str(year)}.{str(month).zfill(2)}.{str(day).zfill(2)} {type}'\n",
    "    privacies.append(p)\n",
    "\n",
    "\n",
    "answer = []\n",
    "\n",
    "terms_dict = {i.split(' ')[0]: i.split(' ')[1]  for i in terms}\n",
    "num = 1"
   ]
  },
  {
   "cell_type": "code",
   "execution_count": 89,
   "metadata": {},
   "outputs": [],
   "source": [
    "today = \"2020.01.01\"\t\n",
    "terms = [\"Z 3\", \"D 5\"]\n",
    "privacies = [\"2019.01.01 D\", \"2019.11.15 Z\", \"2019.08.02 D\", \"2019.07.01 D\", \"2018.12.28 Z\"]\t\n",
    "\n",
    "def solution(today, terms, privacies):\n",
    "    \n",
    "    answer = []\n",
    "\n",
    "    terms_dict = {i.split(' ')[0]: i.split(' ')[1]  for i in terms}\n",
    "    t_date = (int(today[:4]), int(today[5:7]), int(today[8:10]))\n",
    "    for p in privacies:\n",
    "        type = int(terms_dict[p[-1]])\n",
    "        year = int(p[:4])\n",
    "        month = int(p[5:7]) + type\n",
    "        day = int(p[8:10]) - 1\n",
    "        if day < 1:\n",
    "            month -= 1\n",
    "            day = 28\n",
    "        if month > 12:\n",
    "            plus = month // 12\n",
    "            year += plus\n",
    "            month -= (12 * plus)\n",
    "        if month < 1:\n",
    "            year -= 1\n",
    "            month = 12\n",
    "        p_date = (year, month, day)\n",
    "        if p_date < t_date:\n",
    "            answer.append(privacies.index(p) + 1)\n",
    "    return answer"
   ]
  },
  {
   "cell_type": "code",
   "execution_count": 97,
   "metadata": {},
   "outputs": [
    {
     "name": "stdout",
     "output_type": "stream",
     "text": [
      "2019 6 0\n",
      "(2019, 5, 28)\n",
      "2019 31 14\n",
      "(2021, 7, 14)\n",
      "2019 13 1\n",
      "(2020, 1, 1)\n",
      "2019 12 0\n",
      "(2019, 11, 28)\n",
      "2018 32 27\n",
      "(2020, 8, 27)\n"
     ]
    }
   ],
   "source": [
    "today = \"2020.01.01\"\t\n",
    "terms = [\"Z 20\", \"D 5\"]\n",
    "privacies = [\"2019.01.01 D\", \"2019.11.15 Z\", \"2019.08.02 D\", \"2019.07.01 D\", \"2018.12.28 Z\"]\t\n",
    "\n",
    "\n",
    "answer = []\n",
    "\n",
    "terms_dict = {i.split(' ')[0]: i.split(' ')[1]  for i in terms}\n",
    "t_date = (int(today[:4]), int(today[5:7]), int(today[8:10]))\n",
    "for p in privacies:\n",
    "    type = int(terms_dict[p[-1]])\n",
    "    year = int(p[:4])\n",
    "    month = int(p[5:7]) + type\n",
    "    day = int(p[8:10]) - 1\n",
    "    print(year, month, day)\n",
    "    if day < 1:\n",
    "        month -= 1\n",
    "        day = 28\n",
    "    if month > 12:\n",
    "        plus = month // 12\n",
    "        year += plus\n",
    "        month -= (12 * plus)\n",
    "    if month < 1:\n",
    "        year -= 1\n",
    "        month = 12\n",
    "    p_date = (year, month, day)\n",
    "    print(p_date)\n",
    "    if p_date < t_date:\n",
    "        answer.append(privacies.index(p) + 1)\n"
   ]
  },
  {
   "cell_type": "code",
   "execution_count": 108,
   "metadata": {},
   "outputs": [
    {
     "name": "stdout",
     "output_type": "stream",
     "text": [
      "2006.05.01 B (2) > 2006.7.0 > (2006, 6, 28)\n",
      "2004.02.28 A (1) > 2004.3.27 > (2004, 3, 27)\n",
      "2012.10.01 K (11) > 2012.21.0 > (2013, 8, 28)\n",
      "2011.04.01 M (13) > 2011.17.0 > (2012, 4, 28)\n",
      "2022.09.28 N (20) > 2022.29.27 > (2024, 5, 27)\n",
      "2007.09.01 K (11) > 2007.20.0 > (2008, 7, 28)\n",
      "2000.08.01 G (7) > 2000.15.0 > (2001, 2, 28)\n",
      "2009.08.28 F (6) > 2009.14.27 > (2010, 2, 27)\n",
      "2009.03.01 A (1) > 2009.4.0 > (2009, 3, 28)\n",
      "2015.10.01 H (8) > 2015.18.0 > (2016, 5, 28)\n",
      "2004.07.28 G (7) > 2004.14.27 > (2005, 2, 27)\n",
      "2001.03.28 N (20) > 2001.23.27 > (2002, 11, 27)\n",
      "2014.12.01 L (12) > 2014.24.0 > (2015, 12, 28)\n",
      "2009.12.01 H (8) > 2009.20.0 > (2010, 7, 28)\n",
      "2015.06.01 C (3) > 2015.9.0 > (2015, 8, 28)\n",
      "2021.11.01 H (8) > 2021.19.0 > (2022, 6, 28)\n",
      "2018.06.28 G (7) > 2018.13.27 > (2019, 1, 27)\n",
      "2019.10.01 C (3) > 2019.13.0 > (2019, 12, 28)\n",
      "2001.05.28 A (1) > 2001.6.27 > (2001, 6, 27)\n",
      "2020.09.28 G (7) > 2020.16.27 > (2021, 4, 27)\n",
      "2018.07.28 N (20) > 2018.27.27 > (2020, 3, 27)\n",
      "2012.01.01 E (5) > 2012.6.0 > (2012, 5, 28)\n",
      "2020.11.01 E (5) > 2020.16.0 > (2021, 3, 28)\n",
      "2006.09.28 K (11) > 2006.20.27 > (2007, 8, 27)\n",
      "2011.03.28 C (3) > 2011.6.27 > (2011, 6, 27)\n",
      "2010.07.28 G (7) > 2010.14.27 > (2011, 2, 27)\n",
      "2002.01.01 A (1) > 2002.2.0 > (2002, 1, 28)\n",
      "2013.06.01 K (11) > 2013.17.0 > (2014, 4, 28)\n",
      "2015.04.01 C (3) > 2015.7.0 > (2015, 6, 28)\n",
      "2019.09.28 B (2) > 2019.11.27 > (2019, 11, 27)\n",
      "2006.02.01 K (11) > 2006.13.0 > (2006, 12, 28)\n",
      "2014.03.01 M (13) > 2014.16.0 > (2015, 3, 28)\n",
      "2014.04.28 D (4) > 2014.8.27 > (2014, 8, 27)\n",
      "2007.02.01 N (20) > 2007.22.0 > (2008, 9, 28)\n",
      "2003.06.28 C (3) > 2003.9.27 > (2003, 9, 27)\n",
      "2009.07.28 A (1) > 2009.8.27 > (2009, 8, 27)\n",
      "2013.06.01 E (5) > 2013.11.0 > (2013, 10, 28)\n",
      "2004.07.01 L (12) > 2004.19.0 > (2005, 6, 28)\n",
      "2021.01.28 J (10) > 2021.11.27 > (2021, 11, 27)\n",
      "2008.01.01 F (6) > 2008.7.0 > (2008, 6, 28)\n",
      "2002.04.28 K (11) > 2002.15.27 > (2003, 3, 27)\n",
      "2021.04.01 H (8) > 2021.12.0 > (2021, 11, 28)\n",
      "2001.03.28 L (12) > 2001.15.27 > (2002, 3, 27)\n",
      "2000.05.01 F (6) > 2000.11.0 > (2000, 10, 28)\n",
      "2020.07.28 I (9) > 2020.16.27 > (2021, 4, 27)\n",
      "2011.07.01 J (10) > 2011.17.0 > (2012, 4, 28)\n",
      "2001.09.28 G (7) > 2001.16.27 > (2002, 4, 27)\n",
      "2003.12.01 A (1) > 2003.13.0 > (2003, 12, 28)\n",
      "2003.12.28 D (4) > 2003.16.27 > (2004, 4, 27)\n",
      "2003.05.01 F (6) > 2003.11.0 > (2003, 10, 28)\n",
      "2007.06.01 J (10) > 2007.16.0 > (2008, 3, 28)\n",
      "2017.01.28 E (5) > 2017.6.27 > (2017, 6, 27)\n",
      "2002.02.28 B (2) > 2002.4.27 > (2002, 4, 27)\n",
      "2002.10.28 L (12) > 2002.22.27 > (2003, 10, 27)\n",
      "2009.09.28 K (11) > 2009.20.27 > (2010, 8, 27)\n",
      "2001.03.01 J (10) > 2001.13.0 > (2001, 12, 28)\n",
      "2009.02.28 M (13) > 2009.15.27 > (2010, 3, 27)\n",
      "2000.11.01 K (11) > 2000.22.0 > (2001, 9, 28)\n",
      "2015.09.28 A (1) > 2015.10.27 > (2015, 10, 27)\n",
      "2018.08.28 K (11) > 2018.19.27 > (2019, 7, 27)\n",
      "2011.11.28 E (5) > 2011.16.27 > (2012, 4, 27)\n",
      "2015.11.01 N (20) > 2015.31.0 > (2017, 6, 28)\n",
      "2017.01.01 A (1) > 2017.2.0 > (2017, 1, 28)\n",
      "2002.12.28 D (4) > 2002.16.27 > (2003, 4, 27)\n",
      "2019.03.28 N (20) > 2019.23.27 > (2020, 11, 27)\n",
      "2022.09.01 I (9) > 2022.18.0 > (2023, 5, 28)\n",
      "2004.08.28 M (13) > 2004.21.27 > (2005, 9, 27)\n",
      "2015.02.01 H (8) > 2015.10.0 > (2015, 9, 28)\n",
      "2021.02.01 E (5) > 2021.7.0 > (2021, 6, 28)\n",
      "2002.07.01 B (2) > 2002.9.0 > (2002, 8, 28)\n",
      "2004.08.28 I (9) > 2004.17.27 > (2005, 5, 27)\n",
      "2020.09.01 E (5) > 2020.14.0 > (2021, 1, 28)\n",
      "2017.01.01 C (3) > 2017.4.0 > (2017, 3, 28)\n",
      "2009.12.01 G (7) > 2009.19.0 > (2010, 6, 28)\n",
      "2000.03.28 A (1) > 2000.4.27 > (2000, 4, 27)\n",
      "2004.09.28 D (4) > 2004.13.27 > (2005, 1, 27)\n",
      "2010.08.01 K (11) > 2010.19.0 > (2011, 6, 28)\n",
      "2017.05.01 A (1) > 2017.6.0 > (2017, 5, 28)\n",
      "2006.01.01 I (9) > 2006.10.0 > (2006, 9, 28)\n",
      "2020.08.28 F (6) > 2020.14.27 > (2021, 2, 27)\n",
      "2009.01.28 D (4) > 2009.5.27 > (2009, 5, 27)\n",
      "2012.03.28 E (5) > 2012.8.27 > (2012, 8, 27)\n",
      "2006.12.01 F (6) > 2006.18.0 > (2007, 5, 28)\n",
      "2018.09.28 A (1) > 2018.10.27 > (2018, 10, 27)\n",
      "2011.02.28 B (2) > 2011.4.27 > (2011, 4, 27)\n",
      "2013.11.01 B (2) > 2013.13.0 > (2013, 12, 28)\n",
      "2003.07.28 J (10) > 2003.17.27 > (2004, 5, 27)\n",
      "2006.11.28 H (8) > 2006.19.27 > (2007, 7, 27)\n",
      "2006.02.01 G (7) > 2006.9.0 > (2006, 8, 28)\n",
      "2009.01.01 F (6) > 2009.7.0 > (2009, 6, 28)\n",
      "2020.12.01 N (20) > 2020.32.0 > (2022, 7, 28)\n",
      "2013.10.28 H (8) > 2013.18.27 > (2014, 6, 27)\n",
      "2020.06.01 K (11) > 2020.17.0 > (2021, 4, 28)\n",
      "2010.04.01 C (3) > 2010.7.0 > (2010, 6, 28)\n",
      "2022.08.28 C (3) > 2022.11.27 > (2022, 11, 27)\n",
      "2020.03.01 F (6) > 2020.9.0 > (2020, 8, 28)\n",
      "2021.05.28 C (3) > 2021.8.27 > (2021, 8, 27)\n",
      "2004.07.28 B (2) > 2004.9.27 > (2004, 9, 27)\n",
      "2012.11.28 I (9) > 2012.20.27 > (2013, 8, 27)\n",
      "2016.09.28 I (9) > 2016.18.27 > (2017, 6, 27)\n"
     ]
    }
   ],
   "source": [
    "from random import *\n",
    "#today = \"2022.05.19\"\n",
    "terms = [\"A 1\", \"B 2\", \"C 3\", \"D 4\", \"E 5\", \"F 6\", \"G 7\", \"H 8\", \"I 9\", \"J 10\", \"K 11\", \"L 12\", \"M 13\", \"N 20\"]\t\n",
    "privacies = []\t\n",
    "\n",
    "for i in range(100):\n",
    "    type = terms[randrange(0, len(terms))][0]\n",
    "    year = randint(2000, 2022)\n",
    "    month = randint(1, 12)\n",
    "    day = choice([1, 28])\n",
    "    #day = 28\n",
    "    p = f'{str(year)}.{str(month).zfill(2)}.{str(day).zfill(2)} {type}'\n",
    "    privacies.append(p)\n",
    "\n",
    "\n",
    "answer = []\n",
    "\n",
    "terms_dict = {i.split(' ')[0]: i.split(' ')[1]  for i in terms}\n",
    "num = 1\n",
    "\n",
    "\n",
    "for p in privacies:\n",
    "    print(f'{p} ({terms_dict[p[-1]]}) >', end=' ')\n",
    "    t_year = randint(2000, 2022)\n",
    "    t_month = randint(1, 12)\n",
    "    t_day = randint(1, 28)\n",
    "    t_date = (t_year, t_month, t_day)\n",
    "    type = int(terms_dict[p[-1]])\n",
    "    year = int(p[:4])\n",
    "    month = int(p[5:7]) + type\n",
    "    day = int(p[8:10]) - 1\n",
    "    print(f'{year}.{month}.{day} >', end=' ')\n",
    "    if month > 12:\n",
    "        plus = month // 12\n",
    "        year += plus\n",
    "        month -= 12 * plus\n",
    "    if day < 1:\n",
    "        month -= 1\n",
    "        day = 28\n",
    "    if month < 1:\n",
    "        year -= 1\n",
    "        month = 12\n",
    "    p_date = (year, month, day)\n",
    "    print(p_date)\n",
    "    if p_date < t_date:\n",
    "        answer.append(privacies.index(p) + 1)\n",
    "\n",
    "    num += 1"
   ]
  },
  {
   "cell_type": "code",
   "execution_count": 111,
   "metadata": {},
   "outputs": [],
   "source": [
    "def solution(today, terms, privacies):\n",
    "    answer = []\n",
    "\n",
    "    terms_dict = {i[:1]: i[2:] for i in terms}\n",
    "    today = (int(today[:4]), int(today[5:7]), int(today[8:]))\n",
    "\n",
    "    for p in privacies:\n",
    "        type = int(terms_dict[p[-1]])\n",
    "        p_date = (int(p[:4]), int(p[5:7]) + type, int(p[8:10]) - 1)\n",
    "\n",
    "        today_num = today[0] * 12 * 28 + today[1] * 28 + today[2]\n",
    "        p_date_num = p_date[0] * 12 * 28 + p_date[1] * 28 + p_date[2]\n",
    "\n",
    "        if p_date_num < today_num:\n",
    "            answer.append(privacies.index(p) + 1)\n",
    "    return answer"
   ]
  },
  {
   "cell_type": "code",
   "execution_count": 116,
   "metadata": {},
   "outputs": [
    {
     "name": "stdout",
     "output_type": "stream",
     "text": [
      "678552 678749\n",
      "678790 678749\n",
      "678749 678749\n",
      "678720 678749\n",
      "678495 678749\n",
      "[1, 4, 5]\n",
      "{'Z': '3', 'D': '5'}\n"
     ]
    }
   ],
   "source": [
    "today = \"2020.01.01\"\t\n",
    "terms = [\"Z 3\", \"D 5\"]\n",
    "privacies = [\"2019.01.01 D\", \"2019.11.15 Z\", \"2019.08.02 D\", \"2019.07.01 D\", \"2018.12.28 Z\"]\n",
    "\n",
    "answer = []\n",
    "\n",
    "terms_dict = {i[:1]: i[2:] for i in terms}\n",
    "today = (int(today[:4]), int(today[5:7]), int(today[8:]))\n",
    "\n",
    "for p in privacies:\n",
    "    type = int(terms_dict[p[-1]])\n",
    "    p_date = (int(p[:4]), int(p[5:7]) + type, int(p[8:10]) - 1)\n",
    "\n",
    "    today_num = today[0] * 12 * 28 + today[1] * 28 + today[2]\n",
    "    p_date_num = p_date[0] * 12 * 28 + p_date[1] * 28 + p_date[2]\n",
    "\n",
    "    if p_date_num < today_num:\n",
    "        answer.append(privacies.index(p) + 1)\n",
    "    print(p_date_num, today_num)"
   ]
  },
  {
   "cell_type": "code",
   "execution_count": 110,
   "metadata": {},
   "outputs": [],
   "source": [
    "def solution(today, terms, privacies):\n",
    "    answer = []\n",
    "    \n",
    "    # terms list를 key, value를 나눠 dict로 정의\n",
    "    terms_dict = {i.split(' ')[0]: i.split(' ')[1]  for i in terms}\n",
    "    # today를 (y, m, d) 형태 튜플로 저장\n",
    "    t_date = (int(today[:4]), int(today[5:7]), int(today[8:10]))\n",
    "    \n",
    "    for p in privacies:\n",
    "        # 약관 종류 얻기\n",
    "        type = int(terms_dict[p[-1]])\n",
    "        year = int(p[:4])\n",
    "        # month에 유효기간 더하기\n",
    "        month = int(p[5:7]) + type\n",
    "        # day는 1만큼 빼줌\n",
    "        day = int(p[8:10]) - 1\n",
    "        \n",
    "        # day가 0이 될 경우, month에서 받아내림\n",
    "        if day == 0:\n",
    "            month -= 1\n",
    "            day = 28\n",
    "        # month가 12 이상일 경우 year로 받아올림\n",
    "        if month > 12:\n",
    "            plus = month // 12\n",
    "            year += plus\n",
    "            month -= (12 * plus)\n",
    "        # month가 0이 될 경우 year에서 받아내림\n",
    "        if month < 1:\n",
    "            year -= 1\n",
    "            month += 12\n",
    "        p_date = (year, month, day)\n",
    "        if p_date < t_date:\n",
    "            answer.append(privacies.index(p) + 1)\n",
    "    return answer"
   ]
  },
  {
   "cell_type": "code",
   "execution_count": 5,
   "metadata": {},
   "outputs": [],
   "source": [
    "terms = [\"Z 3\", \"D 5\"]\n",
    "\n",
    "#terms_dict = {i[:1]: i[2:] for i in terms}\n",
    "terms_dict = {i.split(' ')[0]: i.split(' ')[1]  for i in terms}"
   ]
  },
  {
   "cell_type": "code",
   "execution_count": 2,
   "metadata": {},
   "outputs": [],
   "source": [
    "import sys\n",
    "input = sys.stdin.readline\n",
    "\n",
    "#  파기해야 할 개인정보 번호\n",
    "def check(today_year, today_month, today_day, year, month, day):\n",
    "    if today_year > year:\n",
    "        return True\n",
    "    elif today_year == year:\n",
    "        if today_month > month:\n",
    "            return True\n",
    "        elif today_month == month:\n",
    "            if today_day > day:\n",
    "                return True\n",
    "    return False\n",
    "    \n",
    "\n",
    "def solution(today, terms, privacies):\n",
    "    answer = []\n",
    "    terms_dict = {t[:1]: int(t[2:]) for t in terms}\n",
    "    # print(terms_dict)\n",
    "    # print(today, terms)\n",
    "    today_year, today_month, today_day = map(int, today.split('.'))\n",
    "    \n",
    "    for i, v in enumerate(privacies):\n",
    "        date, p = v.split()\n",
    "        # print(i, date, p)\n",
    "        year, month, day = map(int, date.split('.'))        \n",
    "        \n",
    "        # 약관 날짜 계산하기\n",
    "        day += 28 - 1 - 1\n",
    "        \n",
    "        month += terms_dict[p] - 1 + day // 28 - 1\n",
    "        day = day % 28 + 1\n",
    "        \n",
    "        year += month // 12\n",
    "        month = month % 12 + 1\n",
    "    \n",
    "        # print(year, month, day)\n",
    "        \n",
    "        # -1 계산하기\n",
    "        \n",
    "        # 날짜 비교\n",
    "        if (check(today_year, today_month, today_day, year, month, day)):\n",
    "            answer.append(i + 1)\n",
    "            \n",
    "        \n",
    "        \n",
    "        \n",
    "        \n",
    "    # 유효기간: 1 ~ 100달,\n",
    "    # 1년 over => / 12\n",
    "    \n",
    "    \n",
    "        \n",
    "        \n",
    "    \n",
    "    \n",
    "    \n",
    "    \n",
    "    return answer"
   ]
  },
  {
   "cell_type": "code",
   "execution_count": 12,
   "metadata": {},
   "outputs": [
    {
     "name": "stdout",
     "output_type": "stream",
     "text": [
      "10\n",
      "02\n",
      "20\n",
      "03\n"
     ]
    },
    {
     "data": {
      "text/plain": [
       "(3, 2)"
      ]
     },
     "execution_count": 12,
     "metadata": {},
     "output_type": "execute_result"
    }
   ],
   "source": [
    "t = \"3141592\"\t\n",
    "p = \"271\"\t\n",
    "\n",
    "t = \"500220839878\"\n",
    "p = \"7\"\n",
    "\n",
    "t = \"10203\"\t\n",
    "p = \"15\"\t\n",
    "\n",
    "answer = 0\n",
    "for i in range(len(t) - len(p) + 1):\n",
    "    print(t[i:i + len(p)])\n",
    "    if t[i:i + len(p)] <= p:\n",
    "        answer += 1\n",
    "\n",
    "answer, len(p)"
   ]
  },
  {
   "cell_type": "code",
   "execution_count": 28,
   "metadata": {},
   "outputs": [
    {
     "data": {
      "text/plain": [
       "[-1, -1, -1, 2, 2, 2]"
      ]
     },
     "execution_count": 28,
     "metadata": {},
     "output_type": "execute_result"
    }
   ],
   "source": [
    "s = \"banana\"\n",
    "s = list(s)\t\n",
    "answer = []\n",
    "for i in range(len(s)):\n",
    "    if i == s.index(s[i]):\n",
    "        answer.append(-1)\n",
    "    else:\n",
    "        answer.append(i - s.index(s[i]))\n",
    "        s[s.index(s[i])] = '*'\n",
    "answer\n"
   ]
  },
  {
   "cell_type": "code",
   "execution_count": 26,
   "metadata": {},
   "outputs": [
    {
     "ename": "AttributeError",
     "evalue": "'str' object has no attribute 'findall'",
     "output_type": "error",
     "traceback": [
      "\u001b[1;31m---------------------------------------------------------------------------\u001b[0m",
      "\u001b[1;31mAttributeError\u001b[0m                            Traceback (most recent call last)",
      "Cell \u001b[1;32mIn [26], line 1\u001b[0m\n\u001b[1;32m----> 1\u001b[0m s\u001b[39m.\u001b[39;49mfindall(\u001b[39m'\u001b[39m\u001b[39ma\u001b[39m\u001b[39m'\u001b[39m)\n",
      "\u001b[1;31mAttributeError\u001b[0m: 'str' object has no attribute 'findall'"
     ]
    }
   ],
   "source": [
    "s.findall('a')"
   ]
  },
  {
   "cell_type": "code",
   "execution_count": 29,
   "metadata": {},
   "outputs": [],
   "source": [
    "def solution(today, terms, privacies):\n",
    "    answer = []\n",
    "\n",
    "    terms_dict = {i[:1]: i[2:] for i in terms}\n",
    "    today = (int(today[:4]), int(today[5:7]), int(today[8:]))\n",
    "\n",
    "    for i, p in enumerate(privacies):\n",
    "        type = int(terms_dict[p[-1]])\n",
    "        p_date = (int(p[:4]), int(p[5:7]) + type, int(p[8:10]) - 1)\n",
    "\n",
    "        today_num = today[0] * 12 * 28 + today[1] * 28 + today[2]\n",
    "        p_date_num = p_date[0] * 12 * 28 + p_date[1] * 28 + p_date[2]\n",
    "\n",
    "        if p_date_num < today_num:\n",
    "            answer.append(i + 1)\n",
    "    return answer"
   ]
  },
  {
   "cell_type": "code",
   "execution_count": null,
   "metadata": {},
   "outputs": [],
   "source": []
  }
 ],
 "metadata": {
  "kernelspec": {
   "display_name": "Python 3",
   "language": "python",
   "name": "python3"
  },
  "language_info": {
   "codemirror_mode": {
    "name": "ipython",
    "version": 3
   },
   "file_extension": ".py",
   "mimetype": "text/x-python",
   "name": "python",
   "nbconvert_exporter": "python",
   "pygments_lexer": "ipython3",
   "version": "3.10.2"
  },
  "orig_nbformat": 4,
  "vscode": {
   "interpreter": {
    "hash": "bf74378b3249af5359f07a9caa84b7a763805fcaf59590a4dc4a6d39ea6824f2"
   }
  }
 },
 "nbformat": 4,
 "nbformat_minor": 2
}
