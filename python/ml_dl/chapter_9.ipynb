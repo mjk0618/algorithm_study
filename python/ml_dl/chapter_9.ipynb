{
 "cells": [
  {
   "cell_type": "code",
   "execution_count": 3,
   "metadata": {},
   "outputs": [],
   "source": [
    "from tensorflow.keras.datasets import imdb\n",
    "(train_input, train_target), (test_input, test_target) = imdb.load_data(num_words=500)"
   ]
  },
  {
   "cell_type": "code",
   "execution_count": 4,
   "metadata": {},
   "outputs": [
    {
     "name": "stdout",
     "output_type": "stream",
     "text": [
      "(25000,) (25000,)\n"
     ]
    }
   ],
   "source": [
    "print(train_input.shape, test_input.shape)"
   ]
  },
  {
   "cell_type": "code",
   "execution_count": 6,
   "metadata": {},
   "outputs": [
    {
     "name": "stdout",
     "output_type": "stream",
     "text": [
      "218\n"
     ]
    }
   ],
   "source": [
    "print(len(train_input[0]))"
   ]
  },
  {
   "cell_type": "code",
   "execution_count": 8,
   "metadata": {},
   "outputs": [
    {
     "name": "stdout",
     "output_type": "stream",
     "text": [
      "189\n"
     ]
    }
   ],
   "source": [
    "print(len(train_input[1]))"
   ]
  },
  {
   "cell_type": "code",
   "execution_count": 9,
   "metadata": {},
   "outputs": [
    {
     "name": "stdout",
     "output_type": "stream",
     "text": [
      "[1, 14, 22, 16, 43, 2, 2, 2, 2, 65, 458, 2, 66, 2, 4, 173, 36, 256, 5, 25, 100, 43, 2, 112, 50, 2, 2, 9, 35, 480, 284, 5, 150, 4, 172, 112, 167, 2, 336, 385, 39, 4, 172, 2, 2, 17, 2, 38, 13, 447, 4, 192, 50, 16, 6, 147, 2, 19, 14, 22, 4, 2, 2, 469, 4, 22, 71, 87, 12, 16, 43, 2, 38, 76, 15, 13, 2, 4, 22, 17, 2, 17, 12, 16, 2, 18, 2, 5, 62, 386, 12, 8, 316, 8, 106, 5, 4, 2, 2, 16, 480, 66, 2, 33, 4, 130, 12, 16, 38, 2, 5, 25, 124, 51, 36, 135, 48, 25, 2, 33, 6, 22, 12, 215, 28, 77, 52, 5, 14, 407, 16, 82, 2, 8, 4, 107, 117, 2, 15, 256, 4, 2, 7, 2, 5, 2, 36, 71, 43, 2, 476, 26, 400, 317, 46, 7, 4, 2, 2, 13, 104, 88, 4, 381, 15, 297, 98, 32, 2, 56, 26, 141, 6, 194, 2, 18, 4, 226, 22, 21, 134, 476, 26, 480, 5, 144, 30, 2, 18, 51, 36, 28, 224, 92, 25, 104, 4, 226, 65, 16, 38, 2, 88, 12, 16, 283, 5, 16, 2, 113, 103, 32, 15, 16, 2, 19, 178, 32]\n"
     ]
    }
   ],
   "source": [
    "print(train_input[0])"
   ]
  },
  {
   "cell_type": "code",
   "execution_count": 10,
   "metadata": {},
   "outputs": [
    {
     "name": "stdout",
     "output_type": "stream",
     "text": [
      "[1 0 0 1 0 0 1 0 1 0 1 0 0 0 0 0 1 1 0 1]\n"
     ]
    }
   ],
   "source": [
    "print(train_target[:20])"
   ]
  },
  {
   "cell_type": "code",
   "execution_count": 11,
   "metadata": {},
   "outputs": [],
   "source": [
    "from sklearn.model_selection import train_test_split\n",
    "train_input, val_input, train_target, val_target = train_test_split(\n",
    "    train_input, train_target, test_size=0.2, random_state=42)"
   ]
  },
  {
   "cell_type": "code",
   "execution_count": 12,
   "metadata": {},
   "outputs": [],
   "source": [
    "import numpy as np\n",
    "lengths = np.array([len(x) for x in train_input])"
   ]
  },
  {
   "cell_type": "code",
   "execution_count": 13,
   "metadata": {},
   "outputs": [
    {
     "name": "stdout",
     "output_type": "stream",
     "text": [
      "239.00925 178.0\n"
     ]
    }
   ],
   "source": [
    "print(np.mean(lengths), np.median(lengths))"
   ]
  },
  {
   "cell_type": "code",
   "execution_count": 14,
   "metadata": {},
   "outputs": [
    {
     "data": {
      "image/png": "[encoded data removed]",
      "text/plain": [
       "<Figure size 432x288 with 1 Axes>"
      ]
     },
     "metadata": {
      "needs_background": "light"
     },
     "output_type": "display_data"
    }
   ],
   "source": [
    "import matplotlib.pyplot as plt\n",
    "plt.hist(lengths)\n",
    "plt.xlabel('length')\n",
    "plt.ylabel('frequency')\n",
    "plt.show()"
   ]
  },
  {
   "cell_type": "code",
   "execution_count": 15,
   "metadata": {},
   "outputs": [],
   "source": [
    "from tensorflow.keras.preprocessing.sequence import pad_sequences\n",
    "train_seq = pad_sequences(train_input, maxlen=100)"
   ]
  },
  {
   "cell_type": "code",
   "execution_count": 16,
   "metadata": {},
   "outputs": [
    {
     "name": "stdout",
     "output_type": "stream",
     "text": [
      "(20000, 100)\n"
     ]
    }
   ],
   "source": [
    "print(train_seq.shape)"
   ]
  },
  {
   "cell_type": "code",
   "execution_count": 17,
   "metadata": {},
   "outputs": [
    {
     "name": "stdout",
     "output_type": "stream",
     "text": [
      "[ 10   4  20   9   2 364 352   5  45   6   2   2  33 269   8   2 142   2\n",
      "   5   2  17  73  17 204   5   2  19  55   2   2  92  66 104  14  20  93\n",
      "  76   2 151  33   4  58  12 188   2 151  12 215  69 224 142  73 237   6\n",
      "   2   7   2   2 188   2 103  14  31  10  10 451   7   2   5   2  80  91\n",
      "   2  30   2  34  14  20 151  50  26 131  49   2  84  46  50  37  80  79\n",
      "   6   2  46   7  14  20  10  10 470 158]\n"
     ]
    }
   ],
   "source": [
    "print(train_seq[0])"
   ]
  },
  {
   "cell_type": "code",
   "execution_count": 18,
   "metadata": {},
   "outputs": [
    {
     "name": "stdout",
     "output_type": "stream",
     "text": [
      "[6, 2, 46, 7, 14, 20, 10, 10, 470, 158]\n"
     ]
    }
   ],
   "source": [
    "print(train_input[0][-10:])"
   ]
  },
  {
   "cell_type": "code",
   "execution_count": 19,
   "metadata": {},
   "outputs": [
    {
     "name": "stdout",
     "output_type": "stream",
     "text": [
      "[  0   0   0   0   1   2 195  19  49   2   2 190   4   2 352   2 183  10\n",
      "  10  13  82  79   4   2  36  71 269   8   2  25  19  49   7   4   2   2\n",
      "   2   2   2  10  10  48  25  40   2  11   2   2  40   2   2   5   4   2\n",
      "   2  95  14 238  56 129   2  10  10  21   2  94 364 352   2   2  11 190\n",
      "  24 484   2   7  94 205 405  10  10  87   2  34  49   2   7   2   2   2\n",
      "   2   2 290   2  46  48  64  18   4   2]\n"
     ]
    }
   ],
   "source": [
    "print(train_seq[5])"
   ]
  },
  {
   "cell_type": "code",
   "execution_count": 21,
   "metadata": {},
   "outputs": [],
   "source": [
    "val_seq = pad_sequences(val_input, maxlen=100)"
   ]
  },
  {
   "cell_type": "code",
   "execution_count": 22,
   "metadata": {},
   "outputs": [],
   "source": [
    "from tensorflow import keras\n",
    "model = keras.Sequential()\n",
    "model.add(keras.layers.SimpleRNN(8, input_shape=(100, 500)))\n",
    "model.add(keras.layers.Dense(1, activation='sigmoid'))"
   ]
  },
  {
   "cell_type": "code",
   "execution_count": 23,
   "metadata": {},
   "outputs": [],
   "source": [
    "train_oh = keras.utils.to_categorical(train_seq)"
   ]
  },
  {
   "cell_type": "code",
   "execution_count": 24,
   "metadata": {},
   "outputs": [
    {
     "name": "stdout",
     "output_type": "stream",
     "text": [
      "(20000, 100, 500)\n"
     ]
    }
   ],
   "source": [
    "print(train_oh.shape)"
   ]
  },
  {
   "cell_type": "code",
   "execution_count": 26,
   "metadata": {},
   "outputs": [
    {
     "name": "stdout",
     "output_type": "stream",
     "text": [
      "[0. 0. 0. 0. 0. 0. 0. 0. 0. 0. 1. 0.]\n"
     ]
    }
   ],
   "source": [
    "print(train_oh[0][0][:12])"
   ]
  },
  {
   "cell_type": "code",
   "execution_count": 27,
   "metadata": {},
   "outputs": [
    {
     "name": "stdout",
     "output_type": "stream",
     "text": [
      "1.0\n"
     ]
    }
   ],
   "source": [
    "print(np.sum(train_oh[0][0]))"
   ]
  },
  {
   "cell_type": "code",
   "execution_count": 28,
   "metadata": {},
   "outputs": [],
   "source": [
    "val_oh = keras.utils.to_categorical(val_seq)"
   ]
  },
  {
   "cell_type": "code",
   "execution_count": 29,
   "metadata": {},
   "outputs": [
    {
     "name": "stdout",
     "output_type": "stream",
     "text": [
      "Model: \"sequential\"\n",
      "_________________________________________________________________\n",
      " Layer (type)                Output Shape              Param #   \n",
      "=================================================================\n",
      " simple_rnn (SimpleRNN)      (None, 8)                 4072      \n",
      "                                                                 \n",
      " dense (Dense)               (None, 1)                 9         \n",
      "                                                                 \n",
      "=================================================================\n",
      "Total params: 4,081\n",
      "Trainable params: 4,081\n",
      "Non-trainable params: 0\n",
      "_________________________________________________________________\n"
     ]
    }
   ],
   "source": [
    "model.summary()"
   ]
  },
  {
   "cell_type": "code",
   "execution_count": 31,
   "metadata": {},
   "outputs": [
    {
     "name": "stdout",
     "output_type": "stream",
     "text": [
      "Epoch 1/100\n",
      "313/313 [==============================] - 5s 14ms/step - loss: 0.6966 - accuracy: 0.5020 - val_loss: 0.6966 - val_accuracy: 0.4936\n",
      "Epoch 2/100\n",
      "313/313 [==============================] - 4s 14ms/step - loss: 0.6940 - accuracy: 0.5132 - val_loss: 0.6949 - val_accuracy: 0.5018\n",
      "Epoch 3/100\n",
      "313/313 [==============================] - 4s 14ms/step - loss: 0.6916 - accuracy: 0.5260 - val_loss: 0.6929 - val_accuracy: 0.5134\n",
      "Epoch 4/100\n",
      "313/313 [==============================] - 4s 14ms/step - loss: 0.6885 - accuracy: 0.5444 - val_loss: 0.6891 - val_accuracy: 0.5340\n",
      "Epoch 5/100\n",
      "313/313 [==============================] - 4s 14ms/step - loss: 0.6771 - accuracy: 0.5858 - val_loss: 0.6575 - val_accuracy: 0.6438\n",
      "Epoch 6/100\n",
      "313/313 [==============================] - 4s 14ms/step - loss: 0.6448 - accuracy: 0.6552 - val_loss: 0.6390 - val_accuracy: 0.6580\n",
      "Epoch 7/100\n",
      "313/313 [==============================] - 5s 15ms/step - loss: 0.6267 - accuracy: 0.6743 - val_loss: 0.6226 - val_accuracy: 0.6770\n",
      "Epoch 8/100\n",
      "313/313 [==============================] - 5s 15ms/step - loss: 0.6085 - accuracy: 0.6939 - val_loss: 0.6060 - val_accuracy: 0.6918\n",
      "Epoch 9/100\n",
      "313/313 [==============================] - 5s 15ms/step - loss: 0.5907 - accuracy: 0.7107 - val_loss: 0.5880 - val_accuracy: 0.7090\n",
      "Epoch 10/100\n",
      "313/313 [==============================] - 5s 15ms/step - loss: 0.5756 - accuracy: 0.7217 - val_loss: 0.5731 - val_accuracy: 0.7220\n",
      "Epoch 11/100\n",
      "313/313 [==============================] - 5s 15ms/step - loss: 0.5605 - accuracy: 0.7312 - val_loss: 0.5602 - val_accuracy: 0.7298\n",
      "Epoch 12/100\n",
      "313/313 [==============================] - 5s 15ms/step - loss: 0.5466 - accuracy: 0.7419 - val_loss: 0.5520 - val_accuracy: 0.7374\n",
      "Epoch 13/100\n",
      "313/313 [==============================] - 5s 15ms/step - loss: 0.5330 - accuracy: 0.7534 - val_loss: 0.5359 - val_accuracy: 0.7498\n",
      "Epoch 14/100\n",
      "313/313 [==============================] - 5s 15ms/step - loss: 0.5216 - accuracy: 0.7606 - val_loss: 0.5289 - val_accuracy: 0.7514\n",
      "Epoch 15/100\n",
      "313/313 [==============================] - 5s 15ms/step - loss: 0.5118 - accuracy: 0.7663 - val_loss: 0.5219 - val_accuracy: 0.7558\n",
      "Epoch 16/100\n",
      "313/313 [==============================] - 5s 17ms/step - loss: 0.5032 - accuracy: 0.7721 - val_loss: 0.5124 - val_accuracy: 0.7648\n",
      "Epoch 17/100\n",
      "313/313 [==============================] - 5s 15ms/step - loss: 0.4956 - accuracy: 0.7761 - val_loss: 0.5056 - val_accuracy: 0.7666\n",
      "Epoch 18/100\n",
      "313/313 [==============================] - 5s 17ms/step - loss: 0.4878 - accuracy: 0.7829 - val_loss: 0.5072 - val_accuracy: 0.7616\n",
      "Epoch 19/100\n",
      "313/313 [==============================] - 5s 18ms/step - loss: 0.4812 - accuracy: 0.7858 - val_loss: 0.5010 - val_accuracy: 0.7654\n",
      "Epoch 20/100\n",
      "313/313 [==============================] - 5s 17ms/step - loss: 0.4751 - accuracy: 0.7900 - val_loss: 0.4930 - val_accuracy: 0.7704\n",
      "Epoch 21/100\n",
      "313/313 [==============================] - 5s 16ms/step - loss: 0.4708 - accuracy: 0.7908 - val_loss: 0.4899 - val_accuracy: 0.7736\n",
      "Epoch 22/100\n",
      "313/313 [==============================] - 5s 16ms/step - loss: 0.4658 - accuracy: 0.7955 - val_loss: 0.4861 - val_accuracy: 0.7746\n",
      "Epoch 23/100\n",
      "313/313 [==============================] - 5s 16ms/step - loss: 0.4612 - accuracy: 0.7983 - val_loss: 0.4832 - val_accuracy: 0.7766\n",
      "Epoch 24/100\n",
      "313/313 [==============================] - 5s 16ms/step - loss: 0.4581 - accuracy: 0.7997 - val_loss: 0.4813 - val_accuracy: 0.7770\n",
      "Epoch 25/100\n",
      "313/313 [==============================] - 5s 17ms/step - loss: 0.4546 - accuracy: 0.8012 - val_loss: 0.4805 - val_accuracy: 0.7756\n",
      "Epoch 26/100\n",
      "313/313 [==============================] - 5s 17ms/step - loss: 0.4517 - accuracy: 0.8012 - val_loss: 0.4789 - val_accuracy: 0.7750\n",
      "Epoch 27/100\n",
      "313/313 [==============================] - 5s 16ms/step - loss: 0.4484 - accuracy: 0.8022 - val_loss: 0.4759 - val_accuracy: 0.7816\n",
      "Epoch 28/100\n",
      "313/313 [==============================] - 5s 16ms/step - loss: 0.4463 - accuracy: 0.8030 - val_loss: 0.4764 - val_accuracy: 0.7832\n",
      "Epoch 29/100\n",
      "313/313 [==============================] - 5s 16ms/step - loss: 0.4435 - accuracy: 0.8067 - val_loss: 0.4744 - val_accuracy: 0.7802\n",
      "Epoch 30/100\n",
      "313/313 [==============================] - 5s 16ms/step - loss: 0.4410 - accuracy: 0.8058 - val_loss: 0.4762 - val_accuracy: 0.7806\n",
      "Epoch 31/100\n",
      "313/313 [==============================] - 5s 16ms/step - loss: 0.4390 - accuracy: 0.8062 - val_loss: 0.4702 - val_accuracy: 0.7824\n",
      "Epoch 32/100\n",
      "313/313 [==============================] - 5s 16ms/step - loss: 0.4374 - accuracy: 0.8080 - val_loss: 0.4730 - val_accuracy: 0.7820\n",
      "Epoch 33/100\n",
      "313/313 [==============================] - 5s 15ms/step - loss: 0.4352 - accuracy: 0.8083 - val_loss: 0.4758 - val_accuracy: 0.7792\n",
      "Epoch 34/100\n",
      "313/313 [==============================] - 5s 15ms/step - loss: 0.4338 - accuracy: 0.8087 - val_loss: 0.4681 - val_accuracy: 0.7820\n",
      "Epoch 35/100\n",
      "313/313 [==============================] - 5s 15ms/step - loss: 0.4321 - accuracy: 0.8087 - val_loss: 0.4672 - val_accuracy: 0.7840\n",
      "Epoch 36/100\n",
      "313/313 [==============================] - 5s 15ms/step - loss: 0.4306 - accuracy: 0.8102 - val_loss: 0.4660 - val_accuracy: 0.7814\n",
      "Epoch 37/100\n",
      "313/313 [==============================] - 5s 16ms/step - loss: 0.4292 - accuracy: 0.8118 - val_loss: 0.4696 - val_accuracy: 0.7820\n",
      "Epoch 38/100\n",
      "313/313 [==============================] - 5s 15ms/step - loss: 0.4274 - accuracy: 0.8134 - val_loss: 0.4700 - val_accuracy: 0.7804\n",
      "Epoch 39/100\n",
      "313/313 [==============================] - 5s 15ms/step - loss: 0.4258 - accuracy: 0.8130 - val_loss: 0.4634 - val_accuracy: 0.7864\n",
      "Epoch 40/100\n",
      "313/313 [==============================] - 5s 15ms/step - loss: 0.4238 - accuracy: 0.8132 - val_loss: 0.4647 - val_accuracy: 0.7852\n",
      "Epoch 41/100\n",
      "313/313 [==============================] - 5s 15ms/step - loss: 0.4226 - accuracy: 0.8159 - val_loss: 0.4660 - val_accuracy: 0.7848\n",
      "Epoch 42/100\n",
      "313/313 [==============================] - 5s 15ms/step - loss: 0.4212 - accuracy: 0.8147 - val_loss: 0.4651 - val_accuracy: 0.7832\n"
     ]
    }
   ],
   "source": [
    "rmsprop = keras.optimizers.RMSprop(learning_rate=1e-4)\n",
    "model.compile(optimizer=rmsprop, loss='binary_crossentropy', metrics=['accuracy'])\n",
    "checkpoint_cb = keras.callbacks.ModelCheckpoint('best_simplernn_model.h5')\n",
    "early_stopping_cb = keras.callbacks.EarlyStopping(patience=3, restore_best_weights=True)\n",
    "history = model.fit(train_oh, train_target, epochs=100, batch_size=64,\n",
    "                    validation_data=(val_oh, val_target), callbacks=[checkpoint_cb, early_stopping_cb])"
   ]
  },
  {
   "cell_type": "code",
   "execution_count": 32,
   "metadata": {},
   "outputs": [
    {
     "data": {
      "image/png": "[encoded data removed]",
      "text/plain": [
       "<Figure size 432x288 with 1 Axes>"
      ]
     },
     "metadata": {
      "needs_background": "light"
     },
     "output_type": "display_data"
    }
   ],
   "source": [
    "plt.plot(history.history['loss'])\n",
    "plt.plot(history.history['val_loss'])\n",
    "plt.xlabel('epoch')\n",
    "plt.ylabel('loss')\n",
    "plt.legend(['train', 'val'])\n",
    "plt.show()"
   ]
  },
  {
   "cell_type": "code",
   "execution_count": 33,
   "metadata": {},
   "outputs": [
    {
     "name": "stdout",
     "output_type": "stream",
     "text": [
      "8000000 4000000000\n"
     ]
    }
   ],
   "source": [
    "print(train_seq.nbytes, train_oh.nbytes)"
   ]
  },
  {
   "cell_type": "code",
   "execution_count": 34,
   "metadata": {},
   "outputs": [],
   "source": [
    "model2 = keras.Sequential()\n",
    "model2.add(keras.layers.Embedding(500, 16, input_length=100))\n",
    "model2.add(keras.layers.SimpleRNN(8))\n",
    "model2.add(keras.layers.Dense(1, activation='sigmoid'))"
   ]
  },
  {
   "cell_type": "code",
   "execution_count": 35,
   "metadata": {},
   "outputs": [
    {
     "name": "stdout",
     "output_type": "stream",
     "text": [
      "Model: \"sequential_1\"\n",
      "_________________________________________________________________\n",
      " Layer (type)                Output Shape              Param #   \n",
      "=================================================================\n",
      " embedding (Embedding)       (None, 100, 16)           8000      \n",
      "                                                                 \n",
      " simple_rnn_1 (SimpleRNN)    (None, 8)                 200       \n",
      "                                                                 \n",
      " dense_1 (Dense)             (None, 1)                 9         \n",
      "                                                                 \n",
      "=================================================================\n",
      "Total params: 8,209\n",
      "Trainable params: 8,209\n",
      "Non-trainable params: 0\n",
      "_________________________________________________________________\n"
     ]
    }
   ],
   "source": [
    "model2.summary()"
   ]
  },
  {
   "cell_type": "code",
   "execution_count": 37,
   "metadata": {},
   "outputs": [
    {
     "name": "stdout",
     "output_type": "stream",
     "text": [
      "Epoch 1/100\n",
      "313/313 [==============================] - 4s 11ms/step - loss: 0.6803 - accuracy: 0.5536 - val_loss: 0.6416 - val_accuracy: 0.6508\n",
      "Epoch 2/100\n",
      "313/313 [==============================] - 3s 10ms/step - loss: 0.6115 - accuracy: 0.6904 - val_loss: 0.5927 - val_accuracy: 0.7060\n",
      "Epoch 3/100\n",
      "313/313 [==============================] - 3s 10ms/step - loss: 0.5698 - accuracy: 0.7354 - val_loss: 0.5681 - val_accuracy: 0.7274\n",
      "Epoch 4/100\n",
      "313/313 [==============================] - 3s 10ms/step - loss: 0.5400 - accuracy: 0.7587 - val_loss: 0.5373 - val_accuracy: 0.7478\n",
      "Epoch 5/100\n",
      "313/313 [==============================] - 3s 10ms/step - loss: 0.5157 - accuracy: 0.7730 - val_loss: 0.5292 - val_accuracy: 0.7454\n",
      "Epoch 6/100\n",
      "313/313 [==============================] - 3s 10ms/step - loss: 0.4988 - accuracy: 0.7812 - val_loss: 0.5052 - val_accuracy: 0.7662\n",
      "Epoch 7/100\n",
      "313/313 [==============================] - 3s 10ms/step - loss: 0.4878 - accuracy: 0.7855 - val_loss: 0.4964 - val_accuracy: 0.7782\n",
      "Epoch 8/100\n",
      "313/313 [==============================] - 3s 10ms/step - loss: 0.4772 - accuracy: 0.7904 - val_loss: 0.4909 - val_accuracy: 0.7712\n",
      "Epoch 9/100\n",
      "313/313 [==============================] - 3s 11ms/step - loss: 0.4684 - accuracy: 0.7950 - val_loss: 0.4874 - val_accuracy: 0.7704\n",
      "Epoch 10/100\n",
      "313/313 [==============================] - 3s 11ms/step - loss: 0.4600 - accuracy: 0.7988 - val_loss: 0.4799 - val_accuracy: 0.7780\n",
      "Epoch 11/100\n",
      "313/313 [==============================] - 3s 10ms/step - loss: 0.4548 - accuracy: 0.7994 - val_loss: 0.4762 - val_accuracy: 0.7788\n",
      "Epoch 12/100\n",
      "313/313 [==============================] - 3s 10ms/step - loss: 0.4499 - accuracy: 0.8018 - val_loss: 0.4756 - val_accuracy: 0.7786\n",
      "Epoch 13/100\n",
      "313/313 [==============================] - 3s 10ms/step - loss: 0.4452 - accuracy: 0.8043 - val_loss: 0.4744 - val_accuracy: 0.7776\n",
      "Epoch 14/100\n",
      "313/313 [==============================] - 3s 11ms/step - loss: 0.4419 - accuracy: 0.8066 - val_loss: 0.4710 - val_accuracy: 0.7796\n",
      "Epoch 15/100\n",
      "313/313 [==============================] - 3s 10ms/step - loss: 0.4388 - accuracy: 0.8084 - val_loss: 0.4646 - val_accuracy: 0.7828\n",
      "Epoch 16/100\n",
      "313/313 [==============================] - 3s 10ms/step - loss: 0.4361 - accuracy: 0.8099 - val_loss: 0.4658 - val_accuracy: 0.7844\n",
      "Epoch 17/100\n",
      "313/313 [==============================] - 3s 10ms/step - loss: 0.4311 - accuracy: 0.8130 - val_loss: 0.4619 - val_accuracy: 0.7864\n",
      "Epoch 18/100\n",
      "313/313 [==============================] - 3s 10ms/step - loss: 0.4304 - accuracy: 0.8117 - val_loss: 0.4734 - val_accuracy: 0.7806\n",
      "Epoch 19/100\n",
      "313/313 [==============================] - 3s 11ms/step - loss: 0.4271 - accuracy: 0.8158 - val_loss: 0.4613 - val_accuracy: 0.7820\n",
      "Epoch 20/100\n",
      "313/313 [==============================] - 3s 10ms/step - loss: 0.4258 - accuracy: 0.8156 - val_loss: 0.4575 - val_accuracy: 0.7864\n",
      "Epoch 21/100\n",
      "313/313 [==============================] - 3s 10ms/step - loss: 0.4228 - accuracy: 0.8164 - val_loss: 0.4572 - val_accuracy: 0.7846\n",
      "Epoch 22/100\n",
      "313/313 [==============================] - 3s 10ms/step - loss: 0.4212 - accuracy: 0.8164 - val_loss: 0.4593 - val_accuracy: 0.7832\n",
      "Epoch 23/100\n",
      "313/313 [==============================] - 3s 11ms/step - loss: 0.4177 - accuracy: 0.8196 - val_loss: 0.4552 - val_accuracy: 0.7856\n",
      "Epoch 24/100\n",
      "313/313 [==============================] - 3s 10ms/step - loss: 0.4166 - accuracy: 0.8178 - val_loss: 0.4626 - val_accuracy: 0.7854\n",
      "Epoch 25/100\n",
      "313/313 [==============================] - 3s 10ms/step - loss: 0.4148 - accuracy: 0.8190 - val_loss: 0.4534 - val_accuracy: 0.7934\n",
      "Epoch 26/100\n",
      "313/313 [==============================] - 3s 10ms/step - loss: 0.4123 - accuracy: 0.8217 - val_loss: 0.4560 - val_accuracy: 0.7864\n",
      "Epoch 27/100\n",
      "313/313 [==============================] - 3s 10ms/step - loss: 0.4104 - accuracy: 0.8214 - val_loss: 0.4518 - val_accuracy: 0.7912\n",
      "Epoch 28/100\n",
      "313/313 [==============================] - 3s 10ms/step - loss: 0.4083 - accuracy: 0.8245 - val_loss: 0.4605 - val_accuracy: 0.7870\n",
      "Epoch 29/100\n",
      "313/313 [==============================] - 3s 10ms/step - loss: 0.4068 - accuracy: 0.8267 - val_loss: 0.4547 - val_accuracy: 0.7890\n",
      "Epoch 30/100\n",
      "313/313 [==============================] - 3s 10ms/step - loss: 0.4053 - accuracy: 0.8252 - val_loss: 0.4524 - val_accuracy: 0.7922\n"
     ]
    }
   ],
   "source": [
    "rmsprop = keras.optimizers.RMSprop(learning_rate=1e-4)\n",
    "model2.compile(optimizer=rmsprop, loss='binary_crossentropy', metrics=['accuracy'])\n",
    "checkpoint_cb = keras.callbacks.ModelCheckpoint('best_embedding_model.h5')\n",
    "early_stopping_cb = keras.callbacks.EarlyStopping(patience=3, restore_best_weights=True)\n",
    "history = model2.fit(train_seq, train_target, epochs=100, batch_size=64,\n",
    "                     validation_data=(val_seq, val_target), callbacks=[checkpoint_cb, early_stopping_cb])"
   ]
  },
  {
   "cell_type": "code",
   "execution_count": 38,
   "metadata": {},
   "outputs": [
    {
     "data": {
      "image/png": "[encoded data removed]",
      "text/plain": [
       "<Figure size 432x288 with 1 Axes>"
      ]
     },
     "metadata": {
      "needs_background": "light"
     },
     "output_type": "display_data"
    }
   ],
   "source": [
    "plt.plot(history.history['loss'])\n",
    "plt.plot(history.history['val_loss'])\n",
    "plt.xlabel('epoch')\n",
    "plt.ylabel('loss')\n",
    "plt.legend(['train', 'val'])\n",
    "plt.show()"
   ]
  },
  {
   "cell_type": "code",
   "execution_count": 2,
   "metadata": {},
   "outputs": [],
   "source": [
    "from tensorflow.keras.datasets import imdb\n",
    "from sklearn.model_selection import train_test_split\n",
    "(train_input, train_target), (test_input, test_target) = imdb.load_data(num_words=500)\n",
    "train_input, val_input, train_target, val_target = train_test_split(\n",
    "    train_input, train_target, test_size=0.2, random_state=42)"
   ]
  },
  {
   "cell_type": "code",
   "execution_count": 3,
   "metadata": {},
   "outputs": [],
   "source": [
    "from tensorflow.keras.preprocessing.sequence  import pad_sequences\n",
    "train_seq = pad_sequences(train_input, maxlen=100)\n",
    "val_seq = pad_sequences(val_input, maxlen=100)"
   ]
  },
  {
   "cell_type": "code",
   "execution_count": 4,
   "metadata": {},
   "outputs": [],
   "source": [
    "from tensorflow import keras\n",
    "model = keras.Sequential()\n",
    "model.add(keras.layers.Embedding(500, 16, input_length=100))\n",
    "model.add(keras.layers.LSTM(8))\n",
    "model.add(keras.layers.Dense(1, activation='sigmoid'))"
   ]
  },
  {
   "cell_type": "code",
   "execution_count": 5,
   "metadata": {},
   "outputs": [
    {
     "name": "stdout",
     "output_type": "stream",
     "text": [
      "Model: \"sequential\"\n",
      "_________________________________________________________________\n",
      " Layer (type)                Output Shape              Param #   \n",
      "=================================================================\n",
      " embedding (Embedding)       (None, 100, 16)           8000      \n",
      "                                                                 \n",
      " lstm (LSTM)                 (None, 8)                 800       \n",
      "                                                                 \n",
      " dense (Dense)               (None, 1)                 9         \n",
      "                                                                 \n",
      "=================================================================\n",
      "Total params: 8,809\n",
      "Trainable params: 8,809\n",
      "Non-trainable params: 0\n",
      "_________________________________________________________________\n"
     ]
    }
   ],
   "source": [
    "model.summary()"
   ]
  },
  {
   "cell_type": "code",
   "execution_count": 7,
   "metadata": {},
   "outputs": [
    {
     "name": "stdout",
     "output_type": "stream",
     "text": [
      "Epoch 1/100\n",
      "313/313 [==============================] - 7s 17ms/step - loss: 0.6915 - accuracy: 0.5494 - val_loss: 0.6891 - val_accuracy: 0.6050\n",
      "Epoch 2/100\n",
      "313/313 [==============================] - 5s 16ms/step - loss: 0.6811 - accuracy: 0.6355 - val_loss: 0.6604 - val_accuracy: 0.6580\n",
      "Epoch 3/100\n",
      "313/313 [==============================] - 5s 16ms/step - loss: 0.6274 - accuracy: 0.6944 - val_loss: 0.6107 - val_accuracy: 0.6942\n",
      "Epoch 4/100\n",
      "313/313 [==============================] - 5s 16ms/step - loss: 0.5920 - accuracy: 0.7219 - val_loss: 0.5867 - val_accuracy: 0.7172\n",
      "Epoch 5/100\n",
      "313/313 [==============================] - 5s 16ms/step - loss: 0.5690 - accuracy: 0.7362 - val_loss: 0.5676 - val_accuracy: 0.7268\n",
      "Epoch 6/100\n",
      "313/313 [==============================] - 5s 17ms/step - loss: 0.5495 - accuracy: 0.7477 - val_loss: 0.5495 - val_accuracy: 0.7450\n",
      "Epoch 7/100\n",
      "313/313 [==============================] - 5s 17ms/step - loss: 0.5322 - accuracy: 0.7577 - val_loss: 0.5335 - val_accuracy: 0.7514\n",
      "Epoch 8/100\n",
      "313/313 [==============================] - 5s 17ms/step - loss: 0.5143 - accuracy: 0.7681 - val_loss: 0.5226 - val_accuracy: 0.7524\n",
      "Epoch 9/100\n",
      "313/313 [==============================] - 5s 17ms/step - loss: 0.4977 - accuracy: 0.7774 - val_loss: 0.5011 - val_accuracy: 0.7672\n",
      "Epoch 10/100\n",
      "313/313 [==============================] - 5s 17ms/step - loss: 0.4821 - accuracy: 0.7836 - val_loss: 0.4874 - val_accuracy: 0.7720\n",
      "Epoch 11/100\n",
      "313/313 [==============================] - 5s 17ms/step - loss: 0.4687 - accuracy: 0.7914 - val_loss: 0.4766 - val_accuracy: 0.7832\n",
      "Epoch 12/100\n",
      "313/313 [==============================] - 6s 18ms/step - loss: 0.4577 - accuracy: 0.7980 - val_loss: 0.4673 - val_accuracy: 0.7884\n",
      "Epoch 13/100\n",
      "313/313 [==============================] - 5s 17ms/step - loss: 0.4500 - accuracy: 0.8026 - val_loss: 0.4626 - val_accuracy: 0.7890\n",
      "Epoch 14/100\n",
      "313/313 [==============================] - 5s 17ms/step - loss: 0.4443 - accuracy: 0.8033 - val_loss: 0.4584 - val_accuracy: 0.7936\n",
      "Epoch 15/100\n",
      "313/313 [==============================] - 5s 17ms/step - loss: 0.4397 - accuracy: 0.8067 - val_loss: 0.4576 - val_accuracy: 0.7914\n",
      "Epoch 16/100\n",
      "313/313 [==============================] - 5s 17ms/step - loss: 0.4362 - accuracy: 0.8069 - val_loss: 0.4517 - val_accuracy: 0.7964\n",
      "Epoch 17/100\n",
      "313/313 [==============================] - 5s 17ms/step - loss: 0.4327 - accuracy: 0.8072 - val_loss: 0.4493 - val_accuracy: 0.7950\n",
      "Epoch 18/100\n",
      "313/313 [==============================] - 5s 17ms/step - loss: 0.4296 - accuracy: 0.8083 - val_loss: 0.4481 - val_accuracy: 0.7940\n",
      "Epoch 19/100\n",
      "313/313 [==============================] - 6s 18ms/step - loss: 0.4276 - accuracy: 0.8094 - val_loss: 0.4461 - val_accuracy: 0.7960\n",
      "Epoch 20/100\n",
      "313/313 [==============================] - 5s 17ms/step - loss: 0.4253 - accuracy: 0.8090 - val_loss: 0.4436 - val_accuracy: 0.8006\n",
      "Epoch 21/100\n",
      "313/313 [==============================] - 5s 17ms/step - loss: 0.4231 - accuracy: 0.8099 - val_loss: 0.4410 - val_accuracy: 0.8002\n",
      "Epoch 22/100\n",
      "313/313 [==============================] - 5s 17ms/step - loss: 0.4220 - accuracy: 0.8115 - val_loss: 0.4396 - val_accuracy: 0.7994\n",
      "Epoch 23/100\n",
      "313/313 [==============================] - 5s 17ms/step - loss: 0.4196 - accuracy: 0.8106 - val_loss: 0.4412 - val_accuracy: 0.7980\n",
      "Epoch 24/100\n",
      "313/313 [==============================] - 5s 17ms/step - loss: 0.4183 - accuracy: 0.8138 - val_loss: 0.4378 - val_accuracy: 0.8002\n",
      "Epoch 25/100\n",
      "313/313 [==============================] - 5s 17ms/step - loss: 0.4169 - accuracy: 0.8126 - val_loss: 0.4373 - val_accuracy: 0.8016\n",
      "Epoch 26/100\n",
      "313/313 [==============================] - 6s 18ms/step - loss: 0.4157 - accuracy: 0.8149 - val_loss: 0.4391 - val_accuracy: 0.7968\n",
      "Epoch 27/100\n",
      "313/313 [==============================] - 5s 17ms/step - loss: 0.4149 - accuracy: 0.8136 - val_loss: 0.4347 - val_accuracy: 0.8016\n",
      "Epoch 28/100\n",
      "313/313 [==============================] - 5s 17ms/step - loss: 0.4134 - accuracy: 0.8126 - val_loss: 0.4345 - val_accuracy: 0.8026\n",
      "Epoch 29/100\n",
      "313/313 [==============================] - 5s 17ms/step - loss: 0.4127 - accuracy: 0.8149 - val_loss: 0.4362 - val_accuracy: 0.7960\n",
      "Epoch 30/100\n",
      "313/313 [==============================] - 5s 17ms/step - loss: 0.4117 - accuracy: 0.8150 - val_loss: 0.4320 - val_accuracy: 0.8032\n",
      "Epoch 31/100\n",
      "313/313 [==============================] - 6s 18ms/step - loss: 0.4105 - accuracy: 0.8152 - val_loss: 0.4323 - val_accuracy: 0.8042\n",
      "Epoch 32/100\n",
      "313/313 [==============================] - 5s 17ms/step - loss: 0.4098 - accuracy: 0.8163 - val_loss: 0.4409 - val_accuracy: 0.8002\n",
      "Epoch 33/100\n",
      "313/313 [==============================] - 5s 17ms/step - loss: 0.4090 - accuracy: 0.8156 - val_loss: 0.4313 - val_accuracy: 0.8022\n",
      "Epoch 34/100\n",
      "313/313 [==============================] - 5s 17ms/step - loss: 0.4085 - accuracy: 0.8152 - val_loss: 0.4305 - val_accuracy: 0.8058\n",
      "Epoch 35/100\n",
      "313/313 [==============================] - 6s 18ms/step - loss: 0.4073 - accuracy: 0.8168 - val_loss: 0.4309 - val_accuracy: 0.8022\n",
      "Epoch 36/100\n",
      "313/313 [==============================] - 5s 17ms/step - loss: 0.4064 - accuracy: 0.8162 - val_loss: 0.4291 - val_accuracy: 0.8038\n",
      "Epoch 37/100\n",
      "313/313 [==============================] - 5s 17ms/step - loss: 0.4061 - accuracy: 0.8159 - val_loss: 0.4295 - val_accuracy: 0.8048\n",
      "Epoch 38/100\n",
      "313/313 [==============================] - 5s 17ms/step - loss: 0.4053 - accuracy: 0.8161 - val_loss: 0.4288 - val_accuracy: 0.8024\n",
      "Epoch 39/100\n",
      "313/313 [==============================] - 5s 17ms/step - loss: 0.4044 - accuracy: 0.8171 - val_loss: 0.4286 - val_accuracy: 0.8076\n",
      "Epoch 40/100\n",
      "313/313 [==============================] - 5s 17ms/step - loss: 0.4040 - accuracy: 0.8171 - val_loss: 0.4285 - val_accuracy: 0.8038\n",
      "Epoch 41/100\n",
      "313/313 [==============================] - 5s 18ms/step - loss: 0.4028 - accuracy: 0.8185 - val_loss: 0.4295 - val_accuracy: 0.8018\n",
      "Epoch 42/100\n",
      "313/313 [==============================] - 6s 18ms/step - loss: 0.4024 - accuracy: 0.8179 - val_loss: 0.4260 - val_accuracy: 0.8058\n",
      "Epoch 43/100\n",
      "313/313 [==============================] - 5s 18ms/step - loss: 0.4013 - accuracy: 0.8181 - val_loss: 0.4262 - val_accuracy: 0.8028\n",
      "Epoch 44/100\n",
      "313/313 [==============================] - 6s 18ms/step - loss: 0.4014 - accuracy: 0.8196 - val_loss: 0.4264 - val_accuracy: 0.8030\n",
      "Epoch 45/100\n",
      "313/313 [==============================] - 6s 18ms/step - loss: 0.4005 - accuracy: 0.8184 - val_loss: 0.4264 - val_accuracy: 0.8024\n"
     ]
    }
   ],
   "source": [
    "rmsprop = keras.optimizers.RMSprop(learning_rate=1e-4)\n",
    "model.compile(optimizer=rmsprop, loss='binary_crossentropy', metrics=['accuracy'])\n",
    "checkpoint_cb = keras.callbacks.ModelCheckpoint('best_lstm_model.h5')\n",
    "early_stopping_cb = keras.callbacks.EarlyStopping(patience=3, restore_best_weights=True)\n",
    "history = model.fit(train_seq, train_target, epochs=100, batch_size=64, \n",
    "                  validation_data=(val_seq, val_target), callbacks=[checkpoint_cb, early_stopping_cb])"
   ]
  },
  {
   "cell_type": "code",
   "execution_count": 8,
   "metadata": {},
   "outputs": [
    {
     "data": {
      "image/png": "[encoded data removed]",
      "text/plain": [
       "<Figure size 432x288 with 1 Axes>"
      ]
     },
     "metadata": {
      "needs_background": "light"
     },
     "output_type": "display_data"
    }
   ],
   "source": [
    "import matplotlib.pyplot as plt\n",
    "plt.plot(history.history['loss'])\n",
    "plt.plot(history.history['val_loss'])\n",
    "plt.xlabel('epoch')\n",
    "plt.ylabel('loss')\n",
    "plt.legend(['train', 'val'])\n",
    "plt.show()"
   ]
  },
  {
   "cell_type": "code",
   "execution_count": 9,
   "metadata": {},
   "outputs": [],
   "source": [
    "model2 = keras.Sequential()\n",
    "model2.add(keras.layers.Embedding(500, 16, input_length=100))\n",
    "model2.add(keras.layers.LSTM(8, dropout=0.3))\n",
    "model2.add(keras.layers.Dense(1, activation='sigmoid'))"
   ]
  },
  {
   "cell_type": "code",
   "execution_count": 10,
   "metadata": {},
   "outputs": [
    {
     "name": "stdout",
     "output_type": "stream",
     "text": [
      "Epoch 1/100\n",
      "313/313 [==============================] - 7s 18ms/step - loss: 0.6926 - accuracy: 0.5355 - val_loss: 0.6917 - val_accuracy: 0.5736\n",
      "Epoch 2/100\n",
      "313/313 [==============================] - 5s 17ms/step - loss: 0.6902 - accuracy: 0.5997 - val_loss: 0.6886 - val_accuracy: 0.6224\n",
      "Epoch 3/100\n",
      "313/313 [==============================] - 5s 17ms/step - loss: 0.6851 - accuracy: 0.6408 - val_loss: 0.6813 - val_accuracy: 0.6544\n",
      "Epoch 4/100\n",
      "313/313 [==============================] - 5s 17ms/step - loss: 0.6702 - accuracy: 0.6669 - val_loss: 0.6542 - val_accuracy: 0.6418\n",
      "Epoch 5/100\n",
      "313/313 [==============================] - 5s 17ms/step - loss: 0.6123 - accuracy: 0.6957 - val_loss: 0.5923 - val_accuracy: 0.7334\n",
      "Epoch 6/100\n",
      "313/313 [==============================] - 6s 18ms/step - loss: 0.5743 - accuracy: 0.7394 - val_loss: 0.5668 - val_accuracy: 0.7472\n",
      "Epoch 7/100\n",
      "313/313 [==============================] - 5s 17ms/step - loss: 0.5552 - accuracy: 0.7509 - val_loss: 0.5466 - val_accuracy: 0.7570\n",
      "Epoch 8/100\n",
      "313/313 [==============================] - 5s 17ms/step - loss: 0.5353 - accuracy: 0.7624 - val_loss: 0.5271 - val_accuracy: 0.7692\n",
      "Epoch 9/100\n",
      "313/313 [==============================] - 5s 17ms/step - loss: 0.5199 - accuracy: 0.7677 - val_loss: 0.5141 - val_accuracy: 0.7718\n",
      "Epoch 10/100\n",
      "313/313 [==============================] - 5s 17ms/step - loss: 0.5044 - accuracy: 0.7746 - val_loss: 0.4971 - val_accuracy: 0.7774\n",
      "Epoch 11/100\n",
      "313/313 [==============================] - 5s 17ms/step - loss: 0.4900 - accuracy: 0.7790 - val_loss: 0.4839 - val_accuracy: 0.7838\n",
      "Epoch 12/100\n",
      "313/313 [==============================] - 5s 17ms/step - loss: 0.4775 - accuracy: 0.7855 - val_loss: 0.4744 - val_accuracy: 0.7842\n",
      "Epoch 13/100\n",
      "313/313 [==============================] - 5s 17ms/step - loss: 0.4674 - accuracy: 0.7896 - val_loss: 0.4653 - val_accuracy: 0.7886\n",
      "Epoch 14/100\n",
      "313/313 [==============================] - 5s 17ms/step - loss: 0.4583 - accuracy: 0.7907 - val_loss: 0.4598 - val_accuracy: 0.7942\n",
      "Epoch 15/100\n",
      "313/313 [==============================] - 5s 17ms/step - loss: 0.4530 - accuracy: 0.7959 - val_loss: 0.4529 - val_accuracy: 0.7930\n",
      "Epoch 16/100\n",
      "313/313 [==============================] - 5s 17ms/step - loss: 0.4454 - accuracy: 0.7990 - val_loss: 0.4492 - val_accuracy: 0.7968\n",
      "Epoch 17/100\n",
      "313/313 [==============================] - 6s 18ms/step - loss: 0.4419 - accuracy: 0.7994 - val_loss: 0.4454 - val_accuracy: 0.7966\n",
      "Epoch 18/100\n",
      "313/313 [==============================] - 6s 18ms/step - loss: 0.4378 - accuracy: 0.8020 - val_loss: 0.4431 - val_accuracy: 0.7984\n",
      "Epoch 19/100\n",
      "313/313 [==============================] - 6s 18ms/step - loss: 0.4359 - accuracy: 0.8015 - val_loss: 0.4420 - val_accuracy: 0.7980\n",
      "Epoch 20/100\n",
      "313/313 [==============================] - 6s 18ms/step - loss: 0.4338 - accuracy: 0.8019 - val_loss: 0.4398 - val_accuracy: 0.7986\n",
      "Epoch 21/100\n",
      "313/313 [==============================] - 6s 18ms/step - loss: 0.4301 - accuracy: 0.8059 - val_loss: 0.4410 - val_accuracy: 0.8006\n",
      "Epoch 22/100\n",
      "313/313 [==============================] - 6s 18ms/step - loss: 0.4297 - accuracy: 0.8067 - val_loss: 0.4379 - val_accuracy: 0.8020\n",
      "Epoch 23/100\n",
      "313/313 [==============================] - 6s 18ms/step - loss: 0.4295 - accuracy: 0.8022 - val_loss: 0.4386 - val_accuracy: 0.7942\n",
      "Epoch 24/100\n",
      "313/313 [==============================] - 6s 18ms/step - loss: 0.4260 - accuracy: 0.8073 - val_loss: 0.4355 - val_accuracy: 0.8004\n",
      "Epoch 25/100\n",
      "313/313 [==============================] - 6s 18ms/step - loss: 0.4252 - accuracy: 0.8081 - val_loss: 0.4418 - val_accuracy: 0.7992\n",
      "Epoch 26/100\n",
      "313/313 [==============================] - 6s 18ms/step - loss: 0.4234 - accuracy: 0.8084 - val_loss: 0.4387 - val_accuracy: 0.8004\n",
      "Epoch 27/100\n",
      "313/313 [==============================] - 6s 18ms/step - loss: 0.4228 - accuracy: 0.8058 - val_loss: 0.4351 - val_accuracy: 0.7988\n",
      "Epoch 28/100\n",
      "313/313 [==============================] - 5s 17ms/step - loss: 0.4211 - accuracy: 0.8065 - val_loss: 0.4341 - val_accuracy: 0.8024\n",
      "Epoch 29/100\n",
      "313/313 [==============================] - 5s 17ms/step - loss: 0.4215 - accuracy: 0.8058 - val_loss: 0.4361 - val_accuracy: 0.7974\n",
      "Epoch 30/100\n",
      "313/313 [==============================] - 5s 17ms/step - loss: 0.4202 - accuracy: 0.8080 - val_loss: 0.4325 - val_accuracy: 0.8010\n",
      "Epoch 31/100\n",
      "313/313 [==============================] - 5s 17ms/step - loss: 0.4208 - accuracy: 0.8072 - val_loss: 0.4326 - val_accuracy: 0.8032\n",
      "Epoch 32/100\n",
      "313/313 [==============================] - 6s 18ms/step - loss: 0.4184 - accuracy: 0.8074 - val_loss: 0.4346 - val_accuracy: 0.8014\n",
      "Epoch 33/100\n",
      "313/313 [==============================] - 6s 18ms/step - loss: 0.4167 - accuracy: 0.8087 - val_loss: 0.4318 - val_accuracy: 0.8028\n",
      "Epoch 34/100\n",
      "313/313 [==============================] - 6s 18ms/step - loss: 0.4177 - accuracy: 0.8113 - val_loss: 0.4319 - val_accuracy: 0.8022\n",
      "Epoch 35/100\n",
      "313/313 [==============================] - 6s 18ms/step - loss: 0.4175 - accuracy: 0.8083 - val_loss: 0.4367 - val_accuracy: 0.8004\n",
      "Epoch 36/100\n",
      "313/313 [==============================] - 6s 18ms/step - loss: 0.4154 - accuracy: 0.8091 - val_loss: 0.4364 - val_accuracy: 0.8006\n"
     ]
    }
   ],
   "source": [
    "rmsprop = keras.optimizers.RMSprop(learning_rate=1e-4)\n",
    "model2.compile(optimizer=rmsprop, loss='binary_crossentropy', metrics=['accuracy'])\n",
    "checkpoint_cb = keras.callbacks.ModelCheckpoint('best_dropout_model.h5')\n",
    "early_stopping_cb = keras.callbacks.EarlyStopping(patience=3, restore_best_weights=True)\n",
    "history = model2.fit(train_seq, train_target, epochs=100, batch_size=64,\n",
    "                     validation_data=(val_seq, val_target), callbacks=[checkpoint_cb, early_stopping_cb])"
   ]
  },
  {
   "cell_type": "code",
   "execution_count": 11,
   "metadata": {},
   "outputs": [
    {
     "data": {
      "image/png": "[encoded data removed]",
      "text/plain": [
       "<Figure size 432x288 with 1 Axes>"
      ]
     },
     "metadata": {
      "needs_background": "light"
     },
     "output_type": "display_data"
    }
   ],
   "source": [
    "plt.plot(history.history['loss'])\n",
    "plt.plot(history.history['val_loss'])\n",
    "plt.xlabel('epoch')\n",
    "plt.ylabel('loss')\n",
    "plt.legend(['train', 'val'])\n",
    "plt.show()"
   ]
  },
  {
   "cell_type": "code",
   "execution_count": 14,
   "metadata": {},
   "outputs": [],
   "source": [
    "model3 = keras.Sequential()\n",
    "model3.add(keras.layers.Embedding(500, 16, input_length=100))\n",
    "model3.add(keras.layers.LSTM(8, dropout=0.3, return_sequences=True))\n",
    "model3.add(keras.layers.LSTM(8, dropout=0.3))\n",
    "model3.add(keras.layers.Dense(1, activation='sigmoid'))"
   ]
  },
  {
   "cell_type": "code",
   "execution_count": 15,
   "metadata": {},
   "outputs": [
    {
     "name": "stdout",
     "output_type": "stream",
     "text": [
      "Model: \"sequential_4\"\n",
      "_________________________________________________________________\n",
      " Layer (type)                Output Shape              Param #   \n",
      "=================================================================\n",
      " embedding_4 (Embedding)     (None, 100, 16)           8000      \n",
      "                                                                 \n",
      " lstm_3 (LSTM)               (None, 100, 8)            800       \n",
      "                                                                 \n",
      " lstm_4 (LSTM)               (None, 8)                 544       \n",
      "                                                                 \n",
      " dense_2 (Dense)             (None, 1)                 9         \n",
      "                                                                 \n",
      "=================================================================\n",
      "Total params: 9,353\n",
      "Trainable params: 9,353\n",
      "Non-trainable params: 0\n",
      "_________________________________________________________________\n"
     ]
    }
   ],
   "source": [
    "model3.summary()"
   ]
  },
  {
   "cell_type": "code",
   "execution_count": 16,
   "metadata": {},
   "outputs": [
    {
     "name": "stdout",
     "output_type": "stream",
     "text": [
      "Epoch 1/100\n",
      "313/313 [==============================] - 13s 35ms/step - loss: 0.6930 - accuracy: 0.5102 - val_loss: 0.6927 - val_accuracy: 0.5364\n",
      "Epoch 2/100\n",
      "313/313 [==============================] - 10s 32ms/step - loss: 0.6920 - accuracy: 0.5526 - val_loss: 0.6911 - val_accuracy: 0.6242\n",
      "Epoch 3/100\n",
      "313/313 [==============================] - 10s 32ms/step - loss: 0.6879 - accuracy: 0.6367 - val_loss: 0.6836 - val_accuracy: 0.6444\n",
      "Epoch 4/100\n",
      "313/313 [==============================] - 10s 32ms/step - loss: 0.6643 - accuracy: 0.6495 - val_loss: 0.6315 - val_accuracy: 0.6912\n",
      "Epoch 5/100\n",
      "313/313 [==============================] - 10s 32ms/step - loss: 0.5867 - accuracy: 0.7110 - val_loss: 0.5573 - val_accuracy: 0.7316\n",
      "Epoch 6/100\n",
      "313/313 [==============================] - 10s 33ms/step - loss: 0.5454 - accuracy: 0.7372 - val_loss: 0.5256 - val_accuracy: 0.7516\n",
      "Epoch 7/100\n",
      "313/313 [==============================] - 10s 33ms/step - loss: 0.5208 - accuracy: 0.7529 - val_loss: 0.5031 - val_accuracy: 0.7634\n",
      "Epoch 8/100\n",
      "313/313 [==============================] - 10s 33ms/step - loss: 0.5032 - accuracy: 0.7618 - val_loss: 0.4888 - val_accuracy: 0.7672\n",
      "Epoch 9/100\n",
      "313/313 [==============================] - 10s 33ms/step - loss: 0.4887 - accuracy: 0.7722 - val_loss: 0.4770 - val_accuracy: 0.7784\n",
      "Epoch 10/100\n",
      "313/313 [==============================] - 11s 34ms/step - loss: 0.4803 - accuracy: 0.7750 - val_loss: 0.4688 - val_accuracy: 0.7824\n",
      "Epoch 11/100\n",
      "313/313 [==============================] - 11s 34ms/step - loss: 0.4733 - accuracy: 0.7790 - val_loss: 0.4624 - val_accuracy: 0.7844\n",
      "Epoch 12/100\n",
      "313/313 [==============================] - 11s 34ms/step - loss: 0.4635 - accuracy: 0.7858 - val_loss: 0.4582 - val_accuracy: 0.7888\n",
      "Epoch 13/100\n",
      "313/313 [==============================] - 10s 33ms/step - loss: 0.4590 - accuracy: 0.7893 - val_loss: 0.4595 - val_accuracy: 0.7874\n",
      "Epoch 14/100\n",
      "313/313 [==============================] - 10s 33ms/step - loss: 0.4557 - accuracy: 0.7912 - val_loss: 0.4529 - val_accuracy: 0.7898\n",
      "Epoch 15/100\n",
      "313/313 [==============================] - 10s 33ms/step - loss: 0.4527 - accuracy: 0.7915 - val_loss: 0.4495 - val_accuracy: 0.7928\n",
      "Epoch 16/100\n",
      "313/313 [==============================] - 10s 33ms/step - loss: 0.4505 - accuracy: 0.7921 - val_loss: 0.4473 - val_accuracy: 0.7922\n",
      "Epoch 17/100\n",
      "313/313 [==============================] - 10s 33ms/step - loss: 0.4467 - accuracy: 0.7972 - val_loss: 0.4548 - val_accuracy: 0.7852\n",
      "Epoch 18/100\n",
      "313/313 [==============================] - 10s 33ms/step - loss: 0.4446 - accuracy: 0.7973 - val_loss: 0.4493 - val_accuracy: 0.7922\n",
      "Epoch 19/100\n",
      "313/313 [==============================] - 11s 34ms/step - loss: 0.4428 - accuracy: 0.7964 - val_loss: 0.4429 - val_accuracy: 0.7962\n",
      "Epoch 20/100\n",
      "313/313 [==============================] - 11s 34ms/step - loss: 0.4401 - accuracy: 0.7973 - val_loss: 0.4424 - val_accuracy: 0.7984\n",
      "Epoch 21/100\n",
      "313/313 [==============================] - 11s 34ms/step - loss: 0.4386 - accuracy: 0.7996 - val_loss: 0.4417 - val_accuracy: 0.7988\n",
      "Epoch 22/100\n",
      "313/313 [==============================] - 11s 34ms/step - loss: 0.4386 - accuracy: 0.7987 - val_loss: 0.4406 - val_accuracy: 0.7968\n",
      "Epoch 23/100\n",
      "313/313 [==============================] - 11s 34ms/step - loss: 0.4365 - accuracy: 0.8007 - val_loss: 0.4455 - val_accuracy: 0.7948\n",
      "Epoch 24/100\n",
      "313/313 [==============================] - 11s 34ms/step - loss: 0.4325 - accuracy: 0.8012 - val_loss: 0.4387 - val_accuracy: 0.7988\n",
      "Epoch 25/100\n",
      "313/313 [==============================] - 11s 35ms/step - loss: 0.4357 - accuracy: 0.8005 - val_loss: 0.4398 - val_accuracy: 0.7954\n",
      "Epoch 26/100\n",
      "313/313 [==============================] - 11s 35ms/step - loss: 0.4327 - accuracy: 0.8040 - val_loss: 0.4432 - val_accuracy: 0.7890\n",
      "Epoch 27/100\n",
      "313/313 [==============================] - 11s 34ms/step - loss: 0.4321 - accuracy: 0.8027 - val_loss: 0.4409 - val_accuracy: 0.7908\n"
     ]
    }
   ],
   "source": [
    "rmsprop = keras.optimizers.RMSprop(learning_rate=1e-4)\n",
    "model3.compile(optimizer=rmsprop, loss='binary_crossentropy', metrics=['accuracy'])\n",
    "checkpoint_cb = keras.callbacks.ModelCheckpoint('best_2rnn_model.h5')\n",
    "early_stopping_cb = keras.callbacks.EarlyStopping(patience=3, restore_best_weights=True)\n",
    "history = model3.fit(train_seq, train_target, epochs=100, batch_size=64,\n",
    "                     validation_data=(val_seq, val_target), callbacks=[checkpoint_cb, early_stopping_cb])"
   ]
  },
  {
   "cell_type": "code",
   "execution_count": 17,
   "metadata": {},
   "outputs": [
    {
     "data": {
      "image/png": "[encoded data removed]",
      "text/plain": [
       "<Figure size 432x288 with 1 Axes>"
      ]
     },
     "metadata": {
      "needs_background": "light"
     },
     "output_type": "display_data"
    }
   ],
   "source": [
    "plt.plot(history.history['loss'])\n",
    "plt.plot(history.history['val_loss'])\n",
    "plt.xlabel('epoch')\n",
    "plt.ylabel('loss')\n",
    "plt.legend(['train', 'val'])\n",
    "plt.show()"
   ]
  },
  {
   "cell_type": "code",
   "execution_count": 18,
   "metadata": {},
   "outputs": [],
   "source": [
    "model4 = keras.Sequential()\n",
    "model4.add(keras.layers.Embedding(500, 16, input_length=100))\n",
    "model4.add(keras.layers.GRU(8))\n",
    "model4.add(keras.layers.Dense(1, activation='sigmoid'))"
   ]
  },
  {
   "cell_type": "code",
   "execution_count": 19,
   "metadata": {},
   "outputs": [
    {
     "name": "stdout",
     "output_type": "stream",
     "text": [
      "Model: \"sequential_5\"\n",
      "_________________________________________________________________\n",
      " Layer (type)                Output Shape              Param #   \n",
      "=================================================================\n",
      " embedding_5 (Embedding)     (None, 100, 16)           8000      \n",
      "                                                                 \n",
      " gru (GRU)                   (None, 8)                 624       \n",
      "                                                                 \n",
      " dense_3 (Dense)             (None, 1)                 9         \n",
      "                                                                 \n",
      "=================================================================\n",
      "Total params: 8,633\n",
      "Trainable params: 8,633\n",
      "Non-trainable params: 0\n",
      "_________________________________________________________________\n"
     ]
    }
   ],
   "source": [
    "model4.summary()"
   ]
  },
  {
   "cell_type": "code",
   "execution_count": 20,
   "metadata": {},
   "outputs": [
    {
     "name": "stdout",
     "output_type": "stream",
     "text": [
      "Epoch 1/100\n",
      "313/313 [==============================] - 7s 20ms/step - loss: 0.6929 - accuracy: 0.5173 - val_loss: 0.6923 - val_accuracy: 0.5542\n",
      "Epoch 2/100\n",
      "313/313 [==============================] - 6s 19ms/step - loss: 0.6916 - accuracy: 0.5598 - val_loss: 0.6909 - val_accuracy: 0.5662\n",
      "Epoch 3/100\n",
      "313/313 [==============================] - 6s 20ms/step - loss: 0.6895 - accuracy: 0.5857 - val_loss: 0.6884 - val_accuracy: 0.5814\n",
      "Epoch 4/100\n",
      "313/313 [==============================] - 6s 19ms/step - loss: 0.6859 - accuracy: 0.6025 - val_loss: 0.6843 - val_accuracy: 0.5924\n",
      "Epoch 5/100\n",
      "313/313 [==============================] - 6s 19ms/step - loss: 0.6804 - accuracy: 0.6124 - val_loss: 0.6782 - val_accuracy: 0.6012\n",
      "Epoch 6/100\n",
      "313/313 [==============================] - 6s 19ms/step - loss: 0.6722 - accuracy: 0.6278 - val_loss: 0.6692 - val_accuracy: 0.6134\n",
      "Epoch 7/100\n",
      "313/313 [==============================] - 6s 18ms/step - loss: 0.6602 - accuracy: 0.6406 - val_loss: 0.6561 - val_accuracy: 0.6304\n",
      "Epoch 8/100\n",
      "313/313 [==============================] - 6s 18ms/step - loss: 0.6421 - accuracy: 0.6573 - val_loss: 0.6362 - val_accuracy: 0.6524\n",
      "Epoch 9/100\n",
      "313/313 [==============================] - 6s 18ms/step - loss: 0.6128 - accuracy: 0.6804 - val_loss: 0.6010 - val_accuracy: 0.6856\n",
      "Epoch 10/100\n",
      "313/313 [==============================] - 6s 18ms/step - loss: 0.5624 - accuracy: 0.7191 - val_loss: 0.5463 - val_accuracy: 0.7312\n",
      "Epoch 11/100\n",
      "313/313 [==============================] - 6s 18ms/step - loss: 0.5206 - accuracy: 0.7491 - val_loss: 0.5242 - val_accuracy: 0.7444\n",
      "Epoch 12/100\n",
      "313/313 [==============================] - 6s 19ms/step - loss: 0.5042 - accuracy: 0.7610 - val_loss: 0.5117 - val_accuracy: 0.7556\n",
      "Epoch 13/100\n",
      "313/313 [==============================] - 6s 19ms/step - loss: 0.4918 - accuracy: 0.7682 - val_loss: 0.5012 - val_accuracy: 0.7618\n",
      "Epoch 14/100\n",
      "313/313 [==============================] - 6s 19ms/step - loss: 0.4818 - accuracy: 0.7748 - val_loss: 0.4926 - val_accuracy: 0.7702\n",
      "Epoch 15/100\n",
      "313/313 [==============================] - 6s 19ms/step - loss: 0.4735 - accuracy: 0.7812 - val_loss: 0.4859 - val_accuracy: 0.7706\n",
      "Epoch 16/100\n",
      "313/313 [==============================] - 6s 19ms/step - loss: 0.4667 - accuracy: 0.7878 - val_loss: 0.4808 - val_accuracy: 0.7726\n",
      "Epoch 17/100\n",
      "313/313 [==============================] - 6s 18ms/step - loss: 0.4603 - accuracy: 0.7890 - val_loss: 0.4767 - val_accuracy: 0.7762\n",
      "Epoch 18/100\n",
      "313/313 [==============================] - 6s 18ms/step - loss: 0.4555 - accuracy: 0.7923 - val_loss: 0.4716 - val_accuracy: 0.7792\n",
      "Epoch 19/100\n",
      "313/313 [==============================] - 6s 18ms/step - loss: 0.4509 - accuracy: 0.7962 - val_loss: 0.4678 - val_accuracy: 0.7802\n",
      "Epoch 20/100\n",
      "313/313 [==============================] - 6s 18ms/step - loss: 0.4465 - accuracy: 0.7987 - val_loss: 0.4664 - val_accuracy: 0.7836\n",
      "Epoch 21/100\n",
      "313/313 [==============================] - 6s 18ms/step - loss: 0.4429 - accuracy: 0.8018 - val_loss: 0.4633 - val_accuracy: 0.7854\n",
      "Epoch 22/100\n",
      "313/313 [==============================] - 6s 18ms/step - loss: 0.4399 - accuracy: 0.8045 - val_loss: 0.4605 - val_accuracy: 0.7862\n",
      "Epoch 23/100\n",
      "313/313 [==============================] - 6s 18ms/step - loss: 0.4375 - accuracy: 0.8050 - val_loss: 0.4603 - val_accuracy: 0.7872\n",
      "Epoch 24/100\n",
      "313/313 [==============================] - 6s 18ms/step - loss: 0.4347 - accuracy: 0.8065 - val_loss: 0.4597 - val_accuracy: 0.7878\n",
      "Epoch 25/100\n",
      "313/313 [==============================] - 6s 18ms/step - loss: 0.4329 - accuracy: 0.8077 - val_loss: 0.4557 - val_accuracy: 0.7874\n",
      "Epoch 26/100\n",
      "313/313 [==============================] - 6s 18ms/step - loss: 0.4306 - accuracy: 0.8092 - val_loss: 0.4572 - val_accuracy: 0.7890\n",
      "Epoch 27/100\n",
      "313/313 [==============================] - 6s 18ms/step - loss: 0.4289 - accuracy: 0.8084 - val_loss: 0.4550 - val_accuracy: 0.7864\n",
      "Epoch 28/100\n",
      "313/313 [==============================] - 6s 19ms/step - loss: 0.4275 - accuracy: 0.8092 - val_loss: 0.4530 - val_accuracy: 0.7894\n",
      "Epoch 29/100\n",
      "313/313 [==============================] - 6s 20ms/step - loss: 0.4259 - accuracy: 0.8111 - val_loss: 0.4519 - val_accuracy: 0.7882\n",
      "Epoch 30/100\n",
      "313/313 [==============================] - 6s 20ms/step - loss: 0.4245 - accuracy: 0.8117 - val_loss: 0.4511 - val_accuracy: 0.7898\n",
      "Epoch 31/100\n",
      "313/313 [==============================] - 6s 19ms/step - loss: 0.4235 - accuracy: 0.8120 - val_loss: 0.4531 - val_accuracy: 0.7890\n",
      "Epoch 32/100\n",
      "313/313 [==============================] - 6s 18ms/step - loss: 0.4226 - accuracy: 0.8129 - val_loss: 0.4501 - val_accuracy: 0.7888\n",
      "Epoch 33/100\n",
      "313/313 [==============================] - 6s 18ms/step - loss: 0.4214 - accuracy: 0.8141 - val_loss: 0.4495 - val_accuracy: 0.7916\n",
      "Epoch 34/100\n",
      "313/313 [==============================] - 6s 18ms/step - loss: 0.4204 - accuracy: 0.8138 - val_loss: 0.4491 - val_accuracy: 0.7910\n",
      "Epoch 35/100\n",
      "313/313 [==============================] - 6s 19ms/step - loss: 0.4197 - accuracy: 0.8151 - val_loss: 0.4478 - val_accuracy: 0.7912\n",
      "Epoch 36/100\n",
      "313/313 [==============================] - 6s 19ms/step - loss: 0.4186 - accuracy: 0.8151 - val_loss: 0.4481 - val_accuracy: 0.7922\n",
      "Epoch 37/100\n",
      "313/313 [==============================] - 6s 18ms/step - loss: 0.4179 - accuracy: 0.8151 - val_loss: 0.4540 - val_accuracy: 0.7868\n",
      "Epoch 38/100\n",
      "313/313 [==============================] - 6s 18ms/step - loss: 0.4176 - accuracy: 0.8149 - val_loss: 0.4459 - val_accuracy: 0.7902\n",
      "Epoch 39/100\n",
      "313/313 [==============================] - 6s 18ms/step - loss: 0.4169 - accuracy: 0.8165 - val_loss: 0.4458 - val_accuracy: 0.7936\n",
      "Epoch 40/100\n",
      "313/313 [==============================] - 6s 18ms/step - loss: 0.4160 - accuracy: 0.8149 - val_loss: 0.4468 - val_accuracy: 0.7940\n",
      "Epoch 41/100\n",
      "313/313 [==============================] - 6s 18ms/step - loss: 0.4153 - accuracy: 0.8164 - val_loss: 0.4438 - val_accuracy: 0.7912\n",
      "Epoch 42/100\n",
      "313/313 [==============================] - 6s 18ms/step - loss: 0.4144 - accuracy: 0.8181 - val_loss: 0.4473 - val_accuracy: 0.7954\n",
      "Epoch 43/100\n",
      "313/313 [==============================] - 6s 18ms/step - loss: 0.4143 - accuracy: 0.8162 - val_loss: 0.4435 - val_accuracy: 0.7960\n",
      "Epoch 44/100\n",
      "313/313 [==============================] - 6s 18ms/step - loss: 0.4139 - accuracy: 0.8170 - val_loss: 0.4436 - val_accuracy: 0.7924\n",
      "Epoch 45/100\n",
      "313/313 [==============================] - 6s 19ms/step - loss: 0.4135 - accuracy: 0.8163 - val_loss: 0.4418 - val_accuracy: 0.7950\n",
      "Epoch 46/100\n",
      "313/313 [==============================] - 6s 18ms/step - loss: 0.4132 - accuracy: 0.8164 - val_loss: 0.4414 - val_accuracy: 0.7966\n",
      "Epoch 47/100\n",
      "313/313 [==============================] - 6s 18ms/step - loss: 0.4123 - accuracy: 0.8171 - val_loss: 0.4414 - val_accuracy: 0.7938\n",
      "Epoch 48/100\n",
      "313/313 [==============================] - 6s 18ms/step - loss: 0.4120 - accuracy: 0.8160 - val_loss: 0.4409 - val_accuracy: 0.7962\n",
      "Epoch 49/100\n",
      "313/313 [==============================] - 6s 19ms/step - loss: 0.4117 - accuracy: 0.8174 - val_loss: 0.4411 - val_accuracy: 0.7932\n",
      "Epoch 50/100\n",
      "313/313 [==============================] - 6s 18ms/step - loss: 0.4113 - accuracy: 0.8176 - val_loss: 0.4443 - val_accuracy: 0.7892\n",
      "Epoch 51/100\n",
      "313/313 [==============================] - 6s 18ms/step - loss: 0.4110 - accuracy: 0.8166 - val_loss: 0.4403 - val_accuracy: 0.7928\n",
      "Epoch 52/100\n",
      "313/313 [==============================] - 6s 18ms/step - loss: 0.4101 - accuracy: 0.8174 - val_loss: 0.4396 - val_accuracy: 0.7930\n",
      "Epoch 53/100\n",
      "313/313 [==============================] - 6s 19ms/step - loss: 0.4102 - accuracy: 0.8177 - val_loss: 0.4416 - val_accuracy: 0.7924\n",
      "Epoch 54/100\n",
      "313/313 [==============================] - 6s 18ms/step - loss: 0.4094 - accuracy: 0.8180 - val_loss: 0.4373 - val_accuracy: 0.7984\n",
      "Epoch 55/100\n",
      "313/313 [==============================] - 6s 18ms/step - loss: 0.4095 - accuracy: 0.8176 - val_loss: 0.4378 - val_accuracy: 0.7964\n",
      "Epoch 56/100\n",
      "313/313 [==============================] - 6s 18ms/step - loss: 0.4089 - accuracy: 0.8183 - val_loss: 0.4383 - val_accuracy: 0.7994\n",
      "Epoch 57/100\n",
      "313/313 [==============================] - 6s 19ms/step - loss: 0.4087 - accuracy: 0.8185 - val_loss: 0.4366 - val_accuracy: 0.7992\n",
      "Epoch 58/100\n",
      "313/313 [==============================] - 8s 25ms/step - loss: 0.4083 - accuracy: 0.8170 - val_loss: 0.4362 - val_accuracy: 0.8000\n",
      "Epoch 59/100\n",
      "313/313 [==============================] - 8s 25ms/step - loss: 0.4078 - accuracy: 0.8182 - val_loss: 0.4383 - val_accuracy: 0.7986\n",
      "Epoch 60/100\n",
      "313/313 [==============================] - 7s 24ms/step - loss: 0.4079 - accuracy: 0.8187 - val_loss: 0.4355 - val_accuracy: 0.7992\n",
      "Epoch 61/100\n",
      "313/313 [==============================] - 7s 23ms/step - loss: 0.4072 - accuracy: 0.8184 - val_loss: 0.4348 - val_accuracy: 0.8012\n",
      "Epoch 62/100\n",
      "313/313 [==============================] - 7s 23ms/step - loss: 0.4068 - accuracy: 0.8190 - val_loss: 0.4358 - val_accuracy: 0.8012\n",
      "Epoch 63/100\n",
      "313/313 [==============================] - 7s 23ms/step - loss: 0.4066 - accuracy: 0.8170 - val_loss: 0.4346 - val_accuracy: 0.8024\n",
      "Epoch 64/100\n",
      "313/313 [==============================] - 7s 23ms/step - loss: 0.4063 - accuracy: 0.8191 - val_loss: 0.4355 - val_accuracy: 0.8002\n",
      "Epoch 65/100\n",
      "313/313 [==============================] - 7s 23ms/step - loss: 0.4059 - accuracy: 0.8189 - val_loss: 0.4372 - val_accuracy: 0.8006\n",
      "Epoch 66/100\n",
      "313/313 [==============================] - 7s 23ms/step - loss: 0.4059 - accuracy: 0.8189 - val_loss: 0.4332 - val_accuracy: 0.8042\n",
      "Epoch 67/100\n",
      "313/313 [==============================] - 7s 23ms/step - loss: 0.4054 - accuracy: 0.8188 - val_loss: 0.4329 - val_accuracy: 0.8024\n",
      "Epoch 68/100\n",
      "313/313 [==============================] - 7s 23ms/step - loss: 0.4051 - accuracy: 0.8188 - val_loss: 0.4328 - val_accuracy: 0.8010\n",
      "Epoch 69/100\n",
      "313/313 [==============================] - 7s 21ms/step - loss: 0.4050 - accuracy: 0.8191 - val_loss: 0.4330 - val_accuracy: 0.8030\n",
      "Epoch 70/100\n",
      "313/313 [==============================] - 6s 19ms/step - loss: 0.4043 - accuracy: 0.8199 - val_loss: 0.4322 - val_accuracy: 0.8042\n",
      "Epoch 71/100\n",
      "313/313 [==============================] - 7s 21ms/step - loss: 0.4043 - accuracy: 0.8185 - val_loss: 0.4335 - val_accuracy: 0.7958\n",
      "Epoch 72/100\n",
      "313/313 [==============================] - 6s 19ms/step - loss: 0.4041 - accuracy: 0.8182 - val_loss: 0.4319 - val_accuracy: 0.8028\n",
      "Epoch 73/100\n",
      "313/313 [==============================] - 6s 19ms/step - loss: 0.4033 - accuracy: 0.8199 - val_loss: 0.4342 - val_accuracy: 0.7958\n",
      "Epoch 74/100\n",
      "313/313 [==============================] - 6s 19ms/step - loss: 0.4033 - accuracy: 0.8188 - val_loss: 0.4318 - val_accuracy: 0.8022\n",
      "Epoch 75/100\n",
      "313/313 [==============================] - 6s 20ms/step - loss: 0.4030 - accuracy: 0.8188 - val_loss: 0.4312 - val_accuracy: 0.8058\n",
      "Epoch 76/100\n",
      "313/313 [==============================] - 6s 19ms/step - loss: 0.4028 - accuracy: 0.8191 - val_loss: 0.4306 - val_accuracy: 0.8048\n",
      "Epoch 77/100\n",
      "313/313 [==============================] - 6s 20ms/step - loss: 0.4023 - accuracy: 0.8188 - val_loss: 0.4310 - val_accuracy: 0.8010\n",
      "Epoch 78/100\n",
      "313/313 [==============================] - 6s 19ms/step - loss: 0.4019 - accuracy: 0.8192 - val_loss: 0.4299 - val_accuracy: 0.8028\n",
      "Epoch 79/100\n",
      "313/313 [==============================] - 6s 19ms/step - loss: 0.4016 - accuracy: 0.8200 - val_loss: 0.4296 - val_accuracy: 0.8060\n",
      "Epoch 80/100\n",
      "313/313 [==============================] - 6s 19ms/step - loss: 0.4016 - accuracy: 0.8198 - val_loss: 0.4295 - val_accuracy: 0.8062\n",
      "Epoch 81/100\n",
      "313/313 [==============================] - 6s 19ms/step - loss: 0.4011 - accuracy: 0.8202 - val_loss: 0.4286 - val_accuracy: 0.8058\n",
      "Epoch 82/100\n",
      "313/313 [==============================] - 6s 19ms/step - loss: 0.4006 - accuracy: 0.8208 - val_loss: 0.4283 - val_accuracy: 0.8048\n",
      "Epoch 83/100\n",
      "313/313 [==============================] - 6s 19ms/step - loss: 0.4005 - accuracy: 0.8207 - val_loss: 0.4295 - val_accuracy: 0.8056\n",
      "Epoch 84/100\n",
      "313/313 [==============================] - 6s 19ms/step - loss: 0.4000 - accuracy: 0.8203 - val_loss: 0.4284 - val_accuracy: 0.8058\n",
      "Epoch 85/100\n",
      "313/313 [==============================] - 6s 19ms/step - loss: 0.4000 - accuracy: 0.8205 - val_loss: 0.4291 - val_accuracy: 0.8054\n"
     ]
    }
   ],
   "source": [
    "rmsprop = keras.optimizers.RMSprop(learning_rate=1e-4)\n",
    "model4.compile(optimizer=rmsprop, loss='binary_crossentropy', metrics=['accuracy'])\n",
    "checkpoint_cb = keras.callbacks.ModelCheckpoint('best_gru_model.h5')\n",
    "early_stopping_cb = keras.callbacks.EarlyStopping(patience=3, restore_best_weights=True)\n",
    "history = model4.fit(train_seq, train_target, epochs=100, batch_size=64,\n",
    "                     validation_data=(val_seq, val_target), callbacks=[checkpoint_cb, early_stopping_cb])"
   ]
  },
  {
   "cell_type": "code",
   "execution_count": 21,
   "metadata": {},
   "outputs": [
    {
     "data": {
      "image/png": "[encoded data removed]",
      "text/plain": [
       "<Figure size 432x288 with 1 Axes>"
      ]
     },
     "metadata": {
      "needs_background": "light"
     },
     "output_type": "display_data"
    }
   ],
   "source": [
    "plt.plot(history.history['loss'])\n",
    "plt.plot(history.history['val_loss'])\n",
    "plt.xlabel('epoch')\n",
    "plt.ylabel('loss')\n",
    "plt.legend(['train', 'val'])\n",
    "plt.show()"
   ]
  },
  {
   "cell_type": "code",
   "execution_count": 23,
   "metadata": {},
   "outputs": [
    {
     "name": "stdout",
     "output_type": "stream",
     "text": [
      "782/782 [==============================] - 6s 7ms/step - loss: 0.4381 - accuracy: 0.7960\n"
     ]
    },
    {
     "data": {
      "text/plain": [
       "[0.4381219148635864, 0.7960000038146973]"
      ]
     },
     "execution_count": 23,
     "metadata": {},
     "output_type": "execute_result"
    }
   ],
   "source": [
    "test_seq = pad_sequences(test_input, maxlen=100)\n",
    "rnn_model = keras.models.load_model('best_2rnn_model.h5')\n",
    "rnn_model.evaluate(test_seq, test_target)"
   ]
  },
  {
   "cell_type": "code",
   "execution_count": null,
   "metadata": {},
   "outputs": [],
   "source": []
  }
 ],
 "metadata": {
  "kernelspec": {
   "display_name": "Python 3.10.2 64-bit",
   "language": "python",
   "name": "python3"
  },
  "language_info": {
   "codemirror_mode": {
    "name": "ipython",
    "version": 3
   },
   "file_extension": ".py",
   "mimetype": "text/x-python",
   "name": "python",
   "nbconvert_exporter": "python",
   "pygments_lexer": "ipython3",
   "version": "3.10.2"
  },
  "orig_nbformat": 4,
  "vscode": {
   "interpreter": {
    "hash": "bf74378b3249af5359f07a9caa84b7a763805fcaf59590a4dc4a6d39ea6824f2"
   }
  }
 },
 "nbformat": 4,
 "nbformat_minor": 2
}
